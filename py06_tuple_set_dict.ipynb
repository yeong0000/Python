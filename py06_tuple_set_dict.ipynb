{
  "nbformat": 4,
  "nbformat_minor": 0,
  "metadata": {
    "colab": {
      "provenance": [],
      "authorship_tag": "ABX9TyM+rEZ1y3Q2W6m1oSFMt4UL",
      "include_colab_link": true
    },
    "kernelspec": {
      "name": "python3",
      "display_name": "Python 3"
    },
    "language_info": {
      "name": "python"
    }
  },
  "cells": [
    {
      "cell_type": "markdown",
      "metadata": {
        "id": "view-in-github",
        "colab_type": "text"
      },
      "source": [
        "<a href=\"https://colab.research.google.com/github/yeong0000/Python/blob/main/py06_tuple_set_dict.ipynb\" target=\"_parent\"><img src=\"https://colab.research.google.com/assets/colab-badge.svg\" alt=\"Open In Colab\"/></a>"
      ]
    },
    {
      "cell_type": "markdown",
      "source": [
        "# tuple(튜플)\n",
        "\n",
        "* 하나의 변수에 여러 개의 값들을 저장하기 위한 자료 타입.\n",
        "* 저장된 원소(아이템)들을 변경할 수 없는 리스트.\n",
        "  * `append()`, `remove()`와 같은 원소를 변경하는 메서드(기능)은 제공하지 않음.\n",
        "* 인덱스 기반 자료 타입\n",
        "  * indexing, slicing\n",
        "  * 음수 인덱스도 사용 가능"
      ],
      "metadata": {
        "id": "d3p17FYOr5Pf"
      }
    },
    {
      "cell_type": "code",
      "source": [
        "# 숫자들을 저장하는 튜플\n",
        "numbers = (1, 2, 10, 20, 100, 200)\n",
        "numbers"
      ],
      "metadata": {
        "colab": {
          "base_uri": "https://localhost:8080/"
        },
        "id": "qIeEYgK_r8zH",
        "outputId": "2212671c-8f95-4e9f-fa12-3f69ad5e7324"
      },
      "execution_count": null,
      "outputs": [
        {
          "output_type": "execute_result",
          "data": {
            "text/plain": [
              "(1, 2, 10, 20, 100, 200)"
            ]
          },
          "metadata": {},
          "execution_count": 1
        }
      ]
    },
    {
      "cell_type": "code",
      "source": [
        "type(numbers)"
      ],
      "metadata": {
        "id": "2RdbTl3qr-uO"
      },
      "execution_count": null,
      "outputs": []
    },
    {
      "cell_type": "markdown",
      "source": [
        "indexing: 인덱스를 사용해서 원소 1개를 참조하는 방법"
      ],
      "metadata": {
        "id": "73UrbQuFsA0H"
      }
    },
    {
      "cell_type": "code",
      "source": [
        "numbers[0] # 튜플의 첫번째 원소"
      ],
      "metadata": {
        "id": "zElyXJLwsCX9"
      },
      "execution_count": null,
      "outputs": []
    },
    {
      "cell_type": "code",
      "source": [
        "numbers[-1] # 튜플의 마지막 원소"
      ],
      "metadata": {
        "id": "x7O4kxDVsEsv"
      },
      "execution_count": null,
      "outputs": []
    },
    {
      "cell_type": "markdown",
      "source": [
        "slicing: 자르기. 부분집합."
      ],
      "metadata": {
        "id": "i01JGVebsI7m"
      }
    },
    {
      "cell_type": "code",
      "source": [
        "numbers[:3] # 튜플에서 첫 3개의 원소들을 잘라내기. [start:end) 범위."
      ],
      "metadata": {
        "id": "xd1z1mBEsKZ2"
      },
      "execution_count": null,
      "outputs": []
    },
    {
      "cell_type": "code",
      "source": [
        "numbers[-3:]  # 튜플에서 마지막 3개의 원소들을 잘라내기."
      ],
      "metadata": {
        "id": "_OO0rKAbsK9n"
      },
      "execution_count": null,
      "outputs": []
    },
    {
      "cell_type": "markdown",
      "source": [
        "# decomposition(분해)"
      ],
      "metadata": {
        "id": "ghSPWwofsNr-"
      }
    },
    {
      "cell_type": "code",
      "source": [
        "odds = (1, 3, 5)\n",
        "a = odds[0]\n",
        "b = odds[1]\n",
        "c = odds[2]\n",
        "print(a, b, c)"
      ],
      "metadata": {
        "colab": {
          "base_uri": "https://localhost:8080/"
        },
        "id": "lEuDMwWgsPNW",
        "outputId": "b2a83e7f-686f-44d8-af30-305d4c0efd85"
      },
      "execution_count": null,
      "outputs": [
        {
          "output_type": "stream",
          "name": "stdout",
          "text": [
            "1 3 5\n"
          ]
        }
      ]
    },
    {
      "cell_type": "code",
      "source": [
        "x, y, z = (1, 3, 5)\n",
        "print(x, y, z)"
      ],
      "metadata": {
        "colab": {
          "base_uri": "https://localhost:8080/"
        },
        "id": "fV0LQorIsQ32",
        "outputId": "f5334545-9a72-4eb1-9420-dc145b7c9267"
      },
      "execution_count": null,
      "outputs": [
        {
          "output_type": "stream",
          "name": "stdout",
          "text": [
            "1 3 5\n"
          ]
        }
      ]
    },
    {
      "cell_type": "markdown",
      "source": [
        "# tuple & for"
      ],
      "metadata": {
        "id": "nhNIW2g-sSdG"
      }
    },
    {
      "cell_type": "code",
      "source": [
        "for x in odds:\n",
        "    print(x)"
      ],
      "metadata": {
        "colab": {
          "base_uri": "https://localhost:8080/"
        },
        "id": "955iuAQFsT0v",
        "outputId": "485fe7d6-d1a5-43d8-bb9e-9fe03839130f"
      },
      "execution_count": null,
      "outputs": [
        {
          "output_type": "stream",
          "name": "stdout",
          "text": [
            "1\n",
            "3\n",
            "5\n"
          ]
        }
      ]
    },
    {
      "cell_type": "markdown",
      "source": [
        "# 2차원 리스트/튜플"
      ],
      "metadata": {
        "id": "5c1p7vPnsc_-"
      }
    },
    {
      "cell_type": "code",
      "source": [
        "numbers = [\n",
        "    [1, 2, 3],\n",
        "    [4, 5, 6]\n",
        "]\n",
        "numbers"
      ],
      "metadata": {
        "colab": {
          "base_uri": "https://localhost:8080/"
        },
        "id": "HkjML-PDseUe",
        "outputId": "09bfb9c9-848e-43b2-d909-8530a5afd828"
      },
      "execution_count": null,
      "outputs": [
        {
          "output_type": "execute_result",
          "data": {
            "text/plain": [
              "[[1, 2, 3], [4, 5, 6]]"
            ]
          },
          "metadata": {},
          "execution_count": 6
        }
      ]
    },
    {
      "cell_type": "code",
      "source": [
        "len(numbers)  # 2차원 리스트 numbers의 원소 개수"
      ],
      "metadata": {
        "colab": {
          "base_uri": "https://localhost:8080/"
        },
        "id": "aKQSFN7tsgbe",
        "outputId": "90dc8665-768e-4155-e016-f9310ef608ed"
      },
      "execution_count": null,
      "outputs": [
        {
          "output_type": "execute_result",
          "data": {
            "text/plain": [
              "2"
            ]
          },
          "metadata": {},
          "execution_count": 7
        }
      ]
    },
    {
      "cell_type": "code",
      "source": [
        "numbers[0]"
      ],
      "metadata": {
        "id": "w4_8dnKPshce"
      },
      "execution_count": null,
      "outputs": []
    },
    {
      "cell_type": "code",
      "source": [
        "numbers[0][0]"
      ],
      "metadata": {
        "colab": {
          "base_uri": "https://localhost:8080/"
        },
        "id": "SboVJq6hsjBu",
        "outputId": "5683f02a-985c-4939-d859-7199606e3ebe"
      },
      "execution_count": null,
      "outputs": [
        {
          "output_type": "execute_result",
          "data": {
            "text/plain": [
              "1"
            ]
          },
          "metadata": {},
          "execution_count": 9
        }
      ]
    },
    {
      "cell_type": "markdown",
      "source": [
        "Ex.\n",
        "\n",
        "1.2x2 모양의 [0, 10) 범위의 정수 난수들을 저장하는 2차원 리스트 array1을 만드세요.\n",
        "2. 2x2 모양의 [0, 10) 범위의 정수 난수들을 저장하는 2차원 리스트 array2을 만드세요.\n",
        "3. array1과 array2의 같은 인덱스의 원소들끼리의 덧셈 결과를 저장하는 2차원 리스트 add를 만들고 출력."
      ],
      "metadata": {
        "id": "DFZPk1aUskzO"
      }
    },
    {
      "cell_type": "code",
      "source": [
        "import random\n",
        "\n",
        "array1 = []  # 1차원 리스트들을 저장할 빈 리스트.\n",
        "for _ in range(2):  # 2번 반복.\n",
        "    row = []  # 난수들을 저장할 빈 리스트.\n",
        "    for _ in range(2):  # 2번 반복.\n",
        "      row.append(random.randrange(10))  # 난수를 row에 추가.\n",
        "    array1.append(row)\n",
        "array1 # 난수 2개를 갖는 1차원 리스트를 array1에 추가."
      ],
      "metadata": {
        "colab": {
          "base_uri": "https://localhost:8080/"
        },
        "id": "n_LjXhHBssjm",
        "outputId": "b0dcd9fe-9063-4efa-cf8b-49d70820aa64"
      },
      "execution_count": null,
      "outputs": [
        {
          "output_type": "execute_result",
          "data": {
            "text/plain": [
              "[[1, 6], [3, 5]]"
            ]
          },
          "metadata": {},
          "execution_count": 10
        }
      ]
    },
    {
      "cell_type": "code",
      "source": [
        "array2 = [[random.randrange(10) for _ in range(2)]\n",
        "          for _ in range(2)]\n",
        "\n",
        "array2"
      ],
      "metadata": {
        "colab": {
          "base_uri": "https://localhost:8080/"
        },
        "id": "EelIt41RswRW",
        "outputId": "d6a5612a-d094-4346-fd5a-6ea72afcb5f5"
      },
      "execution_count": null,
      "outputs": [
        {
          "output_type": "execute_result",
          "data": {
            "text/plain": [
              "[[8, 5], [5, 8]]"
            ]
          },
          "metadata": {},
          "execution_count": 11
        }
      ]
    },
    {
      "cell_type": "code",
      "source": [
        "add = []  # 1차원 배열들을 저장할 빈 배열\n",
        "for row1, row2 in zip(array1, array2):\n",
        "    # print(row1, row2)\n",
        "    temp = []\n",
        "    for x, y in zip (row1, row2):\n",
        "      temp.append(x + y)\n",
        "    add.append(temp)\n",
        "add"
      ],
      "metadata": {
        "colab": {
          "base_uri": "https://localhost:8080/"
        },
        "id": "AGPLfaQAsyc-",
        "outputId": "df4a726d-cd4f-465f-e8f6-4dd0e8f7a90b"
      },
      "execution_count": null,
      "outputs": [
        {
          "output_type": "execute_result",
          "data": {
            "text/plain": [
              "[[9, 11], [8, 13]]"
            ]
          },
          "metadata": {},
          "execution_count": 12
        }
      ]
    },
    {
      "cell_type": "code",
      "source": [
        "[[x + y for x, y in zip(row1, row2)]\n",
        " for row1, row2 in zip (array1, array2)]"
      ],
      "metadata": {
        "colab": {
          "base_uri": "https://localhost:8080/"
        },
        "id": "vY1k19VPs03u",
        "outputId": "ac348e49-c531-4155-b226-3724e4414fba"
      },
      "execution_count": null,
      "outputs": [
        {
          "output_type": "execute_result",
          "data": {
            "text/plain": [
              "[[9, 11], [8, 13]]"
            ]
          },
          "metadata": {},
          "execution_count": 13
        }
      ]
    },
    {
      "cell_type": "markdown",
      "source": [
        "# Set(집합)\n",
        "\n",
        "* 중복된 데이터를 허용하지 않음: `{1, 2, 2, 3, 3} = {1, 2, 3}`\n",
        "* 인덱스 기반의 자료 구조가 아님. 인덱스가 없음.\n",
        "  * 데이터의 저장 순서가 중요하지 않음: `{1, 2, 3} = {3, 1, 2}`\n",
        "  * indexing, slicing 기능을 제공하지 않음.\n",
        "  * for-in 구문에서 사용할 수 있는 iterable 타입."
      ],
      "metadata": {
        "id": "2k78nN9Fs3CA"
      }
    },
    {
      "cell_type": "code",
      "source": [
        "s = {1, 2, 2, 3, 3}\n",
        "s"
      ],
      "metadata": {
        "colab": {
          "base_uri": "https://localhost:8080/"
        },
        "id": "dW_YA64fs5C2",
        "outputId": "30c304cf-d662-4172-c1a5-95d97ff90a8f"
      },
      "execution_count": null,
      "outputs": [
        {
          "output_type": "execute_result",
          "data": {
            "text/plain": [
              "{1, 2, 3}"
            ]
          },
          "metadata": {},
          "execution_count": 16
        }
      ]
    },
    {
      "cell_type": "code",
      "source": [
        "type(s)"
      ],
      "metadata": {
        "colab": {
          "base_uri": "https://localhost:8080/"
        },
        "id": "f7wAYVBSs6Qe",
        "outputId": "51e5cc79-e712-4f89-8acb-b5116ead41a8"
      },
      "execution_count": null,
      "outputs": [
        {
          "output_type": "execute_result",
          "data": {
            "text/plain": [
              "set"
            ]
          },
          "metadata": {},
          "execution_count": 17
        }
      ]
    },
    {
      "cell_type": "markdown",
      "source": [
        "## set의 기능(메서드)"
      ],
      "metadata": {
        "id": "FNwVwz8as72G"
      }
    },
    {
      "cell_type": "code",
      "source": [
        "s"
      ],
      "metadata": {
        "colab": {
          "base_uri": "https://localhost:8080/"
        },
        "id": "9Ixb_CkQs_tO",
        "outputId": "a1e37c5d-2a29-49f5-bfe0-255722780972"
      },
      "execution_count": null,
      "outputs": [
        {
          "output_type": "execute_result",
          "data": {
            "text/plain": [
              "{1, 2, 3}"
            ]
          },
          "metadata": {},
          "execution_count": 18
        }
      ]
    },
    {
      "cell_type": "code",
      "source": [
        "s.add(5)  # set에 원소 추가\n",
        "s"
      ],
      "metadata": {
        "colab": {
          "base_uri": "https://localhost:8080/"
        },
        "id": "X32opDUvtDIW",
        "outputId": "ad185391-dcc5-4d4b-bd2a-6fd1380b0224"
      },
      "execution_count": null,
      "outputs": [
        {
          "output_type": "execute_result",
          "data": {
            "text/plain": [
              "{1, 2, 3, 5}"
            ]
          },
          "metadata": {},
          "execution_count": 19
        }
      ]
    },
    {
      "cell_type": "code",
      "source": [
        "s.add(5)  # 중복된 값은 하나만 나타남.\n",
        "s"
      ],
      "metadata": {
        "colab": {
          "base_uri": "https://localhost:8080/"
        },
        "id": "3YgTjPtetELG",
        "outputId": "9d05ba8c-aaf9-4971-eca9-5d3c46ed1465"
      },
      "execution_count": null,
      "outputs": [
        {
          "output_type": "execute_result",
          "data": {
            "text/plain": [
              "{1, 2, 3, 5}"
            ]
          },
          "metadata": {},
          "execution_count": 20
        }
      ]
    },
    {
      "cell_type": "code",
      "source": [
        "s.remove(3) # set의 원소를 삭제. 삭제할 원소를 아규먼트로 전달.\n",
        "s"
      ],
      "metadata": {
        "colab": {
          "base_uri": "https://localhost:8080/"
        },
        "id": "7vPYjGaktFWW",
        "outputId": "7f556f54-e6a0-4d94-def9-db54c87ebe11"
      },
      "execution_count": null,
      "outputs": [
        {
          "output_type": "execute_result",
          "data": {
            "text/plain": [
              "{1, 2, 5}"
            ]
          },
          "metadata": {},
          "execution_count": 21
        }
      ]
    },
    {
      "cell_type": "code",
      "source": [
        "s.pop()\n",
        "s"
      ],
      "metadata": {
        "colab": {
          "base_uri": "https://localhost:8080/"
        },
        "id": "aKkfhjy7tGsO",
        "outputId": "1c61ef19-4e39-484f-8913-b506c2ac8bcc"
      },
      "execution_count": null,
      "outputs": [
        {
          "output_type": "execute_result",
          "data": {
            "text/plain": [
              "{5}"
            ]
          },
          "metadata": {},
          "execution_count": 23
        }
      ]
    },
    {
      "cell_type": "code",
      "source": [
        "s1 = {1, 2, 3, 4}\n",
        "s2 = {2, 3, 5, 6}"
      ],
      "metadata": {
        "id": "Qtm_jfq5tHoW"
      },
      "execution_count": null,
      "outputs": []
    },
    {
      "cell_type": "code",
      "source": [
        "s1.union(s2)  # 합집합"
      ],
      "metadata": {
        "colab": {
          "base_uri": "https://localhost:8080/"
        },
        "id": "I9MU9KWBtIru",
        "outputId": "46d746e3-8d6f-4df8-80dd-443684259450"
      },
      "execution_count": null,
      "outputs": [
        {
          "output_type": "execute_result",
          "data": {
            "text/plain": [
              "{1, 2, 3, 4, 5, 6}"
            ]
          },
          "metadata": {},
          "execution_count": 25
        }
      ]
    },
    {
      "cell_type": "code",
      "source": [
        "s1.intersection(s2) # 교집합"
      ],
      "metadata": {
        "colab": {
          "base_uri": "https://localhost:8080/"
        },
        "id": "iMFjbgcOtJ6m",
        "outputId": "88f3d18e-cb83-4e4d-f748-c0d3bc625056"
      },
      "execution_count": null,
      "outputs": [
        {
          "output_type": "execute_result",
          "data": {
            "text/plain": [
              "{2, 3}"
            ]
          },
          "metadata": {},
          "execution_count": 26
        }
      ]
    },
    {
      "cell_type": "code",
      "source": [
        "s1.difference(s2) # 차집합: s1 - s2"
      ],
      "metadata": {
        "colab": {
          "base_uri": "https://localhost:8080/"
        },
        "id": "Itbkq9pBtK6l",
        "outputId": "476fcd42-3636-43d9-e0c7-78983acf2601"
      },
      "execution_count": null,
      "outputs": [
        {
          "output_type": "execute_result",
          "data": {
            "text/plain": [
              "{1, 4}"
            ]
          },
          "metadata": {},
          "execution_count": 27
        }
      ]
    },
    {
      "cell_type": "code",
      "source": [
        "s2.difference(s1) # 차집합: s2 - s1"
      ],
      "metadata": {
        "colab": {
          "base_uri": "https://localhost:8080/"
        },
        "id": "Pt6yrczqtMEW",
        "outputId": "cedef967-676a-4373-fd13-6f42541fcf19"
      },
      "execution_count": null,
      "outputs": [
        {
          "output_type": "execute_result",
          "data": {
            "text/plain": [
              "{5, 6}"
            ]
          },
          "metadata": {},
          "execution_count": 28
        }
      ]
    },
    {
      "cell_type": "markdown",
      "source": [
        "# dict\n",
        "\n",
        "* dictionary(사전) 형식의 데이터 타입.\n",
        "* 키(key)를 기반으로 값(value)를 저장하는 데이터 타입.\n",
        "  * list, tuple: 인덱스 기반의 데이터 타입.\n",
        "  * dict: key-value 기반의 데이터 타입.\n",
        "  * dict에서 key의 역할은 1개 아이템의 값(value)를 찾기 위한 용도."
      ],
      "metadata": {
        "id": "SxLSyZG5ts6e"
      }
    },
    {
      "cell_type": "code",
      "source": [
        "students = {1: '홍길동', 2:'허균', 3:'오쌤'}\n",
        "students"
      ],
      "metadata": {
        "colab": {
          "base_uri": "https://localhost:8080/"
        },
        "id": "oD5semDxtvSm",
        "outputId": "d1a72fa4-b63f-4c2a-901d-abfe08855d18"
      },
      "execution_count": null,
      "outputs": [
        {
          "output_type": "execute_result",
          "data": {
            "text/plain": [
              "{1: '홍길동', 2: '허균', 3: '오쌤'}"
            ]
          },
          "metadata": {},
          "execution_count": 29
        }
      ]
    },
    {
      "cell_type": "code",
      "source": [
        "type(students)"
      ],
      "metadata": {
        "colab": {
          "base_uri": "https://localhost:8080/"
        },
        "id": "EmQoY9oHtxQA",
        "outputId": "cf5d897c-d4be-4774-b82b-b76587504133"
      },
      "execution_count": null,
      "outputs": [
        {
          "output_type": "execute_result",
          "data": {
            "text/plain": [
              "dict"
            ]
          },
          "metadata": {},
          "execution_count": 30
        }
      ]
    },
    {
      "cell_type": "markdown",
      "source": [
        "`dict` 에서 키를 사용하는 방법은 `list` 또는 `tuple`과 마찬가지로 인덱스 연산자(`[ ]`)를 사용함."
      ],
      "metadata": {
        "id": "_bsybOWgt0uu"
      }
    },
    {
      "cell_type": "code",
      "source": [
        "students[1] #dict에서 key가 1인 아이템의 value"
      ],
      "metadata": {
        "colab": {
          "base_uri": "https://localhost:8080/",
          "height": 35
        },
        "id": "ZDZ_02KLtytj",
        "outputId": "dd41aac5-eeed-439b-82b1-4fdb5d9d0611"
      },
      "execution_count": null,
      "outputs": [
        {
          "output_type": "execute_result",
          "data": {
            "text/plain": [
              "'홍길동'"
            ],
            "application/vnd.google.colaboratory.intrinsic+json": {
              "type": "string"
            }
          },
          "metadata": {},
          "execution_count": 31
        }
      ]
    },
    {
      "cell_type": "code",
      "source": [
        "students[10] = '홍길동' #dict에 새로운 key-value 아이템을 추가\n",
        "students"
      ],
      "metadata": {
        "colab": {
          "base_uri": "https://localhost:8080/"
        },
        "id": "u4_I8sg-t3t3",
        "outputId": "836703e7-929b-4df1-fdb1-7cdc93c13838"
      },
      "execution_count": null,
      "outputs": [
        {
          "output_type": "execute_result",
          "data": {
            "text/plain": [
              "{1: '홍길동', 2: '허균', 3: '오쌤', 10: '홍길동'}"
            ]
          },
          "metadata": {},
          "execution_count": 32
        }
      ]
    },
    {
      "cell_type": "code",
      "source": [
        "students[3] = 'scott' # dict에서 key에 해당하는 value를 변경.\n",
        "students"
      ],
      "metadata": {
        "colab": {
          "base_uri": "https://localhost:8080/"
        },
        "id": "-4DMzUIAt551",
        "outputId": "cd865df9-312f-4ddb-f9ab-bfc2d12bdc2a"
      },
      "execution_count": null,
      "outputs": [
        {
          "output_type": "execute_result",
          "data": {
            "text/plain": [
              "{1: '홍길동', 2: '허균', 3: 'scott', 10: '홍길동'}"
            ]
          },
          "metadata": {},
          "execution_count": 33
        }
      ]
    },
    {
      "cell_type": "code",
      "source": [
        "students.pop(3) # dict에서 해당하는 key의 아이템(key:value)을 삭제.\n",
        "students"
      ],
      "metadata": {
        "colab": {
          "base_uri": "https://localhost:8080/"
        },
        "id": "4QEAiDdst72m",
        "outputId": "3535ff5e-c3ab-4931-e8bc-ada76504e9a2"
      },
      "execution_count": null,
      "outputs": [
        {
          "output_type": "execute_result",
          "data": {
            "text/plain": [
              "{1: '홍길동', 2: '허균', 10: '홍길동'}"
            ]
          },
          "metadata": {},
          "execution_count": 34
        }
      ]
    },
    {
      "cell_type": "code",
      "source": [
        "book = {\n",
        "    'title': '점프 투 파이썬',\n",
        "    'authors': ['박응용', '웨스 매키니'],\n",
        "    'isbn': 123456789\n",
        "}\n",
        "book"
      ],
      "metadata": {
        "colab": {
          "base_uri": "https://localhost:8080/"
        },
        "id": "uygv_Lugt9Vm",
        "outputId": "9bc8bc1d-ced9-438e-df2e-83c36092678e"
      },
      "execution_count": null,
      "outputs": [
        {
          "output_type": "execute_result",
          "data": {
            "text/plain": [
              "{'title': '점프 투 파이썬', 'authors': ['박응용', '웨스 매키니'], 'isbn': 123456789}"
            ]
          },
          "metadata": {},
          "execution_count": 35
        }
      ]
    },
    {
      "cell_type": "code",
      "source": [
        "book['title']"
      ],
      "metadata": {
        "colab": {
          "base_uri": "https://localhost:8080/",
          "height": 35
        },
        "id": "L_7c_SQEt-zP",
        "outputId": "1b37c641-de74-4226-dc62-ae9ee18fe480"
      },
      "execution_count": null,
      "outputs": [
        {
          "output_type": "execute_result",
          "data": {
            "text/plain": [
              "'점프 투 파이썬'"
            ],
            "application/vnd.google.colaboratory.intrinsic+json": {
              "type": "string"
            }
          },
          "metadata": {},
          "execution_count": 36
        }
      ]
    },
    {
      "cell_type": "code",
      "source": [
        "book['authors'][0]"
      ],
      "metadata": {
        "colab": {
          "base_uri": "https://localhost:8080/",
          "height": 35
        },
        "id": "HZYe743QuAM4",
        "outputId": "8538ec46-849a-4590-f2db-deadd4b7e259"
      },
      "execution_count": null,
      "outputs": [
        {
          "output_type": "execute_result",
          "data": {
            "text/plain": [
              "'박응용'"
            ],
            "application/vnd.google.colaboratory.intrinsic+json": {
              "type": "string"
            }
          },
          "metadata": {},
          "execution_count": 37
        }
      ]
    },
    {
      "cell_type": "markdown",
      "source": [
        "## dict & for"
      ],
      "metadata": {
        "id": "I6Yp0lSTuDqH"
      }
    },
    {
      "cell_type": "code",
      "source": [
        "contact = {\n",
        "    'no': 1,\n",
        "    'name': '오쌤',\n",
        "    'phones': ['010-0000-0000', '02-000-0000'],\n",
        "    'emails': {\n",
        "        'company': 'jake@itwill.co.kr',\n",
        "        'personal': 'jake@naver.com'\n",
        "    }\n",
        "}\n",
        "contact"
      ],
      "metadata": {
        "colab": {
          "base_uri": "https://localhost:8080/"
        },
        "id": "2nmhzO7luC3B",
        "outputId": "4129d58c-6d71-4352-d8bd-2db27589a2d7"
      },
      "execution_count": null,
      "outputs": [
        {
          "output_type": "execute_result",
          "data": {
            "text/plain": [
              "{'no': 1,\n",
              " 'name': '오쌤',\n",
              " 'phones': ['010-0000-0000', '02-000-0000'],\n",
              " 'emails': {'company': 'jake@itwill.co.kr', 'personal': 'jake@naver.com'}}"
            ]
          },
          "metadata": {},
          "execution_count": 38
        }
      ]
    },
    {
      "cell_type": "code",
      "source": [
        "for k in contact:\n",
        "    print(k)"
      ],
      "metadata": {
        "colab": {
          "base_uri": "https://localhost:8080/"
        },
        "id": "Su9kp8g2vii-",
        "outputId": "daaa0edd-7b15-4a8b-d5e1-e7d62992510d"
      },
      "execution_count": null,
      "outputs": [
        {
          "output_type": "stream",
          "name": "stdout",
          "text": [
            "no\n",
            "name\n",
            "phones\n",
            "emails\n"
          ]
        }
      ]
    },
    {
      "cell_type": "markdown",
      "source": [
        "for-in 구문에서 dict를 사용하면 키(key)를 iteration함!"
      ],
      "metadata": {
        "id": "NxEbHPlJvm1w"
      }
    },
    {
      "cell_type": "code",
      "source": [
        "for k in contact:\n",
        "    print(k, ':', contact[k])"
      ],
      "metadata": {
        "colab": {
          "base_uri": "https://localhost:8080/"
        },
        "id": "uukqhtO1vkkN",
        "outputId": "82c4ab6c-6d4c-4d07-9828-a0738ab669f7"
      },
      "execution_count": null,
      "outputs": [
        {
          "output_type": "stream",
          "name": "stdout",
          "text": [
            "no : 1\n",
            "name : 오쌤\n",
            "phones : ['010-0000-0000', '02-000-0000']\n",
            "emails : {'company': 'jake@itwill.co.kr', 'personal': 'jake@naver.com'}\n"
          ]
        }
      ]
    },
    {
      "cell_type": "code",
      "source": [
        "contact.keys()  # dict의 key들의 리스트를 리턴"
      ],
      "metadata": {
        "colab": {
          "base_uri": "https://localhost:8080/"
        },
        "id": "awcIbBHZvorJ",
        "outputId": "d6de8adb-fbb7-4950-8786-2834aa67da41"
      },
      "execution_count": null,
      "outputs": [
        {
          "output_type": "execute_result",
          "data": {
            "text/plain": [
              "dict_keys(['no', 'name', 'phones', 'emails'])"
            ]
          },
          "metadata": {},
          "execution_count": 41
        }
      ]
    },
    {
      "cell_type": "code",
      "source": [
        "contact.values()  # dict의 value들의 리스트를 리턴."
      ],
      "metadata": {
        "colab": {
          "base_uri": "https://localhost:8080/"
        },
        "id": "OFHMReCfvqas",
        "outputId": "5ab401c6-93a0-493a-c393-e8e14216363a"
      },
      "execution_count": null,
      "outputs": [
        {
          "output_type": "execute_result",
          "data": {
            "text/plain": [
              "dict_values([1, '오쌤', ['010-0000-0000', '02-000-0000'], {'company': 'jake@itwill.co.kr', 'personal': 'jake@naver.com'}])"
            ]
          },
          "metadata": {},
          "execution_count": 42
        }
      ]
    },
    {
      "cell_type": "code",
      "source": [
        "contact.items()\n",
        "# dict에서 (key, value) 튜플들의 리스트를 리턴."
      ],
      "metadata": {
        "colab": {
          "base_uri": "https://localhost:8080/"
        },
        "id": "Dqf3WQUjvtrg",
        "outputId": "ab01c208-5f31-4b3a-9a47-f4829df973f8"
      },
      "execution_count": null,
      "outputs": [
        {
          "output_type": "execute_result",
          "data": {
            "text/plain": [
              "dict_items([('no', 1), ('name', '오쌤'), ('phones', ['010-0000-0000', '02-000-0000']), ('emails', {'company': 'jake@itwill.co.kr', 'personal': 'jake@naver.com'})])"
            ]
          },
          "metadata": {},
          "execution_count": 43
        }
      ]
    },
    {
      "cell_type": "code",
      "source": [
        "for k, v in contact.items():\n",
        "    print(k, v)"
      ],
      "metadata": {
        "colab": {
          "base_uri": "https://localhost:8080/"
        },
        "id": "79iKLPfPvuvs",
        "outputId": "b66ad0dd-3ee1-4557-c4b8-ba2bcff38c58"
      },
      "execution_count": null,
      "outputs": [
        {
          "output_type": "stream",
          "name": "stdout",
          "text": [
            "no 1\n",
            "name 오쌤\n",
            "phones ['010-0000-0000', '02-000-0000']\n",
            "emails {'company': 'jake@itwill.co.kr', 'personal': 'jake@naver.com'}\n"
          ]
        }
      ]
    },
    {
      "cell_type": "markdown",
      "source": [
        "## Dictionary Comprehension"
      ],
      "metadata": {
        "id": "Prw45EVXvzRu"
      }
    },
    {
      "cell_type": "code",
      "source": [
        "emp_no = [1001, 1002, 2001, 2002]   # 직원 번호\n",
        "emp_name = ['King', 'Scott', 'Allen', 'Tiger']    # 직원 이름"
      ],
      "metadata": {
        "id": "BTiYpauSvxRO"
      },
      "execution_count": null,
      "outputs": []
    },
    {
      "cell_type": "markdown",
      "source": [
        "emp_no를 key로 하고 emp_name을 value로 하는 dict를 만들고 출력"
      ],
      "metadata": {
        "id": "v0amZu_ov3hf"
      }
    },
    {
      "cell_type": "code",
      "source": [
        "emp = {}  # key-value를 저장할 빈 dict\n",
        "for no, name in zip(emp_no, emp_name):   # 리스트의 원소 개수만큼 반복\n",
        "    emp[no] = name    # dict에 key-value 아이템을 저장\n",
        "\n",
        "emp"
      ],
      "metadata": {
        "colab": {
          "base_uri": "https://localhost:8080/"
        },
        "id": "dmo3DR35vwVO",
        "outputId": "a10b336a-9ad5-47fa-84cc-0099ee985d41"
      },
      "execution_count": null,
      "outputs": [
        {
          "output_type": "execute_result",
          "data": {
            "text/plain": [
              "{1001: 'King', 1002: 'Scott', 2001: 'Allen', 2002: 'Tiger'}"
            ]
          },
          "metadata": {},
          "execution_count": 46
        }
      ]
    },
    {
      "cell_type": "code",
      "source": [
        "{no: name for no, name in zip(emp_no, emp_name)}"
      ],
      "metadata": {
        "colab": {
          "base_uri": "https://localhost:8080/"
        },
        "id": "e6Z6DLCDv6WW",
        "outputId": "f7515385-8f21-4e83-8031-a246ab868535"
      },
      "execution_count": null,
      "outputs": [
        {
          "output_type": "execute_result",
          "data": {
            "text/plain": [
              "{1001: 'King', 1002: 'Scott', 2001: 'Allen', 2002: 'Tiger'}"
            ]
          },
          "metadata": {},
          "execution_count": 47
        }
      ]
    },
    {
      "cell_type": "code",
      "source": [
        "strings = ['hello', 'java', 'sql', 'python', 'javascript']\n",
        "# 리스트 strings의 문자열을 key로 하고, 그 문자열의 길이를 값으로 하는 dict를 만들고 출력\n",
        "\n",
        "string_lengths = dict() # 빈 dict\n",
        "\n",
        "for s in strings: # strings에서 원소들을 차례로 반복하면서\n",
        "    string_lengths[s] = len(s)  # 문자열(key)-길이(value) 아이템을 dict에 추가\n",
        "\n",
        "string_lengths"
      ],
      "metadata": {
        "colab": {
          "base_uri": "https://localhost:8080/"
        },
        "id": "ThTjvhEPv7wX",
        "outputId": "d3432cbb-2852-43eb-87f1-b7c17646f250"
      },
      "execution_count": null,
      "outputs": [
        {
          "output_type": "execute_result",
          "data": {
            "text/plain": [
              "{'hello': 5, 'java': 4, 'sql': 3, 'python': 6, 'javascript': 10}"
            ]
          },
          "metadata": {},
          "execution_count": 48
        }
      ]
    },
    {
      "cell_type": "code",
      "source": [
        "{k: len(k) for k in strings}"
      ],
      "metadata": {
        "colab": {
          "base_uri": "https://localhost:8080/"
        },
        "id": "fgdesLqcv86P",
        "outputId": "7ea23556-08e5-4d4f-de48-c30222cfa6f4"
      },
      "execution_count": null,
      "outputs": [
        {
          "output_type": "execute_result",
          "data": {
            "text/plain": [
              "{'hello': 5, 'java': 4, 'sql': 3, 'python': 6, 'javascript': 10}"
            ]
          },
          "metadata": {},
          "execution_count": 49
        }
      ]
    }
  ]
}