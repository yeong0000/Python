{
  "nbformat": 4,
  "nbformat_minor": 0,
  "metadata": {
    "colab": {
      "provenance": [],
      "authorship_tag": "ABX9TyNVSAOSuuSoWKP4SWvnx3IR",
      "include_colab_link": true
    },
    "kernelspec": {
      "name": "python3",
      "display_name": "Python 3"
    },
    "language_info": {
      "name": "python"
    }
  },
  "cells": [
    {
      "cell_type": "markdown",
      "metadata": {
        "id": "view-in-github",
        "colab_type": "text"
      },
      "source": [
        "<a href=\"https://colab.research.google.com/github/yeong0000/Python/blob/main/py05_list.ipynb\" target=\"_parent\"><img src=\"https://colab.research.google.com/assets/colab-badge.svg\" alt=\"Open In Colab\"/></a>"
      ]
    },
    {
      "cell_type": "markdown",
      "source": [
        "# list\n",
        "\n",
        "* 여러 개의 값들을 하나의 변수에 저장하기 위한 데이터 타입.\n",
        "* element(원소, 요소): 리스트에 저장되는 각각의 값.\n",
        "* index(인덱스): 리스트에서 원소가 저장된 위치\n",
        "    * 리스트의 인덱스는 **0**부터 시작.\n",
        "    * 리스트의 마지막 인덱스는 (원소 개수 -1).\n",
        "* 리스트는 원소들을 추가, 삭제, 변경할 수 있음.\n",
        "    * `tuple`과 다른 점!"
      ],
      "metadata": {
        "id": "SQN1sBmnhotx"
      }
    },
    {
      "cell_type": "code",
      "source": [
        "# 숫자들을 저장하는 리스트\n",
        "numbers = [1,2,3,10,20,30]\n",
        "numbers"
      ],
      "metadata": {
        "colab": {
          "base_uri": "https://localhost:8080/"
        },
        "id": "I6ViHoBBjfPW",
        "outputId": "71383f0d-590a-4ea2-c544-90aab372acd9"
      },
      "execution_count": null,
      "outputs": [
        {
          "output_type": "execute_result",
          "data": {
            "text/plain": [
              "[1, 2, 3, 10, 20, 30]"
            ]
          },
          "metadata": {},
          "execution_count": 3
        }
      ]
    },
    {
      "cell_type": "markdown",
      "source": [
        "# 인덱싱(indexing)\n",
        "\n",
        "인덱스를 사용해서 리스트의 원소를 참조하는 방법"
      ],
      "metadata": {
        "id": "rWbi4l-vnrya"
      }
    },
    {
      "cell_type": "code",
      "source": [
        "numbers[0] # 리스트 numbers의 인덱스 0 위치의 원소"
      ],
      "metadata": {
        "colab": {
          "base_uri": "https://localhost:8080/"
        },
        "id": "1_12pujUjzF6",
        "outputId": "1b4f94c2-05ae-48b1-b6da-21d4414752e4"
      },
      "execution_count": null,
      "outputs": [
        {
          "output_type": "execute_result",
          "data": {
            "text/plain": [
              "1"
            ]
          },
          "metadata": {},
          "execution_count": 4
        }
      ]
    },
    {
      "cell_type": "code",
      "source": [
        "numbers[5]"
      ],
      "metadata": {
        "colab": {
          "base_uri": "https://localhost:8080/"
        },
        "id": "aFF1_Rq6n-O7",
        "outputId": "6d29754b-e86b-44df-f7f6-444a9febc556"
      },
      "execution_count": null,
      "outputs": [
        {
          "output_type": "execute_result",
          "data": {
            "text/plain": [
              "30"
            ]
          },
          "metadata": {},
          "execution_count": 7
        }
      ]
    },
    {
      "cell_type": "code",
      "source": [
        "numbers[-1] # 리스트에서 가장 마지막 원소"
      ],
      "metadata": {
        "colab": {
          "base_uri": "https://localhost:8080/"
        },
        "id": "RxbeOVroodBA",
        "outputId": "ed12720d-a513-4703-884c-f5f949a6c32b"
      },
      "execution_count": null,
      "outputs": [
        {
          "output_type": "execute_result",
          "data": {
            "text/plain": [
              "30"
            ]
          },
          "metadata": {},
          "execution_count": 8
        }
      ]
    },
    {
      "cell_type": "markdown",
      "source": [
        "# slicing\n",
        "\n",
        "인덱스를 사용해서 리스트의 부분집합(리스트)를 잘라내는 방법.\n",
        "\n",
        "`list[start:end]`\n",
        "\n",
        "* start <= index < end 범위의 인덱스 위치의 원소들을 잘라냄.\n",
        "* start를 생략한 경우에는 첫번째 원소부터 잘라냄\n",
        "    * `list[0:5]`과 `list[:5]`는 같은 결과.\n",
        "* end를 생략한 경우에는 마지막 원소까지 잘라냄.\n",
        "* 리스트를 slicing한 결과는 또다른 새로운 **리스트**."
      ],
      "metadata": {
        "id": "hr2h1rfMqKur"
      }
    },
    {
      "cell_type": "code",
      "source": [
        "numbers"
      ],
      "metadata": {
        "colab": {
          "base_uri": "https://localhost:8080/"
        },
        "id": "Zi-wCMnyoh0I",
        "outputId": "0b86ba59-2189-4ccb-f16c-1b1dc3004d3b"
      },
      "execution_count": null,
      "outputs": [
        {
          "output_type": "execute_result",
          "data": {
            "text/plain": [
              "[1, 2, 3, 10, 20, 30]"
            ]
          },
          "metadata": {},
          "execution_count": 10
        }
      ]
    },
    {
      "cell_type": "code",
      "source": [
        "numbers[1:4] # 1 <= index < 4"
      ],
      "metadata": {
        "colab": {
          "base_uri": "https://localhost:8080/"
        },
        "id": "YC2pJ4P6sOSb",
        "outputId": "e84b80cc-cec1-4175-b268-5bd66320be75"
      },
      "execution_count": null,
      "outputs": [
        {
          "output_type": "execute_result",
          "data": {
            "text/plain": [
              "[2, 3, 10]"
            ]
          },
          "metadata": {},
          "execution_count": 13
        }
      ]
    },
    {
      "cell_type": "code",
      "source": [
        "numbers[3:6]"
      ],
      "metadata": {
        "colab": {
          "base_uri": "https://localhost:8080/"
        },
        "id": "isBLSIUpsjOK",
        "outputId": "138f123c-6a67-4d73-ae05-efa8ec0eb0e7"
      },
      "execution_count": null,
      "outputs": [
        {
          "output_type": "execute_result",
          "data": {
            "text/plain": [
              "[10, 20, 30]"
            ]
          },
          "metadata": {},
          "execution_count": 15
        }
      ]
    },
    {
      "cell_type": "code",
      "source": [
        "numbers[3:]"
      ],
      "metadata": {
        "colab": {
          "base_uri": "https://localhost:8080/"
        },
        "id": "hlOQOO7vso4o",
        "outputId": "247c76de-49b5-4472-fbf2-e382e7c2d7d6"
      },
      "execution_count": null,
      "outputs": [
        {
          "output_type": "execute_result",
          "data": {
            "text/plain": [
              "[10, 20, 30]"
            ]
          },
          "metadata": {},
          "execution_count": 17
        }
      ]
    },
    {
      "cell_type": "code",
      "source": [
        "numbers[:3] # 리스트에서 앞에서 3개를 선택"
      ],
      "metadata": {
        "colab": {
          "base_uri": "https://localhost:8080/"
        },
        "id": "yWCayQeZtYdc",
        "outputId": "b794cec2-5f24-46ca-98c9-8b80858f3593"
      },
      "execution_count": null,
      "outputs": [
        {
          "output_type": "execute_result",
          "data": {
            "text/plain": [
              "[1, 2, 3]"
            ]
          },
          "metadata": {},
          "execution_count": 18
        }
      ]
    },
    {
      "cell_type": "code",
      "source": [
        "numbers[-3:] # 리스트에서 뒤에서 3개 선택"
      ],
      "metadata": {
        "colab": {
          "base_uri": "https://localhost:8080/"
        },
        "id": "C8zTCsPwtfMV",
        "outputId": "3d605ab0-dd61-4579-facd-6258bbc6929f"
      },
      "execution_count": null,
      "outputs": [
        {
          "output_type": "execute_result",
          "data": {
            "text/plain": [
              "[10, 20, 30]"
            ]
          },
          "metadata": {},
          "execution_count": 19
        }
      ]
    },
    {
      "cell_type": "code",
      "source": [
        "numbers[0:1] # slicing -> 리스트"
      ],
      "metadata": {
        "colab": {
          "base_uri": "https://localhost:8080/"
        },
        "id": "uzaam-PBulGT",
        "outputId": "03fae9d4-c1b7-477e-8070-11a8c9c26288"
      },
      "execution_count": null,
      "outputs": [
        {
          "output_type": "execute_result",
          "data": {
            "text/plain": [
              "[1]"
            ]
          },
          "metadata": {},
          "execution_count": 20
        }
      ]
    },
    {
      "cell_type": "code",
      "source": [
        "numbers[0] # indexing -> 값(숫자)"
      ],
      "metadata": {
        "colab": {
          "base_uri": "https://localhost:8080/"
        },
        "id": "OGbutA2WuqHt",
        "outputId": "7937dc4d-6d78-44e3-c26f-2bc497b716f9"
      },
      "execution_count": null,
      "outputs": [
        {
          "output_type": "execute_result",
          "data": {
            "text/plain": [
              "1"
            ]
          },
          "metadata": {},
          "execution_count": 21
        }
      ]
    },
    {
      "cell_type": "markdown",
      "source": [
        "# 문자열(str)\n",
        "\n",
        "\n",
        "* 문자들의 **리스트**.\n",
        "* 문자열은 인덱스를 사용할 수 있음\n",
        "* indexing, slicing 가능"
      ],
      "metadata": {
        "id": "e0aAFkgxu_Y1"
      }
    },
    {
      "cell_type": "code",
      "source": [
        "message = '안녕하세요, 여러분!' # 11개의 문자들로 이루어진 리스트."
      ],
      "metadata": {
        "id": "eE5LUw5-vhz7"
      },
      "execution_count": null,
      "outputs": []
    },
    {
      "cell_type": "code",
      "source": [
        "message[0] # 문자열에서 첫번째 문자"
      ],
      "metadata": {
        "colab": {
          "base_uri": "https://localhost:8080/",
          "height": 35
        },
        "id": "ICiY_0yDvqVy",
        "outputId": "d05578f4-4bad-4d30-f6ed-12249ef17ed9"
      },
      "execution_count": null,
      "outputs": [
        {
          "output_type": "execute_result",
          "data": {
            "text/plain": [
              "'안'"
            ],
            "application/vnd.google.colaboratory.intrinsic+json": {
              "type": "string"
            }
          },
          "metadata": {},
          "execution_count": 24
        }
      ]
    },
    {
      "cell_type": "code",
      "source": [
        "message[-1] # 문자열에서 마지막 문자"
      ],
      "metadata": {
        "colab": {
          "base_uri": "https://localhost:8080/",
          "height": 35
        },
        "id": "8pFJWq2OwBK9",
        "outputId": "cc8b24c4-f794-43ff-bf0b-28f3fe88ba5e"
      },
      "execution_count": null,
      "outputs": [
        {
          "output_type": "execute_result",
          "data": {
            "text/plain": [
              "'!'"
            ],
            "application/vnd.google.colaboratory.intrinsic+json": {
              "type": "string"
            }
          },
          "metadata": {},
          "execution_count": 26
        }
      ]
    },
    {
      "cell_type": "code",
      "source": [
        "message[:3] # 문자열에서 앞에서 3글자"
      ],
      "metadata": {
        "colab": {
          "base_uri": "https://localhost:8080/",
          "height": 35
        },
        "id": "ho_YgHvwwbXu",
        "outputId": "2b4f5405-045a-4772-b967-00bc6361be95"
      },
      "execution_count": null,
      "outputs": [
        {
          "output_type": "execute_result",
          "data": {
            "text/plain": [
              "'안녕하'"
            ],
            "application/vnd.google.colaboratory.intrinsic+json": {
              "type": "string"
            }
          },
          "metadata": {},
          "execution_count": 27
        }
      ]
    },
    {
      "cell_type": "code",
      "source": [
        "message[-3:] # 문자열에서 뒤에서 3글자"
      ],
      "metadata": {
        "colab": {
          "base_uri": "https://localhost:8080/",
          "height": 35
        },
        "id": "kU5k8o8BwkwZ",
        "outputId": "2a89b56f-6a35-471a-ca75-1a0648fe7457"
      },
      "execution_count": null,
      "outputs": [
        {
          "output_type": "execute_result",
          "data": {
            "text/plain": [
              "'러분!'"
            ],
            "application/vnd.google.colaboratory.intrinsic+json": {
              "type": "string"
            }
          },
          "metadata": {},
          "execution_count": 29
        }
      ]
    },
    {
      "cell_type": "code",
      "source": [
        "# 문자열 산술 연산: +, *\n",
        "print('hello' + 'python')\n",
        "print('hello' * 3)"
      ],
      "metadata": {
        "colab": {
          "base_uri": "https://localhost:8080/"
        },
        "id": "cmub5gCcw7f4",
        "outputId": "bfcd5c0b-a51d-4d56-d99d-b3f24a873a5e"
      },
      "execution_count": null,
      "outputs": [
        {
          "output_type": "stream",
          "name": "stdout",
          "text": [
            "hellopython\n",
            "hellohellohello\n"
          ]
        }
      ]
    },
    {
      "cell_type": "markdown",
      "source": [
        "# 리스트의 산술 연산\n",
        "\n",
        "* `list` + `list`\n",
        "* `list` * `int` 또는 `int` * `list`"
      ],
      "metadata": {
        "id": "xVnEtlptxNB9"
      }
    },
    {
      "cell_type": "code",
      "source": [
        "[1,2,3] + [4,5,6]"
      ],
      "metadata": {
        "colab": {
          "base_uri": "https://localhost:8080/"
        },
        "id": "Rj66MT2OxeiK",
        "outputId": "904882f8-a49e-46de-f50e-f827a22ecf5f"
      },
      "execution_count": null,
      "outputs": [
        {
          "output_type": "execute_result",
          "data": {
            "text/plain": [
              "[1, 2, 3, 4, 5, 6]"
            ]
          },
          "metadata": {},
          "execution_count": 32
        }
      ]
    },
    {
      "cell_type": "code",
      "source": [
        "[1,2,3] * 3"
      ],
      "metadata": {
        "colab": {
          "base_uri": "https://localhost:8080/"
        },
        "id": "u_kTghLjxzxk",
        "outputId": "fa85a777-eaf8-45f1-9f1c-b1c452b7dd1d"
      },
      "execution_count": null,
      "outputs": [
        {
          "output_type": "execute_result",
          "data": {
            "text/plain": [
              "[1, 2, 3, 1, 2, 3, 1, 2, 3]"
            ]
          },
          "metadata": {},
          "execution_count": 33
        }
      ]
    },
    {
      "cell_type": "markdown",
      "source": [
        "# list와 for 반복문"
      ],
      "metadata": {
        "id": "Khn-FHlm2CCs"
      }
    },
    {
      "cell_type": "code",
      "source": [
        "for x in 'hello':\n",
        "    print(x)"
      ],
      "metadata": {
        "colab": {
          "base_uri": "https://localhost:8080/"
        },
        "id": "CARBY8cs2GEd",
        "outputId": "13217b65-da6a-4b50-d221-5785ce34cfc5"
      },
      "execution_count": null,
      "outputs": [
        {
          "output_type": "stream",
          "name": "stdout",
          "text": [
            "h\n",
            "e\n",
            "l\n",
            "l\n",
            "o\n"
          ]
        }
      ]
    },
    {
      "cell_type": "code",
      "source": [
        "numbers = [1,10,5,100]\n",
        "for x in numbers:\n",
        "    print(x)"
      ],
      "metadata": {
        "colab": {
          "base_uri": "https://localhost:8080/"
        },
        "id": "vMhX85w02r0c",
        "outputId": "c9d24b24-aebb-49d8-e408-414d0698a405"
      },
      "execution_count": null,
      "outputs": [
        {
          "output_type": "stream",
          "name": "stdout",
          "text": [
            "1\n",
            "10\n",
            "5\n",
            "100\n"
          ]
        }
      ]
    },
    {
      "cell_type": "code",
      "source": [
        "for x in range(len(numbers)): # 0 <= x < len\n",
        "    print(x)"
      ],
      "metadata": {
        "colab": {
          "base_uri": "https://localhost:8080/"
        },
        "id": "rK_19TH43qU-",
        "outputId": "0c59d201-9899-485d-c33f-0d9ce805d2d0"
      },
      "execution_count": null,
      "outputs": [
        {
          "output_type": "stream",
          "name": "stdout",
          "text": [
            "0\n",
            "1\n",
            "2\n",
            "3\n"
          ]
        }
      ]
    },
    {
      "cell_type": "code",
      "source": [
        "for i in range(len(numbers)): # 0 <= x < len\n",
        "    print(i, ':', numbers[i])"
      ],
      "metadata": {
        "colab": {
          "base_uri": "https://localhost:8080/"
        },
        "id": "v-O4NKuC4AfN",
        "outputId": "5a636f4d-fd88-4487-dae9-2a1c7838322f"
      },
      "execution_count": null,
      "outputs": [
        {
          "output_type": "stream",
          "name": "stdout",
          "text": [
            "0 : 1\n",
            "1 : 10\n",
            "2 : 5\n",
            "3 : 100\n"
          ]
        }
      ]
    },
    {
      "cell_type": "code",
      "source": [
        "for i, v in enumerate(numbers):\n",
        "    print(i, ':', v)"
      ],
      "metadata": {
        "colab": {
          "base_uri": "https://localhost:8080/"
        },
        "id": "COZdEIHR4QdT",
        "outputId": "73b8fc4e-52d0-4e68-a65c-dc26af5e204a"
      },
      "execution_count": null,
      "outputs": [
        {
          "output_type": "stream",
          "name": "stdout",
          "text": [
            "0 : 1\n",
            "1 : 10\n",
            "2 : 5\n",
            "3 : 100\n"
          ]
        }
      ]
    },
    {
      "cell_type": "code",
      "source": [
        "numbers1 = [1,2,3]\n",
        "numbers2 = [10,11,12]\n",
        "# numbers1과 numbers2의 같은 인덱스의 원소들끼리의 합을 원소로 갖는 리스트\n",
        "# [11,13, 15]"
      ],
      "metadata": {
        "id": "JMErUFfq6BrF"
      },
      "execution_count": null,
      "outputs": []
    },
    {
      "cell_type": "code",
      "source": [
        "result = [] # 빈(empty) 리스트\n",
        "for i in range(len(numbers1)): # 0 <= i < len\n",
        "    result.append(numbers1[i] + numbers2[i])\n",
        "\n",
        "result"
      ],
      "metadata": {
        "colab": {
          "base_uri": "https://localhost:8080/"
        },
        "id": "dAE7e1nj7t27",
        "outputId": "d78a12f9-9957-4c60-853f-273c29597d81"
      },
      "execution_count": null,
      "outputs": [
        {
          "output_type": "execute_result",
          "data": {
            "text/plain": [
              "[11, 13, 15]"
            ]
          },
          "metadata": {},
          "execution_count": 49
        }
      ]
    },
    {
      "cell_type": "code",
      "source": [
        "result = []\n",
        "for x, y in zip(numbers1, numbers2):\n",
        "    result.append(x + y)\n",
        "\n",
        "result"
      ],
      "metadata": {
        "colab": {
          "base_uri": "https://localhost:8080/"
        },
        "id": "J0CQh5MT8giv",
        "outputId": "f82ec0d6-e679-4e46-b3f9-2e98af8e38a2"
      },
      "execution_count": null,
      "outputs": [
        {
          "output_type": "execute_result",
          "data": {
            "text/plain": [
              "[11, 13, 15]"
            ]
          },
          "metadata": {},
          "execution_count": 51
        }
      ]
    },
    {
      "cell_type": "code",
      "source": [
        "import random # random 모듈을 임포트"
      ],
      "metadata": {
        "id": "YAKncb2g-G52"
      },
      "execution_count": null,
      "outputs": []
    },
    {
      "cell_type": "code",
      "source": [
        "# random 모듈의 random() 함수를 호출\n",
        "random.random() # [0,1) 범위 (0 <= x < 1)의 실수 난수를 리턴."
      ],
      "metadata": {
        "colab": {
          "base_uri": "https://localhost:8080/"
        },
        "id": "vD5Vzg8I-Nd3",
        "outputId": "42b96bda-f5b2-4437-d885-3cefa5967aa4"
      },
      "execution_count": null,
      "outputs": [
        {
          "output_type": "execute_result",
          "data": {
            "text/plain": [
              "0.6300078412496064"
            ]
          },
          "metadata": {},
          "execution_count": 58
        }
      ]
    },
    {
      "cell_type": "code",
      "source": [
        "# random 모듈의 randrange() 함수를 호출\n",
        "random.randrange(10) # [0,10) 범위의 정수 난수를 리턴."
      ],
      "metadata": {
        "colab": {
          "base_uri": "https://localhost:8080/"
        },
        "id": "QN8OjGB_-9A4",
        "outputId": "17246898-5e28-4d4d-965c-fcca0394bfd8"
      },
      "execution_count": null,
      "outputs": [
        {
          "output_type": "execute_result",
          "data": {
            "text/plain": [
              "3"
            ]
          },
          "metadata": {},
          "execution_count": 68
        }
      ]
    },
    {
      "cell_type": "code",
      "source": [
        "random.randrange(1,4) #[1,4)범위의 정수 난수를 리턴."
      ],
      "metadata": {
        "colab": {
          "base_uri": "https://localhost:8080/"
        },
        "id": "DlxRmazg_hAS",
        "outputId": "b7e41d31-fb7c-4498-9861-62e0f53cf8c1"
      },
      "execution_count": null,
      "outputs": [
        {
          "output_type": "execute_result",
          "data": {
            "text/plain": [
              "3"
            ]
          },
          "metadata": {},
          "execution_count": 78
        }
      ]
    },
    {
      "cell_type": "markdown",
      "source": [
        "# Exercises\n",
        "Ex 1.\n",
        "\n",
        "1. 빈 리스트를 생성.\n",
        "2. 1 이상 10 이하의 정수 난수 5개를 저장.\n",
        "3. 리스트의 모든 정수들의 합을 출력.\n",
        "4. 리스트의 모든 정수들의 평균을 출력."
      ],
      "metadata": {
        "id": "J_0Jds8jDLnO"
      }
    },
    {
      "cell_type": "code",
      "source": [
        "import random"
      ],
      "metadata": {
        "id": "tRsL5KatE7H1"
      },
      "execution_count": null,
      "outputs": []
    },
    {
      "cell_type": "code",
      "source": [
        "numbers = []\n",
        "for x in range(1,6):\n",
        "    number = random.randrange(1,11)\n",
        "    numbers.append(number)\n",
        "print(numbers)"
      ],
      "metadata": {
        "colab": {
          "base_uri": "https://localhost:8080/"
        },
        "id": "xl7HOy-o_3a9",
        "outputId": "a215e741-d5b1-4a8a-8848-d6dc6d25bff6"
      },
      "execution_count": null,
      "outputs": [
        {
          "output_type": "stream",
          "name": "stdout",
          "text": [
            "[8, 5, 8, 7, 10]\n"
          ]
        }
      ]
    },
    {
      "cell_type": "code",
      "source": [
        "sum_list = sum(numbers)\n",
        "print(sum_list)"
      ],
      "metadata": {
        "colab": {
          "base_uri": "https://localhost:8080/"
        },
        "id": "Sfd1ydRWIbus",
        "outputId": "3d066442-6ae8-4bab-d219-d8dc559d5cc1"
      },
      "execution_count": null,
      "outputs": [
        {
          "output_type": "stream",
          "name": "stdout",
          "text": [
            "38\n"
          ]
        }
      ]
    },
    {
      "cell_type": "code",
      "source": [
        "(sum_list) / 5"
      ],
      "metadata": {
        "colab": {
          "base_uri": "https://localhost:8080/"
        },
        "id": "xbxW8TY0Jn2r",
        "outputId": "307e66cf-0e73-4329-f5cf-0d8dc9c46bc5"
      },
      "execution_count": null,
      "outputs": [
        {
          "output_type": "execute_result",
          "data": {
            "text/plain": [
              "7.6"
            ]
          },
          "metadata": {},
          "execution_count": 155
        }
      ]
    },
    {
      "cell_type": "markdown",
      "source": [
        "Ex 2.\n",
        "1. 빈 리스트(numbers)를 생성.\n",
        "2. 10 이상, 100 미만의 정수 난수 10개를 numbers에 저장.\n",
        "3. numbers에서 짝수들만 선택해서 evens 리스트를 만들고 출력.\n",
        "4. numbers에서 홀수들만 선택해서 odds 리스트를 만들고 출력."
      ],
      "metadata": {
        "id": "tufaOReBJv3n"
      }
    },
    {
      "cell_type": "code",
      "source": [
        "numbers = []\n",
        "for x in range(1,10):\n",
        "    number = random.randrange(10,101)\n",
        "    numbers.append(number)\n",
        "print(numbers)"
      ],
      "metadata": {
        "colab": {
          "base_uri": "https://localhost:8080/"
        },
        "id": "u939ouT9J2NY",
        "outputId": "71f38f61-9ea7-4194-fd9c-7ed20fcfb141"
      },
      "execution_count": null,
      "outputs": [
        {
          "output_type": "stream",
          "name": "stdout",
          "text": [
            "[21, 59, 82, 34, 42, 25, 37, 10, 84]\n"
          ]
        }
      ]
    },
    {
      "cell_type": "code",
      "source": [
        "evens = []\n",
        "odds = []\n",
        "for number in numbers:\n",
        "    if int(number) % 2 == 0:\n",
        "        evens.append(number)\n",
        "    else:\n",
        "        odds.append(number)\n",
        "print(evens)\n",
        "print(odds)"
      ],
      "metadata": {
        "colab": {
          "base_uri": "https://localhost:8080/"
        },
        "id": "pAbBxdUGKMpG",
        "outputId": "a918f279-d0a3-4379-e56d-7d094ced2fec"
      },
      "execution_count": null,
      "outputs": [
        {
          "output_type": "stream",
          "name": "stdout",
          "text": [
            "[82, 34, 42, 10, 84]\n",
            "[21, 59, 25, 37]\n"
          ]
        }
      ]
    },
    {
      "cell_type": "markdown",
      "source": [
        "Ex 3.\n",
        "1. 빈 리스트 numbers를 만듦.\n",
        "2. -10 이상 10 이하인 범위의 정수 난수 10개를 numbers에 저장.\n",
        "3. numbers의 원소가 양수이면 True, 그렇지 않으면 False를 저장하는 is_positive 리스트를 만들고 출력."
      ],
      "metadata": {
        "id": "R8jofxcYMrev"
      }
    },
    {
      "cell_type": "code",
      "source": [
        "numbers = []\n",
        "for x in range(1,10):\n",
        "    number = random.randrange(-10,11)\n",
        "    numbers.append(number)\n",
        "print(numbers)\n",
        "\n",
        "is_positive = []\n",
        "for x in numbers:\n",
        "    if (x > 0):\n",
        "        is_positive.append('True')\n",
        "    else:\n",
        "        is_positive.append('False')\n",
        "print(is_positive)"
      ],
      "metadata": {
        "colab": {
          "base_uri": "https://localhost:8080/"
        },
        "id": "m3zNY7qsMwsH",
        "outputId": "ecbc6426-b07e-4daa-e5d2-116ef5866153"
      },
      "execution_count": null,
      "outputs": [
        {
          "output_type": "stream",
          "name": "stdout",
          "text": [
            "[4, 5, 2, 8, 8, 1, -1, -5, 10]\n",
            "['True', 'True', 'True', 'True', 'True', 'True', 'False', 'False', 'True']\n"
          ]
        }
      ]
    },
    {
      "cell_type": "markdown",
      "source": [
        "Ex 4.\n",
        "1. gender_codes 리스트에 0 또는 1을 랜덤하게 10개를 저장.\n",
        "2. gender_codes의 값이 0이면 'Male', 그렇지 않으며 'Female'을 저장하는 genders 리스트를 만들고 출력."
      ],
      "metadata": {
        "id": "Gqph827fQSux"
      }
    },
    {
      "cell_type": "code",
      "source": [
        "gender_codes = []\n",
        "for x in range(1,10):\n",
        "    gender = random.randrange(0,2)\n",
        "    gender_codes.append(gender)\n",
        "print(gender_codes)\n",
        "\n",
        "genders = []\n",
        "for x in gender_codes:\n",
        "    if(x == 0):\n",
        "        genders.append('Male')\n",
        "    else:\n",
        "        genders.append('Female')\n",
        "print(genders)"
      ],
      "metadata": {
        "colab": {
          "base_uri": "https://localhost:8080/"
        },
        "id": "uIHygg81QfF3",
        "outputId": "626f1d19-0651-48cb-acf3-6c41acaf6b99"
      },
      "execution_count": null,
      "outputs": [
        {
          "output_type": "stream",
          "name": "stdout",
          "text": [
            "[0, 1, 0, 1, 1, 0, 0, 0, 0]\n",
            "['Male', 'Female', 'Male', 'Female', 'Female', 'Male', 'Male', 'Male', 'Male']\n"
          ]
        }
      ]
    },
    {
      "cell_type": "markdown",
      "source": [
        "Ex 5.\n",
        "1. numbers1: 100 미만의 정수 난수 10개를 저장하는 리스트.\n",
        "2. numbers2: 100 미만의 정수 난수 10개를 저장하는 리스트.\n",
        "3. multiplication: numbers1과 numbers2의 같은 인덱스에 있는 원소들끼리의 곱셈 결과를 저장하는 리스트.\n",
        "4. subtraction: numbers1의 원소에서 같은 인덱스에 있는 numbers2의 원소를 뺀 값을 저장하는 리스트.\n",
        "\n",
        "numbers1, numbers2, multiplication, subtraction를 출력."
      ],
      "metadata": {
        "id": "VxCMAcQCTnyf"
      }
    },
    {
      "cell_type": "code",
      "source": [
        "numbers1 = []\n",
        "numbers2 = []\n",
        "for x in range(1,10):\n",
        "    number1 = random.randrange(1,101)\n",
        "    number2 = random.randrange(1,101)\n",
        "    numbers1.append(number1)\n",
        "    numbers2.append(number2)\n",
        "print(numbers1)\n",
        "print(numbers2)\n",
        "\n",
        "multiplication = []\n",
        "for x, y in zip(numbers1, numbers2):\n",
        "    multiplication.append(x * y)\n",
        "print(multiplication)\n",
        "\n",
        "subtraction = []\n",
        "for x,y in zip(numbers1, numbers2):\n",
        "    subtraction.append(x - y)\n",
        "subtraction"
      ],
      "metadata": {
        "colab": {
          "base_uri": "https://localhost:8080/"
        },
        "id": "NFkM8m3VTtDS",
        "outputId": "8bc23708-14b6-4d03-a348-83ddd000cb49"
      },
      "execution_count": null,
      "outputs": [
        {
          "output_type": "stream",
          "name": "stdout",
          "text": [
            "[56, 22, 1, 26, 87, 97, 86, 6, 38]\n",
            "[85, 30, 68, 58, 27, 46, 27, 6, 51]\n",
            "[4760, 660, 68, 1508, 2349, 4462, 2322, 36, 1938]\n"
          ]
        },
        {
          "output_type": "execute_result",
          "data": {
            "text/plain": [
              "[-29, -8, -67, -32, 60, 51, 59, 0, -13]"
            ]
          },
          "metadata": {},
          "execution_count": 206
        }
      ]
    }
  ]
}