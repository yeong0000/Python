{
  "nbformat": 4,
  "nbformat_minor": 0,
  "metadata": {
    "colab": {
      "provenance": [],
      "authorship_tag": "ABX9TyNpS6KCsn2M5UzlJFh3zO/7",
      "include_colab_link": true
    },
    "kernelspec": {
      "name": "python3",
      "display_name": "Python 3"
    },
    "language_info": {
      "name": "python"
    }
  },
  "cells": [
    {
      "cell_type": "markdown",
      "metadata": {
        "id": "view-in-github",
        "colab_type": "text"
      },
      "source": [
        "<a href=\"https://colab.research.google.com/github/yeong0000/Python/blob/main/py01_intro.ipynb\" target=\"_parent\"><img src=\"https://colab.research.google.com/assets/colab-badge.svg\" alt=\"Open In Colab\"/></a>"
      ]
    },
    {
      "cell_type": "markdown",
      "source": [
        "# 파이썬 버전 확인\n"
      ],
      "metadata": {
        "id": "Z4_0AlS21ByI"
      }
    },
    {
      "cell_type": "code",
      "source": [
        "!python --version"
      ],
      "metadata": {
        "colab": {
          "base_uri": "https://localhost:8080/"
        },
        "id": "45KtuUQ41vnw",
        "outputId": "fed82e0d-edf6-4a08-e9a9-b9f67518ac66"
      },
      "execution_count": null,
      "outputs": [
        {
          "output_type": "stream",
          "name": "stdout",
          "text": [
            "Python 3.10.12\n"
          ]
        }
      ]
    },
    {
      "cell_type": "markdown",
      "source": [
        "코드 셀에서 명령창(command prompt)에서 실행하는 명령어를 작성하고 실행할 때는 !로 시작."
      ],
      "metadata": {
        "id": "ZQ2oGaaJ2k0Y"
      }
    },
    {
      "cell_type": "code",
      "execution_count": null,
      "metadata": {
        "colab": {
          "base_uri": "https://localhost:8080/"
        },
        "id": "m1lsOYdGxycc",
        "outputId": "ab54c387-ff75-4d1a-9100-7491a11cd013"
      },
      "outputs": [
        {
          "output_type": "stream",
          "name": "stdout",
          "text": [
            "안녕하세요, python!\n"
          ]
        }
      ],
      "source": [
        "# inline comment(주석)\n",
        "print('안녕하세요, python!') # 파이썬 문장은 세미콜론을 사용하지 않음.\n"
      ]
    },
    {
      "cell_type": "markdown",
      "source": [
        "# 코드셀 실행 방법\n",
        "* 코드셀 왼쪽의 실행 버튼을 클릭\n",
        "* Ctrl+Enter: 현재 포커스가 있는 코드셀을 실행.\n",
        "* Shift+Enter: 현재 포커스가 있는 코드셀을 실행하고, 그 다음 셀로 포커스를 이동.\n",
        "    * 현재 샐 아래에 다음 셀이 없는 경우에는 새로운 코드 셀을 자동으로 만들어 줌.\n",
        "* 런타임 메뉴"
      ],
      "metadata": {
        "id": "9XfHfhvjZXM2"
      }
    },
    {
      "cell_type": "code",
      "source": [
        "print('hello, python!')"
      ],
      "metadata": {
        "id": "TONvHLxt1uyy",
        "colab": {
          "base_uri": "https://localhost:8080/"
        },
        "outputId": "c46e3881-3243-4352-dfdd-3056fd584e41"
      },
      "execution_count": null,
      "outputs": [
        {
          "output_type": "stream",
          "name": "stdout",
          "text": [
            "hello, python!\n"
          ]
        }
      ]
    },
    {
      "cell_type": "markdown",
      "source": [
        "# `print()` 함수"
      ],
      "metadata": {
        "id": "-8kH-TYubP8V"
      }
    },
    {
      "cell_type": "code",
      "source": [
        "print('hello','python','안녕하세요')"
      ],
      "metadata": {
        "colab": {
          "base_uri": "https://localhost:8080/"
        },
        "id": "NcZzcWVUb-TF",
        "outputId": "8f0d2ed5-249f-47b1-a81a-3795910ed65d"
      },
      "execution_count": null,
      "outputs": [
        {
          "output_type": "stream",
          "name": "stdout",
          "text": [
            "hello python 안녕하세요\n"
          ]
        }
      ]
    },
    {
      "cell_type": "markdown",
      "source": [
        "`print()` 함수에 아규먼트를 여러 개 전달하면, 아규먼트들을 공백으로 연결해서 콘솔에 출력함."
      ],
      "metadata": {
        "id": "X4r6uPTIcdrX"
      }
    },
    {
      "cell_type": "markdown",
      "source": [
        "## `format() 메서드를 사용한 출력`"
      ],
      "metadata": {
        "id": "XrUGkgB6beYl"
      }
    },
    {
      "cell_type": "code",
      "source": [
        "print('{} + {} = {}'.format(1,2,3))"
      ],
      "metadata": {
        "colab": {
          "base_uri": "https://localhost:8080/"
        },
        "id": "7_xvMypLbBMV",
        "outputId": "ff5bce79-87ca-42f5-ba22-1c65032ab5a1"
      },
      "execution_count": null,
      "outputs": [
        {
          "output_type": "stream",
          "name": "stdout",
          "text": [
            "1 + 2 = 3\n"
          ]
        }
      ]
    },
    {
      "cell_type": "markdown",
      "source": [
        "## formatted string을 사용한 출력\n",
        "\n",
        "Python 3.6 이상의 버전에서 사용할 수 있음."
      ],
      "metadata": {
        "id": "fKR2WpoWdfC-"
      }
    },
    {
      "cell_type": "code",
      "source": [
        " # 변수이름 = 값\n",
        " x = 1\n",
        " y = 2\n",
        " print(f'{x} + {y} = {x+y}')"
      ],
      "metadata": {
        "colab": {
          "base_uri": "https://localhost:8080/"
        },
        "id": "yV-Zwj5JdHTD",
        "outputId": "373477d9-a3b8-4966-eb8f-bda9ee01f301"
      },
      "execution_count": null,
      "outputs": [
        {
          "output_type": "stream",
          "name": "stdout",
          "text": [
            "1 + 2 = 3\n"
          ]
        }
      ]
    },
    {
      "cell_type": "markdown",
      "source": [
        "## ipynb 노트북에서의 콘솔 출력\n",
        "\n",
        "* 식(expression): 값(value), 변수, 연산, 함수호출\n",
        "    * x, x+y\n",
        "* 문장(statement): 코드의 최소 실행 단위\n",
        "    * z = x + y\n",
        "* ipynb 노트북 코드셀에서 가장 마지막 줄에 있는 문장이 식(expression)이면, 그 식을 평가한 결과를 콘솔에 출력해 줌.\n",
        "    * 마지막 줄에서는 print() 함수를 호출하지 않아도 출력됨."
      ],
      "metadata": {
        "id": "Sz3ShiogfGt2"
      }
    },
    {
      "cell_type": "code",
      "source": [
        "x = 1\n",
        "x # 문장임 -> 마지막 줄에 있었다면 출력이 됨\n",
        "print(x)\n",
        "y = 2\n",
        "print(y)\n",
        "# print(x + y)\n",
        "x + y"
      ],
      "metadata": {
        "colab": {
          "base_uri": "https://localhost:8080/"
        },
        "id": "Ejhsfg4ie5bU",
        "outputId": "bc88dc6a-0855-43de-b4fc-4ed76875c850"
      },
      "execution_count": null,
      "outputs": [
        {
          "output_type": "stream",
          "name": "stdout",
          "text": [
            "1\n",
            "2\n"
          ]
        },
        {
          "output_type": "execute_result",
          "data": {
            "text/plain": [
              "3"
            ]
          },
          "metadata": {},
          "execution_count": 13
        }
      ]
    }
  ]
}