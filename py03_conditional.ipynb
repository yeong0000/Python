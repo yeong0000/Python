{
  "nbformat": 4,
  "nbformat_minor": 0,
  "metadata": {
    "colab": {
      "provenance": [],
      "authorship_tag": "ABX9TyObY4zQj3uLqYktAp7B09wK",
      "include_colab_link": true
    },
    "kernelspec": {
      "name": "python3",
      "display_name": "Python 3"
    },
    "language_info": {
      "name": "python"
    }
  },
  "cells": [
    {
      "cell_type": "markdown",
      "metadata": {
        "id": "view-in-github",
        "colab_type": "text"
      },
      "source": [
        "<a href=\"https://colab.research.google.com/github/yeong0000/Python/blob/main/py03_conditional.ipynb\" target=\"_parent\"><img src=\"https://colab.research.google.com/assets/colab-badge.svg\" alt=\"Open In Colab\"/></a>"
      ]
    },
    {
      "cell_type": "markdown",
      "source": [
        "# else가 없는 조건문\n",
        "\n",
        "```\n",
        "if 조건식:\n",
        "    조건식이 참일 때 실행할 코드(블럭)\n",
        "```\n",
        "\n",
        "* `if 조건식` 뒤에는 반드시 **콜론(:)**을 사용해야 함.\n",
        "* 코드 블록을 작성할 때 `{}`를 사용하지 않음.\n",
        "* `if` 블록 안의 문장들은 반드시 **같은 크기로 들여쓰기(indentation)**을 해야 함."
      ],
      "metadata": {
        "id": "NTAikhlgxYrw"
      }
    },
    {
      "cell_type": "code",
      "execution_count": null,
      "metadata": {
        "id": "tQOtw3_wxTAJ"
      },
      "outputs": [],
      "source": [
        "n = 100"
      ]
    },
    {
      "cell_type": "code",
      "source": [
        "if n > 0:\n",
        "  print('양수')\n",
        "  print('if 블록 끝')\n",
        "print('if 블록 바깥') # if 블록과 상관없이 무조건 실행하는 문장."
      ],
      "metadata": {
        "colab": {
          "base_uri": "https://localhost:8080/"
        },
        "id": "w3T73PsJzMjH",
        "outputId": "6d07796a-3744-4c63-fd1b-9d29a427cf0d"
      },
      "execution_count": null,
      "outputs": [
        {
          "output_type": "stream",
          "name": "stdout",
          "text": [
            "양수\n",
            "if 블록 끝\n",
            "if 블록 바깥\n"
          ]
        }
      ]
    },
    {
      "cell_type": "markdown",
      "source": [
        "# else가 있는 조건문\n",
        "\n",
        "```\n",
        "if 조건식:\n",
        "    참일 때 실행할 코드 블록\n",
        "else:\n",
        "    거짓일 때 실행할 코드 블록\n",
        "```\n"
      ],
      "metadata": {
        "id": "NWUnjBFG03zZ"
      }
    },
    {
      "cell_type": "code",
      "source": [
        "n = 123\n",
        "if n % 2 == 1:\n",
        "  print('홀수')\n",
        "else:\n",
        "  print('짝수')"
      ],
      "metadata": {
        "colab": {
          "base_uri": "https://localhost:8080/"
        },
        "id": "rg610Dws1I0s",
        "outputId": "b7205365-0c4e-4f27-8bfd-cec42ee21c98"
      },
      "execution_count": null,
      "outputs": [
        {
          "output_type": "stream",
          "name": "stdout",
          "text": [
            "홀수\n"
          ]
        }
      ]
    },
    {
      "cell_type": "markdown",
      "source": [
        "파이썬에서 참(True)로 취급하는 값:\n",
        "\n",
        "* 0이 아닌 숫자들\n",
        "* 1개 이상의 문자를 가지고 있는 문자열.\n",
        "* 1개 이상의 원소를 가지고 있는 리스트(와 비슷한 객체)"
      ],
      "metadata": {
        "id": "_i9q7Oad2T2A"
      }
    },
    {
      "cell_type": "markdown",
      "source": [
        "# chained conditional\n",
        "\n",
        "```\n",
        "if 조건식:\n",
        "  조건식1 참일 때 실행할 코드 블록\n",
        "elif 조건식2:\n",
        "  조건식1 거짓이고, 조건식2가 참일 때 시행할 코드 블록\n",
        "...\n",
        "else:\n",
        "  위의 모든 조건이 거짓일 때 실행할 코드 블록\n",
        "```"
      ],
      "metadata": {
        "id": "kV7UXuw73IEZ"
      }
    },
    {
      "cell_type": "markdown",
      "source": [
        "Ex1. 정수 3개를 입력받고 변수에 저장. 평균이 90 이상 \"A\", 80 이상 \"B\", 70 이상 \"C\", 70 미만 \"F\" 출력"
      ],
      "metadata": {
        "id": "xxMTT9T335eJ"
      }
    },
    {
      "cell_type": "code",
      "source": [
        "x = int(input('정수 입력>>> '))\n",
        "y = int(input('정수 입력>>> '))\n",
        "z = int(input('정수 입력>>> '))\n",
        "\n",
        "average = (x + y + z) / 3\n",
        "print(f'평균 = {average}')\n",
        "\n",
        "if average >= 90:\n",
        "    print('A')\n",
        "elif average >= 80:\n",
        "    print('B')\n",
        "elif average >= 70:\n",
        "    print('C')\n",
        "else:\n",
        "    print('F')"
      ],
      "metadata": {
        "colab": {
          "base_uri": "https://localhost:8080/"
        },
        "id": "XvPW_ps73HAW",
        "outputId": "4b9f8a9a-a98e-4312-d5f8-c81e94b65823"
      },
      "execution_count": null,
      "outputs": [
        {
          "output_type": "stream",
          "name": "stdout",
          "text": [
            "정수 입력>>> 90\n",
            "정수 입력>>> 90\n",
            "정수 입력>>> 90\n",
            "평균 = 90.0\n",
            "A\n"
          ]
        }
      ]
    },
    {
      "cell_type": "code",
      "source": [],
      "metadata": {
        "id": "gxPnI_MI4tMM"
      },
      "execution_count": null,
      "outputs": []
    }
  ]
}