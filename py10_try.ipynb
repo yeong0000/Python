{
  "nbformat": 4,
  "nbformat_minor": 0,
  "metadata": {
    "colab": {
      "provenance": [],
      "authorship_tag": "ABX9TyOaZE0fG72MywN3zE9HEaAQ",
      "include_colab_link": true
    },
    "kernelspec": {
      "name": "python3",
      "display_name": "Python 3"
    },
    "language_info": {
      "name": "python"
    }
  },
  "cells": [
    {
      "cell_type": "markdown",
      "metadata": {
        "id": "view-in-github",
        "colab_type": "text"
      },
      "source": [
        "<a href=\"https://colab.research.google.com/github/yeong0000/Python/blob/main/py10_try.ipynb\" target=\"_parent\"><img src=\"https://colab.research.google.com/assets/colab-badge.svg\" alt=\"Open In Colab\"/></a>"
      ]
    },
    {
      "cell_type": "markdown",
      "source": [
        "# 오류(Error) 처리\n",
        "\n",
        "* 오류가 발생한 위치와 원인을 파악해서 오류가 발생하지 않도록 코드 수정.\n",
        "* 오류가 발생하더라도 프로그램이 비정상적으로 종료되지 않고 계속 실행되도록 처리 --> try 구문\n",
        "    * Java는 반드시 try-catch 구문을 사용해야만 하는 Exception 종류들이 있음.\n",
        "        * NULLPointException: try-catch가 필수는 아님.\n",
        "        * IOException, SQLException, ...: try-catch가 필수.\n",
        "    * Python은 모든 오류 처리에서 try-catch가 필수는 아님."
      ],
      "metadata": {
        "id": "7XDiAx9SHy0N"
      }
    },
    {
      "cell_type": "markdown",
      "source": [
        "**Python try-except 구문**\n",
        "\n",
        "```\n",
        "try:\n",
        "    (1) 실행할 코드 블록\n",
        "except [에러 클래스 이름 [as 별명]]:\n",
        "    (2) 에러가 발생했을 때 실행할 코드 블록\n",
        "[else:\n",
        "    (3) 에러가 발생하지 않았을 때 실행할 코드 블록]\n",
        "[finally:\n",
        "    (4) try 블록 실행 중에 에러 발생 여부와 상관 없이 항상 실행할 코드 블록]\n",
        "```\n",
        "\n",
        "* 에러가 발생하지 않는 경우: (1) -> (3) -> (4)\n",
        "* 에러가 발생한 경우: (1) -> (2) -> (4)\n",
        "* eacept 구문에서 에러 클래스의 이름을 생략하면, 모든 종류의 에러를 잡아서 처리할 수 있음.\n",
        "* 특정 종류의 에러만 처리하고자 할 때는, except 구문에서 에러 클래스 이름을 명시."
      ],
      "metadata": {
        "id": "FrymrBUkJ1K1"
      }
    },
    {
      "cell_type": "code",
      "source": [
        "try:\n",
        "    x = int(input('정수 입력>>> '))\n",
        "    print(x)\n",
        "except:\n",
        "    print('정수로 입력해야합니다')"
      ],
      "metadata": {
        "colab": {
          "base_uri": "https://localhost:8080/"
        },
        "id": "9NpKBYnYMI0c",
        "outputId": "4892f4a8-620d-4095-9e18-eae3f1851734"
      },
      "execution_count": null,
      "outputs": [
        {
          "output_type": "stream",
          "name": "stdout",
          "text": [
            "정수 입력>>> 12.3\n",
            "정수로 입력해야합니다\n"
          ]
        }
      ]
    },
    {
      "cell_type": "code",
      "source": [
        "try:\n",
        "    x = int(input('정수 입력>>> ')) #(1)\n",
        "except ValueError as e:\n",
        "    print(e) #(2)\n",
        "else:\n",
        "    print(f'x = {x}') #(3)\n",
        "finally:\n",
        "    print('=== end ===') #(4)"
      ],
      "metadata": {
        "colab": {
          "base_uri": "https://localhost:8080/"
        },
        "id": "2DqIR_z_Np0V",
        "outputId": "ea7f6220-5001-47c1-af46-8d88cc065ee1"
      },
      "execution_count": null,
      "outputs": [
        {
          "output_type": "stream",
          "name": "stdout",
          "text": [
            "정수 입력>>> 1\n",
            "x = 1\n",
            "=== end ===\n"
          ]
        }
      ]
    },
    {
      "cell_type": "markdown",
      "source": [
        "## Ex 1.\n",
        "\n",
        "정수 1개를 입력받고, 입력받은 정수를 출력하세요.\n",
        "\n",
        "정수로 변환할 수 없는 문자열이 입력된 경우에는 적절한 오류 메시지를 출력한 후 다시 입력을 받아야 함."
      ],
      "metadata": {
        "id": "4JOvRGcHTLqY"
      }
    },
    {
      "cell_type": "code",
      "source": [
        "while True: # 무한 반복문 - 정수를 입력받았을 때 출력하고 반복문을 종료\n",
        "    try:\n",
        "        n = int(input('정수 입력>>> '))\n",
        "        print(f'n = {n}')\n",
        "        break # 반복문 종료\n",
        "    except:\n",
        "        print('정수 입력해주세요')"
      ],
      "metadata": {
        "colab": {
          "base_uri": "https://localhost:8080/"
        },
        "id": "NM0x26cZTNDQ",
        "outputId": "6a77f806-f962-4a0b-d5e8-462e8ef08835"
      },
      "execution_count": null,
      "outputs": [
        {
          "output_type": "stream",
          "name": "stdout",
          "text": [
            "정수 입력>>> 정수\n",
            "정수 입력해주세요\n",
            "정수 입력>>> 12\n",
            "n = 12\n"
          ]
        }
      ]
    },
    {
      "cell_type": "markdown",
      "source": [
        "## Ex 2. 단어 개수 세기\n",
        "\n",
        "리스트 words가 가지고 있는 단어들을 key로 하고, 그 단어가 리스트에 나오는 횟수를 값으로 하는 dict를 생성하고 출력하세요."
      ],
      "metadata": {
        "id": "pxKDCTckTNZm"
      }
    },
    {
      "cell_type": "code",
      "source": [
        "words = ['java', 'python', 'javascript', 'python', 'sql', 'java', 'python']\n",
        "#> 결과: {'java': 2, 'python': 3, 'javascript': 1, 'sql': 1}"
      ],
      "metadata": {
        "id": "2uPefkteTQMT"
      },
      "execution_count": null,
      "outputs": []
    },
    {
      "cell_type": "code",
      "source": [
        "word_counts = {} # 단어/단어 빈도수를 저장할 빈 dict\n",
        "for w in words: #리스트 words에서 단어를 순서대로 꺼내서 반복하면서\n",
        "    if w in word_counts: # 단어가 dict의 키(key)로 존재하면\n",
        "        word_counts[w] += 1\n",
        "    else: # 단어 w가 dict의 키로 존재하지 않을 때 - 단어를 처음 발견했을 때\n",
        "        word_counts[w] = 1\n",
        "    print(word_counts)"
      ],
      "metadata": {
        "colab": {
          "base_uri": "https://localhost:8080/"
        },
        "id": "yTf2qtH6YzeP",
        "outputId": "a004fbb9-35c1-4166-85e5-7d2a4044ffb0"
      },
      "execution_count": null,
      "outputs": [
        {
          "output_type": "stream",
          "name": "stdout",
          "text": [
            "{'java': 1}\n",
            "{'java': 1, 'python': 1}\n",
            "{'java': 1, 'python': 1, 'javascript': 1}\n",
            "{'java': 1, 'python': 2, 'javascript': 1}\n",
            "{'java': 1, 'python': 2, 'javascript': 1, 'sql': 1}\n",
            "{'java': 2, 'python': 2, 'javascript': 1, 'sql': 1}\n",
            "{'java': 2, 'python': 3, 'javascript': 1, 'sql': 1}\n"
          ]
        }
      ]
    },
    {
      "cell_type": "code",
      "source": [
        "word_counts = {}\n",
        "for w in words:\n",
        "    try:\n",
        "        word_counts[w] += 1 # 기존 키를 갖는 아이템의 값을 변경\n",
        "    except:\n",
        "        word_counts[w] = 1 # 새로운 키-값 아이템을 추가\n",
        "\n",
        "print(word_counts)"
      ],
      "metadata": {
        "colab": {
          "base_uri": "https://localhost:8080/"
        },
        "id": "WJyH8l-4bsww",
        "outputId": "55bfcfd1-8d6b-4917-fe5a-040c8715b9f7"
      },
      "execution_count": null,
      "outputs": [
        {
          "output_type": "stream",
          "name": "stdout",
          "text": [
            "{'java': 2, 'python': 3, 'javascript': 1, 'sql': 1}\n"
          ]
        }
      ]
    },
    {
      "cell_type": "code",
      "source": [
        "# collection 모듈에서 defaultdict 함수를 임포트\n",
        "from collections import defaultdict"
      ],
      "metadata": {
        "id": "WWVI5II_c83o"
      },
      "execution_count": null,
      "outputs": []
    },
    {
      "cell_type": "code",
      "source": [
        "word_count2 = defaultdict(int)\n",
        "for w in words:\n",
        "    word_count2[w] += 1\n",
        "\n",
        "print(word_count2)"
      ],
      "metadata": {
        "colab": {
          "base_uri": "https://localhost:8080/"
        },
        "id": "NjoQzycdduFp",
        "outputId": "bf4bfcb7-23b7-4922-ffdc-2b16f4b1e914"
      },
      "execution_count": null,
      "outputs": [
        {
          "output_type": "stream",
          "name": "stdout",
          "text": [
            "defaultdict(<class 'int'>, {'java': 2, 'python': 3, 'javascript': 1, 'sql': 1})\n"
          ]
        }
      ]
    }
  ]
}