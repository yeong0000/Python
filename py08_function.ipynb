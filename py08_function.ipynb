{
  "nbformat": 4,
  "nbformat_minor": 0,
  "metadata": {
    "colab": {
      "provenance": [],
      "authorship_tag": "ABX9TyOemDxLAN/AxxxKuKxCvSUt",
      "include_colab_link": true
    },
    "kernelspec": {
      "name": "python3",
      "display_name": "Python 3"
    },
    "language_info": {
      "name": "python"
    }
  },
  "cells": [
    {
      "cell_type": "markdown",
      "metadata": {
        "id": "view-in-github",
        "colab_type": "text"
      },
      "source": [
        "<a href=\"https://colab.research.google.com/github/yeong0000/Python/blob/main/py08_function.ipynb\" target=\"_parent\"><img src=\"https://colab.research.google.com/assets/colab-badge.svg\" alt=\"Open In Colab\"/></a>"
      ]
    },
    {
      "cell_type": "markdown",
      "source": [
        "# 1급 객체(first-class object)로서의 함수\n",
        "\n",
        "* 함수는 변수에 할당할 수 있음.\n",
        "* 함수의 파라미터에 아규먼트로 다른 함수를 전달할 수 있음.\n",
        "    * 함수는 아규먼트가 될 수 있음.\n",
        "* 함수는 다른 함수의 리턴 값이 될 수 있음.\n",
        "* 함수 내부에서 다른 함수를 정의할 수 있음."
      ],
      "metadata": {
        "id": "eprhyM5cxK85"
      }
    },
    {
      "cell_type": "markdown",
      "source": [
        "# 함수를 변수에 할당"
      ],
      "metadata": {
        "id": "3X650k-_yPWp"
      }
    },
    {
      "cell_type": "code",
      "execution_count": null,
      "metadata": {
        "id": "GDFo6_QhxDPG"
      },
      "outputs": [],
      "source": [
        "def twice(x):\n",
        "    return 2 * x"
      ]
    },
    {
      "cell_type": "code",
      "source": [
        "result = twice(100) # 함수 호출 결과(리턴 값)을 변수에 저장.\n",
        "result"
      ],
      "metadata": {
        "colab": {
          "base_uri": "https://localhost:8080/"
        },
        "id": "f3DXtuoPyWjP",
        "outputId": "0025c392-4422-41fb-d928-1614db2db0e5"
      },
      "execution_count": null,
      "outputs": [
        {
          "output_type": "execute_result",
          "data": {
            "text/plain": [
              "200"
            ]
          },
          "metadata": {},
          "execution_count": 3
        }
      ]
    },
    {
      "cell_type": "code",
      "source": [
        "double = twice # 함수(객체)를 변수에 저장.\n",
        "double"
      ],
      "metadata": {
        "colab": {
          "base_uri": "https://localhost:8080/"
        },
        "id": "l5B6FKe0yoQY",
        "outputId": "b7e413f1-140e-4d2a-9027-8ff0ab0250a6"
      },
      "execution_count": null,
      "outputs": [
        {
          "output_type": "execute_result",
          "data": {
            "text/plain": [
              "<function __main__.twice(x)>"
            ]
          },
          "metadata": {},
          "execution_count": 5
        }
      ]
    },
    {
      "cell_type": "markdown",
      "source": [
        "#  함수를 아규먼트로 사용"
      ],
      "metadata": {
        "id": "gt0r1qAOzFUB"
      }
    },
    {
      "cell_type": "code",
      "source": [
        "def calculate(x,y,fn):\n",
        "    result = fn(x,y)\n",
        "    return result"
      ],
      "metadata": {
        "id": "Sn4nxmOCyvtz"
      },
      "execution_count": null,
      "outputs": []
    },
    {
      "cell_type": "code",
      "source": [
        "def plus(x,y):\n",
        "    return x+y"
      ],
      "metadata": {
        "id": "_gravN_Jzn80"
      },
      "execution_count": null,
      "outputs": []
    },
    {
      "cell_type": "code",
      "source": [
        "calculate(1,2, plus)"
      ],
      "metadata": {
        "colab": {
          "base_uri": "https://localhost:8080/"
        },
        "id": "Pmibu_kuzsw5",
        "outputId": "0b503927-a22f-4915-ebc3-327541819701"
      },
      "execution_count": null,
      "outputs": [
        {
          "output_type": "execute_result",
          "data": {
            "text/plain": [
              "3"
            ]
          },
          "metadata": {},
          "execution_count": 10
        }
      ]
    },
    {
      "cell_type": "code",
      "source": [
        "def minus(x,y):\n",
        "    return x- y"
      ],
      "metadata": {
        "id": "HYqe0v_60g_u"
      },
      "execution_count": null,
      "outputs": []
    },
    {
      "cell_type": "code",
      "source": [
        "calculate(1,2,minus)"
      ],
      "metadata": {
        "colab": {
          "base_uri": "https://localhost:8080/"
        },
        "id": "YLIqEdO50mOD",
        "outputId": "18f83883-3b2a-4f41-ccbe-78604a7fc451"
      },
      "execution_count": null,
      "outputs": [
        {
          "output_type": "execute_result",
          "data": {
            "text/plain": [
              "-1"
            ]
          },
          "metadata": {},
          "execution_count": 12
        }
      ]
    },
    {
      "cell_type": "markdown",
      "source": [
        "# 내부 함수, 함수 리턴"
      ],
      "metadata": {
        "id": "ImAwBP8p1LFg"
      }
    },
    {
      "cell_type": "code",
      "source": [
        "def make_increment(n):  # 외부 함수\n",
        "    def add_n(x): # 내부 함수. 지역 함수\n",
        "        return x + n # 내부 함수는 외부 함수의 지역변수(파라미터 포함)들을 사용할 수 있음.\n",
        "\n",
        "    return add_n"
      ],
      "metadata": {
        "id": "4w2NAk-31Oeu"
      },
      "execution_count": null,
      "outputs": []
    },
    {
      "cell_type": "code",
      "source": [
        "increase_by_2 = make_increment(2)\n",
        "increase_by_2"
      ],
      "metadata": {
        "colab": {
          "base_uri": "https://localhost:8080/"
        },
        "id": "MhSvSARr185N",
        "outputId": "a8a4d373-ffd5-4167-c014-3e880de1288c"
      },
      "execution_count": null,
      "outputs": [
        {
          "output_type": "execute_result",
          "data": {
            "text/plain": [
              "<function __main__.make_increment.<locals>.add_n(x)>"
            ]
          },
          "metadata": {},
          "execution_count": 15
        }
      ]
    },
    {
      "cell_type": "code",
      "source": [
        "increase_by_2(100)"
      ],
      "metadata": {
        "colab": {
          "base_uri": "https://localhost:8080/"
        },
        "id": "IxgCL0oz2DEA",
        "outputId": "d51868e5-988a-4987-b739-b9d5d8b33beb"
      },
      "execution_count": null,
      "outputs": [
        {
          "output_type": "execute_result",
          "data": {
            "text/plain": [
              "102"
            ]
          },
          "metadata": {},
          "execution_count": 16
        }
      ]
    },
    {
      "cell_type": "code",
      "source": [
        "increase_by_10 = make_increment(10)\n",
        "increase_by_10(100)"
      ],
      "metadata": {
        "colab": {
          "base_uri": "https://localhost:8080/"
        },
        "id": "oM32ns9Y25Dp",
        "outputId": "208966ab-db3f-4d50-fa85-9e0dc5c77c5c"
      },
      "execution_count": null,
      "outputs": [
        {
          "output_type": "execute_result",
          "data": {
            "text/plain": [
              "110"
            ]
          },
          "metadata": {},
          "execution_count": 18
        }
      ]
    },
    {
      "cell_type": "code",
      "source": [
        "make_increment(5)"
      ],
      "metadata": {
        "colab": {
          "base_uri": "https://localhost:8080/"
        },
        "id": "_GQPFsdu3BLE",
        "outputId": "c31aae9f-6430-42f6-dff6-652c76922447"
      },
      "execution_count": null,
      "outputs": [
        {
          "output_type": "execute_result",
          "data": {
            "text/plain": [
              "<function __main__.make_increment.<locals>.add_n(x)>"
            ]
          },
          "metadata": {},
          "execution_count": 19
        }
      ]
    },
    {
      "cell_type": "markdown",
      "source": [
        "# Lambda expression(람다 표현식)\n",
        "\n",
        "```\n",
        "lambda param1, param2, ...: expression\n",
        "```\n",
        "\n",
        "* 이름이 없는 함수 표기법\n",
        "* 함수 이름 없이 함수의 파라미터 선언과 반환 값 또는 반환 식으로만 함수를 정의하는 방법.\n",
        "* 파이썬은 2줄 이상의 문장이 포함된 람다 표현식 문법을 제공하지 않음."
      ],
      "metadata": {
        "id": "zCt0EAGg8VLh"
      }
    },
    {
      "cell_type": "code",
      "source": [
        "minus = lambda x , y : x - y\n",
        "minus"
      ],
      "metadata": {
        "colab": {
          "base_uri": "https://localhost:8080/"
        },
        "id": "fG6O2HiY9u0y",
        "outputId": "023186b2-c23b-40b9-9ede-3c198d403367"
      },
      "execution_count": null,
      "outputs": [
        {
          "output_type": "execute_result",
          "data": {
            "text/plain": [
              "<function __main__.<lambda>(x, y)>"
            ]
          },
          "metadata": {},
          "execution_count": 21
        }
      ]
    },
    {
      "cell_type": "code",
      "source": [
        "calculate(2,3, lambda x,y : x*y)"
      ],
      "metadata": {
        "colab": {
          "base_uri": "https://localhost:8080/"
        },
        "id": "8sHapABr-ap1",
        "outputId": "82a06570-91e6-4b75-b11f-93d42844871e"
      },
      "execution_count": null,
      "outputs": [
        {
          "output_type": "execute_result",
          "data": {
            "text/plain": [
              "6"
            ]
          },
          "metadata": {},
          "execution_count": 22
        }
      ]
    },
    {
      "cell_type": "code",
      "source": [
        "calculate(2,3, lambda x,y : x/y)"
      ],
      "metadata": {
        "colab": {
          "base_uri": "https://localhost:8080/"
        },
        "id": "RwUixrqk_GNs",
        "outputId": "31213bb9-ffb0-4377-f7d8-8ed424cf7298"
      },
      "execution_count": null,
      "outputs": [
        {
          "output_type": "execute_result",
          "data": {
            "text/plain": [
              "0.6666666666666666"
            ]
          },
          "metadata": {},
          "execution_count": 23
        }
      ]
    },
    {
      "cell_type": "markdown",
      "source": [
        "Ex1. calculate 함수에 2개의 숫자 중에서 더 큰 수를 리턴하는 람다 표현식을 전달"
      ],
      "metadata": {
        "id": "itYGO5Il_TE0"
      }
    },
    {
      "cell_type": "code",
      "source": [
        "calculate(1,2,lambda x, y : x if x > y else y)"
      ],
      "metadata": {
        "colab": {
          "base_uri": "https://localhost:8080/"
        },
        "id": "Q0T2tJSc_rud",
        "outputId": "01f2d324-9302-46c5-b501-592cde1ed1ea"
      },
      "execution_count": null,
      "outputs": [
        {
          "output_type": "execute_result",
          "data": {
            "text/plain": [
              "2"
            ]
          },
          "metadata": {},
          "execution_count": 24
        }
      ]
    },
    {
      "cell_type": "markdown",
      "source": [
        "Ex2. calculate 함수에, 첫번째 아규먼트가 크면 True 그렇지 않으면 False를 리턴하는 람다 표현식을 전달"
      ],
      "metadata": {
        "id": "Gc1Xug3t_c7K"
      }
    },
    {
      "cell_type": "code",
      "source": [
        "calculate(1,2,lambda x,y : True if x > y else False)"
      ],
      "metadata": {
        "colab": {
          "base_uri": "https://localhost:8080/"
        },
        "id": "xiGaq8eQ_sBC",
        "outputId": "e56ef977-a1ea-42eb-b7bc-c46d89c92701"
      },
      "execution_count": null,
      "outputs": [
        {
          "output_type": "execute_result",
          "data": {
            "text/plain": [
              "False"
            ]
          },
          "metadata": {},
          "execution_count": 25
        }
      ]
    },
    {
      "cell_type": "markdown",
      "source": [
        "# Filter 함수\n",
        "\n",
        "조건에 맞는 원소들만 선택."
      ],
      "metadata": {
        "id": "EAUY44xeCFfD"
      }
    },
    {
      "cell_type": "code",
      "source": [
        "def my_filter(iterable, fn):\n",
        "    \"\"\"\n",
        "    리스트 iterable의 원소들 중에서 함수 fn의 호출 결과 값이 True인 원소들로만 이루어진 리스트를 리턴.\n",
        "\n",
        "    param iterable: 리스트.\n",
        "    param fn: 아규먼트가 1개이고, True/false를 리턴하는 함수.\n",
        "    \"\"\"\n",
        "    return [x for x in iterable if fn(x)]\n",
        "\n",
        "    # result = [] # 필터링된 원소들을 저장할 빈 리스트\n",
        "    # for x in iterable: # 리스트의 원소들을 순서대로 반복하면서,\n",
        "    #     if fn(x): # 그 원소를 함수에게 전달했을 때 True를 리턴하면\n",
        "    #         # 필터링 조건을 만족하면\n",
        "    #         result.append(x) # 결과 리스트에 필터링된 원소를 추가.\n",
        "\n",
        "    # return result"
      ],
      "metadata": {
        "id": "GG9y7ayZCXEz"
      },
      "execution_count": null,
      "outputs": []
    },
    {
      "cell_type": "code",
      "source": [
        "numbers = [1,-2,3,4,-5,-6,7]"
      ],
      "metadata": {
        "id": "jEFg7Vs9KRpm"
      },
      "execution_count": null,
      "outputs": []
    },
    {
      "cell_type": "code",
      "source": [
        "my_filter(numbers, lambda x : x > 0)"
      ],
      "metadata": {
        "colab": {
          "base_uri": "https://localhost:8080/"
        },
        "id": "eFrOm2ZJKXh-",
        "outputId": "d8740a2c-3aa8-4438-bd5c-e36c037a514d"
      },
      "execution_count": null,
      "outputs": [
        {
          "output_type": "execute_result",
          "data": {
            "text/plain": [
              "[1, 3, 4, 7]"
            ]
          },
          "metadata": {},
          "execution_count": 34
        }
      ]
    },
    {
      "cell_type": "code",
      "source": [
        "my_filter(numbers, lambda x : x > 0)"
      ],
      "metadata": {
        "colab": {
          "base_uri": "https://localhost:8080/"
        },
        "id": "9ZiJmbx-MnW9",
        "outputId": "243237fa-adc2-430e-99c8-e408ce1fc860"
      },
      "execution_count": null,
      "outputs": [
        {
          "output_type": "execute_result",
          "data": {
            "text/plain": [
              "[1, 3, 4, 7]"
            ]
          },
          "metadata": {},
          "execution_count": 35
        }
      ]
    },
    {
      "cell_type": "code",
      "source": [
        "strings = ['python', 'java', 'javascript', 'sql']\n",
        "\n",
        "# my_filter 함수를 사용해서 strings에서 5글자 이상인 문자열들만 필터링\n",
        "my_filter(strings, lambda x :len(x) > 5)"
      ],
      "metadata": {
        "colab": {
          "base_uri": "https://localhost:8080/"
        },
        "id": "diBQbqDOMuA_",
        "outputId": "0789986a-61be-4897-c291-900f57133c2e"
      },
      "execution_count": null,
      "outputs": [
        {
          "output_type": "execute_result",
          "data": {
            "text/plain": [
              "['python', 'javascript']"
            ]
          },
          "metadata": {},
          "execution_count": 38
        }
      ]
    },
    {
      "cell_type": "markdown",
      "source": [
        "## map 함수\n",
        "\n",
        "원소들을 규칙에 따라서 다른 값으로 변환."
      ],
      "metadata": {
        "id": "2p0K9dl5ODXk"
      }
    },
    {
      "cell_type": "code",
      "source": [
        "def my_mapper(iterable, fn):\n",
        "    \"\"\"\n",
        "    리스트 iterable의 원소들을 함수 fn의 리턴 값으로 변환한 리스트를 리턴.\n",
        "\n",
        "    Param iterable: 리스트.\n",
        "    Param fn: 아규먼트가 1개이고 리턴 값이 있는 함수.\n",
        "    \"\"\"\n",
        "    return[fn(x) for x in iterable]"
      ],
      "metadata": {
        "id": "3Lwv_wzhOQY3"
      },
      "execution_count": null,
      "outputs": []
    },
    {
      "cell_type": "code",
      "source": [
        "print(numbers)"
      ],
      "metadata": {
        "colab": {
          "base_uri": "https://localhost:8080/"
        },
        "id": "RcYWLIVbRqFc",
        "outputId": "ebb44773-2617-4783-f861-e2eed412fea1"
      },
      "execution_count": null,
      "outputs": [
        {
          "output_type": "stream",
          "name": "stdout",
          "text": [
            "[1, -2, 3, 4, -5, -6, 7]\n"
          ]
        }
      ]
    },
    {
      "cell_type": "code",
      "source": [
        "# 리스트 numbers의 원소들의 제곱으로 이루어진 리스트\n",
        "my_mapper(numbers, lambda x : x**2)"
      ],
      "metadata": {
        "colab": {
          "base_uri": "https://localhost:8080/"
        },
        "id": "Vty2TFxLRemW",
        "outputId": "ba9ec865-0b4f-43bf-dcf9-c5d00deb5371"
      },
      "execution_count": null,
      "outputs": [
        {
          "output_type": "execute_result",
          "data": {
            "text/plain": [
              "[1, 4, 9, 16, 25, 36, 49]"
            ]
          },
          "metadata": {},
          "execution_count": 44
        }
      ]
    },
    {
      "cell_type": "code",
      "source": [
        "# 리스트 numgaersm=의 원소가 짝수이면 'even', 홀수이면 'odd'를 저장하는 리스트\n",
        "my_mapper (numbers, lambda x : 'even' if x % 2 == 0 else 'odd' )"
      ],
      "metadata": {
        "colab": {
          "base_uri": "https://localhost:8080/"
        },
        "id": "bGvkglrpO1hi",
        "outputId": "5d6d4564-c67a-4a90-ba09-b3c63283aeab"
      },
      "execution_count": null,
      "outputs": [
        {
          "output_type": "execute_result",
          "data": {
            "text/plain": [
              "['odd', 'even', 'odd', 'even', 'odd', 'even', 'odd']"
            ]
          },
          "metadata": {},
          "execution_count": 46
        }
      ]
    },
    {
      "cell_type": "code",
      "source": [
        "# strings이 가지고 있는 문자열의 길이들로 이루어진 리스트\n",
        "my_mapper(strings, lambda x:len(x))"
      ],
      "metadata": {
        "colab": {
          "base_uri": "https://localhost:8080/"
        },
        "id": "pD25Y08uR7lo",
        "outputId": "c05f052b-2086-4302-f2de-ce2f653683e3"
      },
      "execution_count": null,
      "outputs": [
        {
          "output_type": "execute_result",
          "data": {
            "text/plain": [
              "[6, 4, 10, 3]"
            ]
          },
          "metadata": {},
          "execution_count": 51
        }
      ]
    },
    {
      "cell_type": "code",
      "source": [
        "# strings의 문자열들을 대문자로 변환한 리스트\n",
        "my_mapper(strings, lambda x:x.upper())"
      ],
      "metadata": {
        "colab": {
          "base_uri": "https://localhost:8080/"
        },
        "id": "QoILKw3dTQsB",
        "outputId": "c95b8617-0a1c-4885-8d44-0fa91a898863"
      },
      "execution_count": null,
      "outputs": [
        {
          "output_type": "execute_result",
          "data": {
            "text/plain": [
              "['PYTHON', 'JAVA', 'JAVASCRIPT', 'SQL']"
            ]
          },
          "metadata": {},
          "execution_count": 52
        }
      ]
    }
  ]
}