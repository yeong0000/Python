{
  "nbformat": 4,
  "nbformat_minor": 0,
  "metadata": {
    "colab": {
      "provenance": [],
      "mount_file_id": "1y09PG_b-wfXcmWrvL7Hqop3ONaJf2vfk",
      "authorship_tag": "ABX9TyPboKngihvh7speyzvZrfsf",
      "include_colab_link": true
    },
    "kernelspec": {
      "name": "python3",
      "display_name": "Python 3"
    },
    "language_info": {
      "name": "python"
    }
  },
  "cells": [
    {
      "cell_type": "markdown",
      "metadata": {
        "id": "view-in-github",
        "colab_type": "text"
      },
      "source": [
        "<a href=\"https://colab.research.google.com/github/yeong0000/Python/blob/main/py12_csv.ipynb\" target=\"_parent\"><img src=\"https://colab.research.google.com/assets/colab-badge.svg\" alt=\"Open In Colab\"/></a>"
      ]
    },
    {
      "cell_type": "markdown",
      "source": [
        "CSV(Comma-Separated Values) 파일: 쉼표(,)로 값들이 구분된 텍스트 파일."
      ],
      "metadata": {
        "id": "Aw6BtSPDqJbd"
      }
    },
    {
      "cell_type": "markdown",
      "source": [
        "* Colab 연결(가상머신 할당)\n",
        "* Colab에서 Google Drive를 마운트(연결)\n",
        "* Google Drive의 'Colab Notebooks/lab_python' 폴더에 csv_exam.csv 파일을 업로드\n",
        "\n",
        "1. csv_exam.csv 파일을 읽기 모드로 open.\n",
        "2. 파일의 첫번째 줄을 칼럼 이름이기 때문에 읽고 추가 작업 없이 건너뜀.\n",
        "3. 파일의 두번째 줄부터 마지막 줄까지 한 줄씩 읽으면서 반복:\n",
        "    * 각 줄에서 읽은 내용을 쉼표(,)로 구분한 리스트들을 저장하는 리스트를 만듦.\n",
        "    * [['1', '1', '50', '98', '50'], ['2','1','60','97',''60],...]\n",
        "4. 위에서 만들어진 2차원 리스트의 모든 값들을 숫자로 변환.\n",
        "    * [[1, 1, 50, 98, 50], [2,1,60,97,60],...]\n",
        "5. 2차원 숫지 라스트에서 수학 점수들로만 이루어진 1차원 리스트를 만듦.\n",
        "    * [50,60,45,...]\n",
        "6. 수학 점수의 평균, 최댓값, 최솟값을 찾음.\n",
        "7. 1반(class=1) 학생들의 수학 점수의 평균, 최댓값, 최솟값을 찾음."
      ],
      "metadata": {
        "id": "RLQ-yF48qX2M"
      }
    },
    {
      "cell_type": "code",
      "source": [
        "file = '/content/drive/MyDrive/Colab Notebooks/lab_python/csv_exam.csv'"
      ],
      "metadata": {
        "id": "QNf3s1OGF0xQ"
      },
      "execution_count": 9,
      "outputs": []
    },
    {
      "cell_type": "code",
      "source": [
        "exam = [] # 각 학생들의 데이터(id, class, math, english, science)를 저장할 리스트"
      ],
      "metadata": {
        "id": "Tv6olpyDHz2R"
      },
      "execution_count": 13,
      "outputs": []
    },
    {
      "cell_type": "code",
      "source": [
        "with open(file, mode='rt') as f:\n",
        "    f.readline() # 파일에서 첫번째 줄을 읽고 넘어감.\n",
        "    for line in f:\n",
        "        # print(line.strip())\n",
        "        # 읽은 한 줄에서 앞뒤의 공백 문자를 제거하고, 쉼표로 구분된 문자열 리스트를 만듦.\n",
        "        temp = line.strip().split(',') # 앞,뒤 공백제거 쉼표를 기준으로 나눈다\n",
        "        # print(temp)\n",
        "        exam.append(temp) # 리스트 exam에 리스트를 추가(append)"
      ],
      "metadata": {
        "id": "TPAZb--zGBdg"
      },
      "execution_count": 15,
      "outputs": []
    },
    {
      "cell_type": "code",
      "source": [
        "exam"
      ],
      "metadata": {
        "colab": {
          "base_uri": "https://localhost:8080/"
        },
        "id": "f_uZJ1nsIaFr",
        "outputId": "3c1636b3-ac9f-4c9d-b813-23df16982a74"
      },
      "execution_count": 16,
      "outputs": [
        {
          "output_type": "execute_result",
          "data": {
            "text/plain": [
              "[['1', '1', '50', '98', '50'],\n",
              " ['2', '1', '60', '97', '60'],\n",
              " ['3', '1', '45', '86', '78'],\n",
              " ['4', '1', '30', '98', '58'],\n",
              " ['5', '2', '25', '80', '65'],\n",
              " ['6', '2', '50', '89', '98'],\n",
              " ['7', '2', '80', '90', '45'],\n",
              " ['8', '2', '90', '78', '25'],\n",
              " ['9', '3', '20', '98', '15'],\n",
              " ['10', '3', '50', '98', '45'],\n",
              " ['11', '3', '65', '65', '65'],\n",
              " ['12', '3', '45', '85', '32'],\n",
              " ['13', '4', '46', '98', '65'],\n",
              " ['14', '4', '48', '87', '12'],\n",
              " ['15', '4', '75', '56', '78'],\n",
              " ['16', '4', '58', '98', '65'],\n",
              " ['17', '5', '65', '68', '98'],\n",
              " ['18', '5', '80', '78', '90'],\n",
              " ['19', '5', '89', '68', '87'],\n",
              " ['20', '5', '78', '83', '58']]"
            ]
          },
          "metadata": {},
          "execution_count": 16
        }
      ]
    },
    {
      "cell_type": "code",
      "source": [
        "with open(file, mode = 'rt') as f:\n",
        "    f.readline()\n",
        "    exam = [line.strip().split(',') for line in f]"
      ],
      "metadata": {
        "id": "GbpchYrhIxja"
      },
      "execution_count": 18,
      "outputs": []
    },
    {
      "cell_type": "code",
      "source": [
        "exam"
      ],
      "metadata": {
        "colab": {
          "base_uri": "https://localhost:8080/"
        },
        "id": "-zo7UDkeI5yv",
        "outputId": "c028d08d-fe41-4086-e25f-60960a27def8"
      },
      "execution_count": 19,
      "outputs": [
        {
          "output_type": "execute_result",
          "data": {
            "text/plain": [
              "[['1', '1', '50', '98', '50'],\n",
              " ['2', '1', '60', '97', '60'],\n",
              " ['3', '1', '45', '86', '78'],\n",
              " ['4', '1', '30', '98', '58'],\n",
              " ['5', '2', '25', '80', '65'],\n",
              " ['6', '2', '50', '89', '98'],\n",
              " ['7', '2', '80', '90', '45'],\n",
              " ['8', '2', '90', '78', '25'],\n",
              " ['9', '3', '20', '98', '15'],\n",
              " ['10', '3', '50', '98', '45'],\n",
              " ['11', '3', '65', '65', '65'],\n",
              " ['12', '3', '45', '85', '32'],\n",
              " ['13', '4', '46', '98', '65'],\n",
              " ['14', '4', '48', '87', '12'],\n",
              " ['15', '4', '75', '56', '78'],\n",
              " ['16', '4', '58', '98', '65'],\n",
              " ['17', '5', '65', '68', '98'],\n",
              " ['18', '5', '80', '78', '90'],\n",
              " ['19', '5', '89', '68', '87'],\n",
              " ['20', '5', '78', '83', '58']]"
            ]
          },
          "metadata": {},
          "execution_count": 19
        }
      ]
    },
    {
      "cell_type": "code",
      "source": [
        "exam2 = []\n",
        "for row in exam:\n",
        "    row_num = []\n",
        "    for x in row:\n",
        "        row_num.append(int(x))\n",
        "    exam2.append(row_num)"
      ],
      "metadata": {
        "id": "sh-ZGXZyJqji"
      },
      "execution_count": 21,
      "outputs": []
    },
    {
      "cell_type": "code",
      "source": [
        "exam2"
      ],
      "metadata": {
        "colab": {
          "base_uri": "https://localhost:8080/"
        },
        "id": "esiQ3OieKMEY",
        "outputId": "9e554398-a1f1-48d3-c9c4-30995e37dee2"
      },
      "execution_count": 22,
      "outputs": [
        {
          "output_type": "execute_result",
          "data": {
            "text/plain": [
              "[[1, 1, 50, 98, 50],\n",
              " [2, 1, 60, 97, 60],\n",
              " [3, 1, 45, 86, 78],\n",
              " [4, 1, 30, 98, 58],\n",
              " [5, 2, 25, 80, 65],\n",
              " [6, 2, 50, 89, 98],\n",
              " [7, 2, 80, 90, 45],\n",
              " [8, 2, 90, 78, 25],\n",
              " [9, 3, 20, 98, 15],\n",
              " [10, 3, 50, 98, 45],\n",
              " [11, 3, 65, 65, 65],\n",
              " [12, 3, 45, 85, 32],\n",
              " [13, 4, 46, 98, 65],\n",
              " [14, 4, 48, 87, 12],\n",
              " [15, 4, 75, 56, 78],\n",
              " [16, 4, 58, 98, 65],\n",
              " [17, 5, 65, 68, 98],\n",
              " [18, 5, 80, 78, 90],\n",
              " [19, 5, 89, 68, 87],\n",
              " [20, 5, 78, 83, 58]]"
            ]
          },
          "metadata": {},
          "execution_count": 22
        }
      ]
    },
    {
      "cell_type": "code",
      "source": [
        "exam2 = []\n",
        "for row in exam:\n",
        "    row_num = [int(x) for x in row]\n",
        "    exam2.append(row_num)\n",
        "\n",
        "exam2"
      ],
      "metadata": {
        "colab": {
          "base_uri": "https://localhost:8080/"
        },
        "id": "3wHgLTm6KnPA",
        "outputId": "2416ae96-75e5-4614-db91-ea3bca2638f6"
      },
      "execution_count": 25,
      "outputs": [
        {
          "output_type": "execute_result",
          "data": {
            "text/plain": [
              "[[1, 1, 50, 98, 50],\n",
              " [2, 1, 60, 97, 60],\n",
              " [3, 1, 45, 86, 78],\n",
              " [4, 1, 30, 98, 58],\n",
              " [5, 2, 25, 80, 65],\n",
              " [6, 2, 50, 89, 98],\n",
              " [7, 2, 80, 90, 45],\n",
              " [8, 2, 90, 78, 25],\n",
              " [9, 3, 20, 98, 15],\n",
              " [10, 3, 50, 98, 45],\n",
              " [11, 3, 65, 65, 65],\n",
              " [12, 3, 45, 85, 32],\n",
              " [13, 4, 46, 98, 65],\n",
              " [14, 4, 48, 87, 12],\n",
              " [15, 4, 75, 56, 78],\n",
              " [16, 4, 58, 98, 65],\n",
              " [17, 5, 65, 68, 98],\n",
              " [18, 5, 80, 78, 90],\n",
              " [19, 5, 89, 68, 87],\n",
              " [20, 5, 78, 83, 58]]"
            ]
          },
          "metadata": {},
          "execution_count": 25
        }
      ]
    },
    {
      "cell_type": "code",
      "source": [
        "exam2 = [[int(x) for x in row]\n",
        "        for row in exam]\n",
        "exam2"
      ],
      "metadata": {
        "colab": {
          "base_uri": "https://localhost:8080/"
        },
        "id": "OxVHJRqJLXMw",
        "outputId": "d314b55b-07ce-4666-acc8-68cfde794c0f"
      },
      "execution_count": 26,
      "outputs": [
        {
          "output_type": "execute_result",
          "data": {
            "text/plain": [
              "[[1, 1, 50, 98, 50],\n",
              " [2, 1, 60, 97, 60],\n",
              " [3, 1, 45, 86, 78],\n",
              " [4, 1, 30, 98, 58],\n",
              " [5, 2, 25, 80, 65],\n",
              " [6, 2, 50, 89, 98],\n",
              " [7, 2, 80, 90, 45],\n",
              " [8, 2, 90, 78, 25],\n",
              " [9, 3, 20, 98, 15],\n",
              " [10, 3, 50, 98, 45],\n",
              " [11, 3, 65, 65, 65],\n",
              " [12, 3, 45, 85, 32],\n",
              " [13, 4, 46, 98, 65],\n",
              " [14, 4, 48, 87, 12],\n",
              " [15, 4, 75, 56, 78],\n",
              " [16, 4, 58, 98, 65],\n",
              " [17, 5, 65, 68, 98],\n",
              " [18, 5, 80, 78, 90],\n",
              " [19, 5, 89, 68, 87],\n",
              " [20, 5, 78, 83, 58]]"
            ]
          },
          "metadata": {},
          "execution_count": 26
        }
      ]
    },
    {
      "cell_type": "code",
      "source": [
        "math = []\n",
        "for row in exam2:\n",
        "     math.append(row[2])\n",
        "\n",
        "math"
      ],
      "metadata": {
        "colab": {
          "base_uri": "https://localhost:8080/"
        },
        "id": "1CzmVH-zLq-w",
        "outputId": "88829099-0dff-4a33-93cf-5998c957dde9"
      },
      "execution_count": 29,
      "outputs": [
        {
          "output_type": "execute_result",
          "data": {
            "text/plain": [
              "[50,\n",
              " 60,\n",
              " 45,\n",
              " 30,\n",
              " 25,\n",
              " 50,\n",
              " 80,\n",
              " 90,\n",
              " 20,\n",
              " 50,\n",
              " 65,\n",
              " 45,\n",
              " 46,\n",
              " 48,\n",
              " 75,\n",
              " 58,\n",
              " 65,\n",
              " 80,\n",
              " 89,\n",
              " 78]"
            ]
          },
          "metadata": {},
          "execution_count": 29
        }
      ]
    },
    {
      "cell_type": "code",
      "source": [
        "math = [row[2] for row in exam2]\n",
        "math"
      ],
      "metadata": {
        "colab": {
          "base_uri": "https://localhost:8080/"
        },
        "id": "eGV6n-7AMyzB",
        "outputId": "d5374fb9-045f-4d31-c366-577ff2e741c9"
      },
      "execution_count": 30,
      "outputs": [
        {
          "output_type": "execute_result",
          "data": {
            "text/plain": [
              "[50,\n",
              " 60,\n",
              " 45,\n",
              " 30,\n",
              " 25,\n",
              " 50,\n",
              " 80,\n",
              " 90,\n",
              " 20,\n",
              " 50,\n",
              " 65,\n",
              " 45,\n",
              " 46,\n",
              " 48,\n",
              " 75,\n",
              " 58,\n",
              " 65,\n",
              " 80,\n",
              " 89,\n",
              " 78]"
            ]
          },
          "metadata": {},
          "execution_count": 30
        }
      ]
    },
    {
      "cell_type": "code",
      "source": [
        "sum(math) / len(math) # 수학 평균"
      ],
      "metadata": {
        "colab": {
          "base_uri": "https://localhost:8080/"
        },
        "id": "_YTAmKO7NBgZ",
        "outputId": "6be89510-3d3c-4e37-a01e-1f35defc243f"
      },
      "execution_count": 32,
      "outputs": [
        {
          "output_type": "execute_result",
          "data": {
            "text/plain": [
              "57.45"
            ]
          },
          "metadata": {},
          "execution_count": 32
        }
      ]
    },
    {
      "cell_type": "code",
      "source": [
        "max(math) # 수학 최댓값"
      ],
      "metadata": {
        "colab": {
          "base_uri": "https://localhost:8080/"
        },
        "id": "vr-q8OAUNIHp",
        "outputId": "d87c478d-fc2d-42d5-f4f7-2a6f15a5956d"
      },
      "execution_count": 49,
      "outputs": [
        {
          "output_type": "execute_result",
          "data": {
            "text/plain": [
              "90"
            ]
          },
          "metadata": {},
          "execution_count": 49
        }
      ]
    },
    {
      "cell_type": "code",
      "source": [
        "min(math) # 수학 최솟값"
      ],
      "metadata": {
        "colab": {
          "base_uri": "https://localhost:8080/"
        },
        "id": "xio778JkNYDa",
        "outputId": "ac4d3f26-11b6-4785-9d9d-a1022e4ad4b1"
      },
      "execution_count": 36,
      "outputs": [
        {
          "output_type": "execute_result",
          "data": {
            "text/plain": [
              "20"
            ]
          },
          "metadata": {},
          "execution_count": 36
        }
      ]
    },
    {
      "cell_type": "code",
      "source": [
        "# 1반(class=1) 학생들의 수학 점수\n",
        "math_class1 = math[:4] # 20명 학생 중 앞에서 4개 선택 -> 1반\n",
        "math_class1"
      ],
      "metadata": {
        "colab": {
          "base_uri": "https://localhost:8080/"
        },
        "id": "449iB7-9Nl8-",
        "outputId": "3ce2fe46-b339-45e0-80ba-5f3e8f4388b6"
      },
      "execution_count": 38,
      "outputs": [
        {
          "output_type": "execute_result",
          "data": {
            "text/plain": [
              "[50, 60, 45, 30]"
            ]
          },
          "metadata": {},
          "execution_count": 38
        }
      ]
    },
    {
      "cell_type": "code",
      "source": [
        "math_class1 = []\n",
        "for row in exam2:\n",
        "    if row[1] == 1: # class 값이 1인 경우\n",
        "        math_class1.append(row[2]) # 수학 점수를 append\n",
        "math_class1"
      ],
      "metadata": {
        "colab": {
          "base_uri": "https://localhost:8080/"
        },
        "id": "xTx60g5bOaeO",
        "outputId": "78535b7e-4d9c-49ac-93c4-00972aac3fb7"
      },
      "execution_count": 40,
      "outputs": [
        {
          "output_type": "execute_result",
          "data": {
            "text/plain": [
              "[50, 60, 45, 30]"
            ]
          },
          "metadata": {},
          "execution_count": 40
        }
      ]
    },
    {
      "cell_type": "code",
      "source": [
        "math_class1 = [row[2] for row in exam2 if row[1] == 1]\n",
        "math_class1"
      ],
      "metadata": {
        "colab": {
          "base_uri": "https://localhost:8080/"
        },
        "id": "ip1y-PbbPEDX",
        "outputId": "5206ff66-a119-4f86-b8d9-91a5eecca810"
      },
      "execution_count": 45,
      "outputs": [
        {
          "output_type": "execute_result",
          "data": {
            "text/plain": [
              "[50, 60, 45, 30]"
            ]
          },
          "metadata": {},
          "execution_count": 45
        }
      ]
    },
    {
      "cell_type": "code",
      "source": [
        "sum(math_class1)"
      ],
      "metadata": {
        "colab": {
          "base_uri": "https://localhost:8080/"
        },
        "id": "P8elfsJwPaOC",
        "outputId": "49976aee-387d-4b48-d562-8cd1d6f2d01d"
      },
      "execution_count": 47,
      "outputs": [
        {
          "output_type": "execute_result",
          "data": {
            "text/plain": [
              "185"
            ]
          },
          "metadata": {},
          "execution_count": 47
        }
      ]
    },
    {
      "cell_type": "code",
      "source": [
        "sum(math_class1) / len(math_class1)"
      ],
      "metadata": {
        "colab": {
          "base_uri": "https://localhost:8080/"
        },
        "id": "XdbeXt7bPcCh",
        "outputId": "9b0fad4a-b546-4bfa-d0c7-1dc095e4c3a6"
      },
      "execution_count": 48,
      "outputs": [
        {
          "output_type": "execute_result",
          "data": {
            "text/plain": [
              "46.25"
            ]
          },
          "metadata": {},
          "execution_count": 48
        }
      ]
    },
    {
      "cell_type": "code",
      "source": [
        "max(math_class1)"
      ],
      "metadata": {
        "colab": {
          "base_uri": "https://localhost:8080/"
        },
        "id": "Ux_Lv80rPoDr",
        "outputId": "3c9c06d3-8a37-45fb-e7bc-de3a698e2afd"
      },
      "execution_count": 51,
      "outputs": [
        {
          "output_type": "execute_result",
          "data": {
            "text/plain": [
              "60"
            ]
          },
          "metadata": {},
          "execution_count": 51
        }
      ]
    },
    {
      "cell_type": "code",
      "source": [
        "min(math_class1)"
      ],
      "metadata": {
        "colab": {
          "base_uri": "https://localhost:8080/"
        },
        "id": "vGzT_HU9PrQy",
        "outputId": "cce43efd-86e9-48ab-ce34-5178810177aa"
      },
      "execution_count": 52,
      "outputs": [
        {
          "output_type": "execute_result",
          "data": {
            "text/plain": [
              "30"
            ]
          },
          "metadata": {},
          "execution_count": 52
        }
      ]
    }
  ]
}