{
  "nbformat": 4,
  "nbformat_minor": 0,
  "metadata": {
    "colab": {
      "provenance": [],
      "authorship_tag": "ABX9TyOCP1wI0ZdBf6C1I24Yt8B/",
      "include_colab_link": true
    },
    "kernelspec": {
      "name": "python3",
      "display_name": "Python 3"
    },
    "language_info": {
      "name": "python"
    }
  },
  "cells": [
    {
      "cell_type": "markdown",
      "metadata": {
        "id": "view-in-github",
        "colab_type": "text"
      },
      "source": [
        "<a href=\"https://colab.research.google.com/github/yeong0000/Python/blob/main/py09_OOP.ipynb\" target=\"_parent\"><img src=\"https://colab.research.google.com/assets/colab-badge.svg\" alt=\"Open In Colab\"/></a>"
      ]
    },
    {
      "cell_type": "markdown",
      "source": [
        "# 객체 지향 프로그래밍(OOP: Object-Oriented Programing)"
      ],
      "metadata": {
        "id": "Qm5x-JSdnvUy"
      }
    },
    {
      "cell_type": "code",
      "execution_count": null,
      "metadata": {
        "id": "0MbudIZenEQn"
      },
      "outputs": [],
      "source": [
        "class Student:\n",
        "    # 생성자 함수: 생성자를 호출하면 파이썬 인터프리터에 의해서 자동으로 호출되는 메서드.\n",
        "    def __init__(self, no, name, python, java, javascript):\n",
        "        self.no = no\n",
        "        self.name = name\n",
        "        self.python = python\n",
        "        self.java = java\n",
        "        self.javascript = javascript\n",
        "\n",
        "    def get_total(self):\n",
        "        # 파이썬의 메서드는 멤버들을 접근할 때 반드시 self 키워드를 사용해야 함.\n",
        "        return self.python + self.java + self.javascript\n",
        "\n",
        "    def get_mean(self):\n",
        "        return self.get_total() / 3\n",
        "\n",
        "    def print_info(self):\n",
        "        print(f'Student(번호={self.no}, 이름={self.name}, python={self.python}, java={self.java}, javascript={self.javascript})')"
      ]
    },
    {
      "cell_type": "code",
      "source": [
        "# Student 타입의 객체 생성\n",
        "student1 = Student(1, '홍길동', 100, 90, 50)  # 생성자 호출: 생성자 이름-클래스 이름, new 키워드를 사용하지 않음."
      ],
      "metadata": {
        "id": "T3lC7YrRn0t2"
      },
      "execution_count": null,
      "outputs": []
    },
    {
      "cell_type": "code",
      "source": [
        "print(student1)  # 객체 student1을 문자열로 출력"
      ],
      "metadata": {
        "colab": {
          "base_uri": "https://localhost:8080/"
        },
        "id": "7A4q35lon1gC",
        "outputId": "1e8b165c-4f61-4dfb-f5c5-697c9f74937d"
      },
      "execution_count": null,
      "outputs": [
        {
          "output_type": "stream",
          "name": "stdout",
          "text": [
            "<__main__.Student object at 0x7f3a110bf760>\n"
          ]
        }
      ]
    },
    {
      "cell_type": "code",
      "source": [
        "student1  # 객체 students1의 식(expression)을 출력"
      ],
      "metadata": {
        "colab": {
          "base_uri": "https://localhost:8080/"
        },
        "id": "cAtvGoDPn3hO",
        "outputId": "f51c9d7c-d795-4f7d-c230-8da97656e3d5"
      },
      "execution_count": null,
      "outputs": [
        {
          "output_type": "execute_result",
          "data": {
            "text/plain": [
              "<__main__.Student at 0x7f3a110bf760>"
            ]
          },
          "metadata": {},
          "execution_count": 4
        }
      ]
    },
    {
      "cell_type": "code",
      "source": [
        "student1.no"
      ],
      "metadata": {
        "colab": {
          "base_uri": "https://localhost:8080/"
        },
        "id": "nLO2xN-ln5ID",
        "outputId": "985899d4-b735-46eb-ba06-8725dd5fe3c3"
      },
      "execution_count": null,
      "outputs": [
        {
          "output_type": "execute_result",
          "data": {
            "text/plain": [
              "1"
            ]
          },
          "metadata": {},
          "execution_count": 5
        }
      ]
    },
    {
      "cell_type": "code",
      "source": [
        "student1.name"
      ],
      "metadata": {
        "colab": {
          "base_uri": "https://localhost:8080/",
          "height": 35
        },
        "id": "XzFuObFgn71g",
        "outputId": "b26b65e2-3e05-4013-d128-0b3488671a6b"
      },
      "execution_count": null,
      "outputs": [
        {
          "output_type": "execute_result",
          "data": {
            "text/plain": [
              "'홍길동'"
            ],
            "application/vnd.google.colaboratory.intrinsic+json": {
              "type": "string"
            }
          },
          "metadata": {},
          "execution_count": 6
        }
      ]
    },
    {
      "cell_type": "code",
      "source": [
        "student1.get_total()"
      ],
      "metadata": {
        "colab": {
          "base_uri": "https://localhost:8080/"
        },
        "id": "6x-SjOi3n-d1",
        "outputId": "8f2699ce-a33c-49a8-fc10-e199b7549a62"
      },
      "execution_count": null,
      "outputs": [
        {
          "output_type": "execute_result",
          "data": {
            "text/plain": [
              "240"
            ]
          },
          "metadata": {},
          "execution_count": 7
        }
      ]
    },
    {
      "cell_type": "code",
      "source": [
        "student1.get_mean()"
      ],
      "metadata": {
        "colab": {
          "base_uri": "https://localhost:8080/"
        },
        "id": "FIoKVCdPoAUX",
        "outputId": "2ca2996c-7ffd-4806-e8b4-5bc292b13a22"
      },
      "execution_count": null,
      "outputs": [
        {
          "output_type": "execute_result",
          "data": {
            "text/plain": [
              "80.0"
            ]
          },
          "metadata": {},
          "execution_count": 8
        }
      ]
    },
    {
      "cell_type": "code",
      "source": [
        "student1.print_info()"
      ],
      "metadata": {
        "colab": {
          "base_uri": "https://localhost:8080/"
        },
        "id": "zeT6nZ6WoBHz",
        "outputId": "385ed9d1-c5fc-4ad8-804f-6accbab9825a"
      },
      "execution_count": null,
      "outputs": [
        {
          "output_type": "stream",
          "name": "stdout",
          "text": [
            "Student(번호=1, 이름=홍길동, python=100, java=90, javascript=50)\n"
          ]
        }
      ]
    },
    {
      "cell_type": "code",
      "source": [
        "import math\n",
        "# math 모듈을 임포트 -> math.sqrt()"
      ],
      "metadata": {
        "id": "-ZFKDmiAoDUg"
      },
      "execution_count": null,
      "outputs": []
    },
    {
      "cell_type": "markdown",
      "source": [
        "*  class: Point\n",
        "    *  2차원 평면의 점의 좌표 (x, y)를 표현하는 클래스.\n",
        "*  생성자 함수: x, y를 초기화. x, y의 기본값은 0.\n",
        "*  메서드:\n",
        "    *  move: 점의 좌표를 원래 위치에서 dx, dy만큼 이동시키는 메서드.\n",
        "    *  distance: 현재 점의 위치에서 다른 점까지의 거리를 계산해서 리턴하는 메서드.\n",
        "        *  `sqrt((x1 - x2)**2 + (y1 - y2)**2)`\n",
        "        \n",
        ">>> $ \\sqrt{(x_1 - x_2)^2 + (y_1 - y_2)^2} $"
      ],
      "metadata": {
        "id": "zX5BoIztoHLT"
      }
    },
    {
      "cell_type": "code",
      "source": [
        "class Point:\n",
        "    def __init__(self, x=0, y=0):\n",
        "        self.x = x\n",
        "        self.y = y\n",
        "\n",
        "    def move(self, dx, dy):\n",
        "        self.x += dx\n",
        "        self.y += dy\n",
        "\n",
        "    def distance(self, pt):\n",
        "        return math.sqrt((self.x - pt.x) ** 2 + (self.y - pt.y) ** 2)"
      ],
      "metadata": {
        "id": "cmOR-FYeoJJK"
      },
      "execution_count": null,
      "outputs": []
    },
    {
      "cell_type": "code",
      "source": [
        "pt1 = Point()  # 생성자 함수의 default argument 사용\n",
        "pt1"
      ],
      "metadata": {
        "colab": {
          "base_uri": "https://localhost:8080/"
        },
        "id": "T_CtkLReoKbr",
        "outputId": "979ae87e-b8b8-41ee-fd63-00e0c2317e92"
      },
      "execution_count": null,
      "outputs": [
        {
          "output_type": "execute_result",
          "data": {
            "text/plain": [
              "<__main__.Point at 0x7f3a110bdc00>"
            ]
          },
          "metadata": {},
          "execution_count": 12
        }
      ]
    },
    {
      "cell_type": "code",
      "source": [
        "print(f'x={pt1.x}, y={pt1.y}')"
      ],
      "metadata": {
        "colab": {
          "base_uri": "https://localhost:8080/"
        },
        "id": "iDinGrQmoMVx",
        "outputId": "1103857e-fa27-460e-e29f-37cbb20bcc16"
      },
      "execution_count": null,
      "outputs": [
        {
          "output_type": "stream",
          "name": "stdout",
          "text": [
            "x=0, y=0\n"
          ]
        }
      ]
    },
    {
      "cell_type": "code",
      "source": [
        "pt1.move(1, 1)\n",
        "print(f'x={pt1.x}, y={pt1.y}')"
      ],
      "metadata": {
        "colab": {
          "base_uri": "https://localhost:8080/"
        },
        "id": "QjX93klmoNdq",
        "outputId": "25700bb0-fb74-4559-a863-290c9a70c9b4"
      },
      "execution_count": null,
      "outputs": [
        {
          "output_type": "stream",
          "name": "stdout",
          "text": [
            "x=1, y=1\n"
          ]
        }
      ]
    },
    {
      "cell_type": "code",
      "source": [
        "pt2 = Point(1, 2)\n",
        "print(f'x={pt2.x}, y={pt2.y}')"
      ],
      "metadata": {
        "colab": {
          "base_uri": "https://localhost:8080/"
        },
        "id": "OViJoTvNoOlT",
        "outputId": "865201e9-3558-4d61-c598-7caae3bd15d5"
      },
      "execution_count": null,
      "outputs": [
        {
          "output_type": "stream",
          "name": "stdout",
          "text": [
            "x=1, y=2\n"
          ]
        }
      ]
    },
    {
      "cell_type": "code",
      "source": [
        "pt1.distance(pt2)"
      ],
      "metadata": {
        "colab": {
          "base_uri": "https://localhost:8080/"
        },
        "id": "IPp8ogKcoQcg",
        "outputId": "8c7e7374-48c2-4393-8044-e46c9e942114"
      },
      "execution_count": null,
      "outputs": [
        {
          "output_type": "execute_result",
          "data": {
            "text/plain": [
              "1.0"
            ]
          },
          "metadata": {},
          "execution_count": 16
        }
      ]
    },
    {
      "cell_type": "markdown",
      "source": [
        "# magic method"
      ],
      "metadata": {
        "id": "H4jj-FgEoR0p"
      }
    },
    {
      "cell_type": "markdown",
      "source": [
        "모든 클래스가 같은 이름으로 가지고 있는 메서드.\n",
        "\n",
        "특별한 경우에 파이썬 인터프리터에 의해서 호출되는 메서드.\n",
        "\n",
        "*  `__init__()`:\n",
        "    *  생성자를 호출하면 자동으로 호출되는 메서드.\n",
        "    *  인스턴스의 필드(프로퍼티)들을 선언하고 초기화하는 메서드.\n",
        "*  `__str__()`:\n",
        "    *  `print()`함수의 아규먼트 객체일 때 자동으로 호출되는 메서드.\n",
        "    *  문자열을 리턴하는 메서드.\n",
        "*  `__repr__()`: representation.\n",
        "    *  식(expression)을 출력할 때 자동으로 호출되는 메서드.\n",
        "    *  `print()` 함수의 동작 방식:\n",
        "        *  객체를 출력하기 위해서, 그 객체의 `__str__()` 메서드를 호출함.\n",
        "        *  `__str__()` 메서드가 없는 경우에는, `__repr__()` 메서드를 호출함.\n",
        "        *  `__str__()` 메서드와 `__repr__()` 메서드가 모두 없는 경우에는, 기본 문자열 (... object at 0x....)로 출력."
      ],
      "metadata": {
        "id": "H1-m5sSIoTyY"
      }
    },
    {
      "cell_type": "code",
      "source": [
        "t = T()  # 생성자 호출 -> __init__() 메서드 호출"
      ],
      "metadata": {
        "colab": {
          "base_uri": "https://localhost:8080/",
          "height": 174
        },
        "id": "CaYwVrcpoV3I",
        "outputId": "56ffb6ef-3b95-45eb-a90b-0ac580db8073"
      },
      "execution_count": null,
      "outputs": [
        {
          "output_type": "error",
          "ename": "NameError",
          "evalue": "ignored",
          "traceback": [
            "\u001b[0;31m---------------------------------------------------------------------------\u001b[0m",
            "\u001b[0;31mNameError\u001b[0m                                 Traceback (most recent call last)",
            "\u001b[0;32m<ipython-input-17-7e82f91e95f5>\u001b[0m in \u001b[0;36m<cell line: 1>\u001b[0;34m()\u001b[0m\n\u001b[0;32m----> 1\u001b[0;31m \u001b[0mt\u001b[0m \u001b[0;34m=\u001b[0m \u001b[0mT\u001b[0m\u001b[0;34m(\u001b[0m\u001b[0;34m)\u001b[0m  \u001b[0;31m# 생성자 호출 -> __init__() 메서드 호출\u001b[0m\u001b[0;34m\u001b[0m\u001b[0;34m\u001b[0m\u001b[0m\n\u001b[0m",
            "\u001b[0;31mNameError\u001b[0m: name 'T' is not defined"
          ]
        }
      ]
    },
    {
      "cell_type": "code",
      "source": [
        "print(t)  # __str__() 메서드 자동 호출"
      ],
      "metadata": {
        "colab": {
          "base_uri": "https://localhost:8080/",
          "height": 174
        },
        "id": "p_WzovlpoYIB",
        "outputId": "65c93d6f-583c-4499-b5e3-0594ccdc378a"
      },
      "execution_count": null,
      "outputs": [
        {
          "output_type": "error",
          "ename": "NameError",
          "evalue": "ignored",
          "traceback": [
            "\u001b[0;31m---------------------------------------------------------------------------\u001b[0m",
            "\u001b[0;31mNameError\u001b[0m                                 Traceback (most recent call last)",
            "\u001b[0;32m<ipython-input-18-43e6c363a8b6>\u001b[0m in \u001b[0;36m<cell line: 1>\u001b[0;34m()\u001b[0m\n\u001b[0;32m----> 1\u001b[0;31m \u001b[0mprint\u001b[0m\u001b[0;34m(\u001b[0m\u001b[0mt\u001b[0m\u001b[0;34m)\u001b[0m  \u001b[0;31m# __str__() 메서드 자동 호출\u001b[0m\u001b[0;34m\u001b[0m\u001b[0;34m\u001b[0m\u001b[0m\n\u001b[0m",
            "\u001b[0;31mNameError\u001b[0m: name 't' is not defined"
          ]
        }
      ]
    },
    {
      "cell_type": "code",
      "source": [
        "t  # __repr__() 메서드 자동 호출"
      ],
      "metadata": {
        "colab": {
          "base_uri": "https://localhost:8080/",
          "height": 174
        },
        "id": "wXArvTHZoZWA",
        "outputId": "b2218cd9-6901-4653-ae95-18814bad2cdc"
      },
      "execution_count": null,
      "outputs": [
        {
          "output_type": "error",
          "ename": "NameError",
          "evalue": "ignored",
          "traceback": [
            "\u001b[0;31m---------------------------------------------------------------------------\u001b[0m",
            "\u001b[0;31mNameError\u001b[0m                                 Traceback (most recent call last)",
            "\u001b[0;32m<ipython-input-19-ab7fb149b55b>\u001b[0m in \u001b[0;36m<cell line: 1>\u001b[0;34m()\u001b[0m\n\u001b[0;32m----> 1\u001b[0;31m \u001b[0mt\u001b[0m  \u001b[0;31m# __repr__() 메서드 자동 호출\u001b[0m\u001b[0;34m\u001b[0m\u001b[0;34m\u001b[0m\u001b[0m\n\u001b[0m",
            "\u001b[0;31mNameError\u001b[0m: name 't' is not defined"
          ]
        }
      ]
    },
    {
      "cell_type": "markdown",
      "source": [
        "*  `__eq__()`: eqaul\n",
        "    *  `==` 연산자를 사용했을 때 자동으로 호출되는 메서드.\n",
        "    *  두 객체가 같은 지(True) 다른 지(False)를 리턴."
      ],
      "metadata": {
        "id": "zd2gArfoobmY"
      }
    },
    {
      "cell_type": "code",
      "source": [
        "list1 = [1, 2, 3]\n",
        "list2 = [1, 2, 3]\n",
        "list1 == list2  # list 클래스가 __eq__ 메서드를 구현하고 있기 때문에."
      ],
      "metadata": {
        "colab": {
          "base_uri": "https://localhost:8080/"
        },
        "id": "uhgG4BiOodjA",
        "outputId": "670f11e1-8910-4b6c-8c9e-4589add3a006"
      },
      "execution_count": null,
      "outputs": [
        {
          "output_type": "execute_result",
          "data": {
            "text/plain": [
              "True"
            ]
          },
          "metadata": {},
          "execution_count": 20
        }
      ]
    },
    {
      "cell_type": "code",
      "source": [
        "class Number:\n",
        "    def __init__(self, n):\n",
        "        self.n = n\n",
        "\n",
        "    def __repr__(self):\n",
        "        return str(self.n)\n",
        "\n",
        "    def __eq__(self, other):\n",
        "        return self.n == other.n"
      ],
      "metadata": {
        "id": "zRg-6aWcoe5x"
      },
      "execution_count": null,
      "outputs": []
    },
    {
      "cell_type": "code",
      "source": [
        "n1 = Number(1)\n",
        "n1"
      ],
      "metadata": {
        "colab": {
          "base_uri": "https://localhost:8080/"
        },
        "id": "YKO0uQBhogHZ",
        "outputId": "5b01e32b-46c3-46ee-ccb7-ba4d92068fae"
      },
      "execution_count": null,
      "outputs": [
        {
          "output_type": "execute_result",
          "data": {
            "text/plain": [
              "1"
            ]
          },
          "metadata": {},
          "execution_count": 22
        }
      ]
    },
    {
      "cell_type": "code",
      "source": [
        "n2 = Number(1)\n",
        "n2"
      ],
      "metadata": {
        "colab": {
          "base_uri": "https://localhost:8080/"
        },
        "id": "8FiCA8fHohJg",
        "outputId": "4018e2ed-c34d-4b8e-8cd8-5654bcf4df1d"
      },
      "execution_count": null,
      "outputs": [
        {
          "output_type": "execute_result",
          "data": {
            "text/plain": [
              "1"
            ]
          },
          "metadata": {},
          "execution_count": 23
        }
      ]
    },
    {
      "cell_type": "code",
      "source": [
        "n1 == n2  # n1.__eq__(n2)"
      ],
      "metadata": {
        "colab": {
          "base_uri": "https://localhost:8080/"
        },
        "id": "M5oJg8rEoiPZ",
        "outputId": "4a1e016b-3148-4bd5-9278-b68baac7c9d6"
      },
      "execution_count": null,
      "outputs": [
        {
          "output_type": "execute_result",
          "data": {
            "text/plain": [
              "True"
            ]
          },
          "metadata": {},
          "execution_count": 24
        }
      ]
    },
    {
      "cell_type": "markdown",
      "source": [
        "# Exercise"
      ],
      "metadata": {
        "id": "X0lxBpR4o0iI"
      }
    },
    {
      "cell_type": "markdown",
      "source": [
        "*   class Score\n",
        "    * 프로퍼티: Korean, math, science(int 타입)\n",
        "    * 메서드: __int__, __repr__, __eq__, get_total, get_mean\n",
        "* class Student\n",
        "    * 프로퍼티: no(int), name(str), score(Score)\n",
        "    * 메서드: __init__ , __repr__"
      ],
      "metadata": {
        "id": "HwqL0X4Xo5ag"
      }
    },
    {
      "cell_type": "code",
      "source": [
        "class Score:\n",
        "    def __init__(self, korean=0, math=0, science=0):\n",
        "        self.korean = korean\n",
        "        self.math = math\n",
        "        self.science = science\n",
        "\n",
        "    def __repr__(self):\n",
        "        return f'Score(korean={self.korean}, math={self.math}, science={self.science})'\n",
        "\n",
        "    def __eq__(self, other):\n",
        "        return self.korean == other.korean and self.math == other.math and self.science == other.science\n",
        "\n",
        "    def get_total(self):\n",
        "        return self.korean + self.math + self.science\n",
        "\n",
        "    def get_mean(self):\n",
        "        return self.get_total() / 3"
      ],
      "metadata": {
        "id": "0_iu0FxEp7j_"
      },
      "execution_count": null,
      "outputs": []
    },
    {
      "cell_type": "code",
      "source": [
        "score1 = Score()\n",
        "score1"
      ],
      "metadata": {
        "colab": {
          "base_uri": "https://localhost:8080/"
        },
        "id": "kUek0TI_wbYS",
        "outputId": "47c9cb6b-e3d2-4ea9-bce1-88b89ab1849d"
      },
      "execution_count": null,
      "outputs": [
        {
          "output_type": "execute_result",
          "data": {
            "text/plain": [
              "Score(korean=0, math=0, science=0)"
            ]
          },
          "metadata": {},
          "execution_count": 37
        }
      ]
    },
    {
      "cell_type": "code",
      "source": [
        "score2 = Score(90, 80, 50)\n",
        "score2"
      ],
      "metadata": {
        "id": "jOB6h9Zawe3V",
        "colab": {
          "base_uri": "https://localhost:8080/"
        },
        "outputId": "79be779e-7371-421c-cb6e-9addf5908707"
      },
      "execution_count": null,
      "outputs": [
        {
          "output_type": "execute_result",
          "data": {
            "text/plain": [
              "Score(korean=90, math=80, science=50)"
            ]
          },
          "metadata": {},
          "execution_count": 38
        }
      ]
    },
    {
      "cell_type": "code",
      "source": [
        "score3 = Score(math=100)\n",
        "score3"
      ],
      "metadata": {
        "colab": {
          "base_uri": "https://localhost:8080/"
        },
        "id": "356vxTc5xPy_",
        "outputId": "9ea9fbaf-5a77-4779-ac41-0270d4639507"
      },
      "execution_count": null,
      "outputs": [
        {
          "output_type": "execute_result",
          "data": {
            "text/plain": [
              "Score(korean=0, math=100, science=0)"
            ]
          },
          "metadata": {},
          "execution_count": 40
        }
      ]
    },
    {
      "cell_type": "code",
      "source": [
        "score1 == score2"
      ],
      "metadata": {
        "colab": {
          "base_uri": "https://localhost:8080/"
        },
        "id": "9kp9CF-nyRja",
        "outputId": "eda5134b-a747-4bbf-c65a-00db0dd6357f"
      },
      "execution_count": null,
      "outputs": [
        {
          "output_type": "execute_result",
          "data": {
            "text/plain": [
              "False"
            ]
          },
          "metadata": {},
          "execution_count": 41
        }
      ]
    },
    {
      "cell_type": "code",
      "source": [
        "score4 = Score(math=80, science=50, korean=90)\n",
        "score4"
      ],
      "metadata": {
        "colab": {
          "base_uri": "https://localhost:8080/"
        },
        "id": "O5lgos3UyHnl",
        "outputId": "90b1d889-c3d6-4360-c2ad-d3f027cb0a60"
      },
      "execution_count": null,
      "outputs": [
        {
          "output_type": "execute_result",
          "data": {
            "text/plain": [
              "Score(korean=90, math=80, science=50)"
            ]
          },
          "metadata": {},
          "execution_count": 45
        }
      ]
    },
    {
      "cell_type": "code",
      "source": [
        "score2 == score4"
      ],
      "metadata": {
        "colab": {
          "base_uri": "https://localhost:8080/"
        },
        "id": "WW7bTrESyeCv",
        "outputId": "10669d9b-088e-481a-c7fe-446a9c1c1787"
      },
      "execution_count": null,
      "outputs": [
        {
          "output_type": "execute_result",
          "data": {
            "text/plain": [
              "True"
            ]
          },
          "metadata": {},
          "execution_count": 47
        }
      ]
    },
    {
      "cell_type": "code",
      "source": [
        "score4.get_total()"
      ],
      "metadata": {
        "colab": {
          "base_uri": "https://localhost:8080/"
        },
        "id": "fgVePtUZyvZj",
        "outputId": "26622f9a-3505-4d28-b9f4-e53ebcf7b574"
      },
      "execution_count": null,
      "outputs": [
        {
          "output_type": "execute_result",
          "data": {
            "text/plain": [
              "220"
            ]
          },
          "metadata": {},
          "execution_count": 48
        }
      ]
    },
    {
      "cell_type": "code",
      "source": [
        "score4.get_mean()"
      ],
      "metadata": {
        "colab": {
          "base_uri": "https://localhost:8080/"
        },
        "id": "hTfGnuzYy0Yb",
        "outputId": "5c2930a9-f17e-44b2-c2fc-666463209cc4"
      },
      "execution_count": null,
      "outputs": [
        {
          "output_type": "execute_result",
          "data": {
            "text/plain": [
              "73.33333333333333"
            ]
          },
          "metadata": {},
          "execution_count": 49
        }
      ]
    },
    {
      "cell_type": "code",
      "source": [
        "class Student:\n",
        "    def __init__(self,no,name,score):\n",
        "        self.no = no\n",
        "        self.name = name\n",
        "        self.score = score\n",
        "\n",
        "    def __repr__(self):\n",
        "        return f'Student(no={self.no}, name={self.name}, score={self.score})'"
      ],
      "metadata": {
        "id": "2nr1XnRIy-Xj"
      },
      "execution_count": null,
      "outputs": []
    },
    {
      "cell_type": "code",
      "source": [
        "student1 = Student(1, '오쌤', score1)\n",
        "student1"
      ],
      "metadata": {
        "colab": {
          "base_uri": "https://localhost:8080/"
        },
        "id": "O2Folx-lzwQL",
        "outputId": "ecdd7e71-cfab-4522-9781-95038d1e58f7"
      },
      "execution_count": null,
      "outputs": [
        {
          "output_type": "execute_result",
          "data": {
            "text/plain": [
              "Student(no=1, name=오쌤, score=Score(korean=0, math=0, science=0))"
            ]
          },
          "metadata": {},
          "execution_count": 53
        }
      ]
    },
    {
      "cell_type": "code",
      "source": [
        "student2 = Student(2,'홍길동', Score())\n",
        "student2"
      ],
      "metadata": {
        "colab": {
          "base_uri": "https://localhost:8080/"
        },
        "id": "3wjlgvujz8jC",
        "outputId": "4ac307ef-371a-480d-e7aa-3e6c3756a545"
      },
      "execution_count": null,
      "outputs": [
        {
          "output_type": "execute_result",
          "data": {
            "text/plain": [
              "Student(no=2, name=홍길동, score=Score(korean=0, math=0, science=0))"
            ]
          },
          "metadata": {},
          "execution_count": 55
        }
      ]
    },
    {
      "cell_type": "code",
      "source": [
        "student1.score == student2.score\n",
        "# student1.score.__eq__(student2.score)"
      ],
      "metadata": {
        "colab": {
          "base_uri": "https://localhost:8080/"
        },
        "id": "hDAoQVhg0RzS",
        "outputId": "0270486e-ce76-47e9-a5d6-13e0a5a46002"
      },
      "execution_count": null,
      "outputs": [
        {
          "output_type": "execute_result",
          "data": {
            "text/plain": [
              "True"
            ]
          },
          "metadata": {},
          "execution_count": 56
        }
      ]
    },
    {
      "cell_type": "markdown",
      "source": [
        "# 상속(inheritance)"
      ],
      "metadata": {
        "id": "vrnpUltY5-Y8"
      }
    },
    {
      "cell_type": "markdown",
      "source": [
        "* super class(상위 클래스), parent class(부모 클래스), base class(기본 클래스)\n",
        "* sub class(하위 클래스), child class(자식 클래스), derived class(유도 클래스)\n",
        "* 상속: 상위 클래스의 속성(데이터)들과 기능(메서드)드릉ㄹ 하위 클래스에서 재상용하는 것.\n",
        "* 일반적으로 **IS-A** 관계가 성립하는 객체들을 상속을 사용해서 구현함.\n",
        "    * 학생은 사람이다(Student IS A Person)."
      ],
      "metadata": {
        "id": "0kvXpYCA6C5r"
      }
    },
    {
      "cell_type": "code",
      "source": [
        "class Person:\n",
        "    def __init__(self, name, age=0):\n",
        "        self.name = name\n",
        "        self.age = age\n",
        "\n",
        "    def hello(self):\n",
        "        print(f'안녕하세요, 저는 {self.name}입니다. 나이는 {self.age}입니다.')"
      ],
      "metadata": {
        "id": "IL4FxCRA7exe"
      },
      "execution_count": null,
      "outputs": []
    },
    {
      "cell_type": "code",
      "source": [
        "gildong = Person('홍길동')\n",
        "gildong.hello()"
      ],
      "metadata": {
        "colab": {
          "base_uri": "https://localhost:8080/"
        },
        "id": "tfCDTIVO8xaF",
        "outputId": "e58a44e1-f783-48f4-a678-1b5351efeae1"
      },
      "execution_count": null,
      "outputs": [
        {
          "output_type": "stream",
          "name": "stdout",
          "text": [
            "안녕하세요, 저는 홍길동입니다. 나이는 0입니다.\n"
          ]
        }
      ]
    },
    {
      "cell_type": "code",
      "source": [
        "# Person을 상속하는 Student 클래스 정의\n",
        "class Student(Person):\n",
        "    # method override\n",
        "    def __init__(self, name, age=0, school='Test'):\n",
        "        # 하위 클래스에서 상위 클래스의 생성자 함수를 호출:\n",
        "        super().__init__(name, age)\n",
        "        self.school = school\n",
        "\n",
        "    # hello method override\n",
        "    def hello(self):\n",
        "        super().hello()\n",
        "        print(f'학교는 {self.school}입니다.')"
      ],
      "metadata": {
        "id": "ui4t2hgg8486"
      },
      "execution_count": null,
      "outputs": []
    },
    {
      "cell_type": "code",
      "source": [
        "stu = Student(name='오쌤', age=16, school='아이티윌')"
      ],
      "metadata": {
        "id": "jrcFFKwx9oh8"
      },
      "execution_count": null,
      "outputs": []
    },
    {
      "cell_type": "code",
      "source": [
        "stu.hello()"
      ],
      "metadata": {
        "colab": {
          "base_uri": "https://localhost:8080/"
        },
        "id": "HD4k5VZBAFHG",
        "outputId": "df4cd630-3b73-4a14-afec-20c7525b0db4"
      },
      "execution_count": null,
      "outputs": [
        {
          "output_type": "stream",
          "name": "stdout",
          "text": [
            "안녕하세요, 저는 오쌤입니다. 나이는 16입니다.\n",
            "학교는 아이티윌입니다.\n"
          ]
        }
      ]
    },
    {
      "cell_type": "markdown",
      "source": [
        "**Method Override**\n",
        "\n",
        "* 상위 클래스의 메서드를 하위 클래스에서 재정의하는 것.\n",
        "    * 파이썬에서는 메서드의 이름만 같으면 (파라미터 타입/개수와 상관 없이) 메서드가 재정의됨.\n",
        "        * 파이썬은 같은 이름으로 2개 이상의 메서드(함수)를 가질 수 없음 - overloading은 제공하지 않음.\n",
        "    * 자바에서는 메서드 이름, 파라미터 타입/개수/순서가 모두 동일한 경우에 메서드가 재정의됨.\n",
        "        * 파라미터가 다르면 같은 이름의 메서드가 2개 이상 있을 수 있음 - overloading\n",
        "* 하위 클래스에서 재정의(overrid)된 상위 클래스의 메서드를 명시적으로 호출하기 위해서는 `super().method_name(...)`의 형식으로 호출함."
      ],
      "metadata": {
        "id": "GIo8LODFEnlp"
      }
    },
    {
      "cell_type": "code",
      "source": [
        "def a():\n",
        "    print('a')"
      ],
      "metadata": {
        "id": "HmtjyJG3EnZk"
      },
      "execution_count": null,
      "outputs": []
    },
    {
      "cell_type": "code",
      "source": [
        "def a(msg):\n",
        "    print(msg)"
      ],
      "metadata": {
        "id": "SoygZQiSFMx9"
      },
      "execution_count": null,
      "outputs": []
    },
    {
      "cell_type": "code",
      "source": [
        "a('test')"
      ],
      "metadata": {
        "colab": {
          "base_uri": "https://localhost:8080/"
        },
        "id": "9Y6ctv4eFUwS",
        "outputId": "289b4cfa-848e-459c-fe3e-c332f8a1a309"
      },
      "execution_count": null,
      "outputs": [
        {
          "output_type": "stream",
          "name": "stdout",
          "text": [
            "test\n"
          ]
        }
      ]
    },
    {
      "cell_type": "markdown",
      "source": [
        "파이썬은 함수(메서드) 오버로딩을 제공하지 않음.\n",
        "\n",
        "파라미터가 다르다고 해서 같은 이름으로 함수(메서드)를 정의할 수 없음.\n",
        "\n",
        "같은 이름으로 함수를 정의하면, 가장 마지막에서 정의한 함수만 남음.\n",
        "\n",
        "파이썬은 함수(메서드) 오버로딩 대신에, default argument를 이용하면 같은 이름의 함수를 여러가지 방법으로 호출할 수 있음."
      ],
      "metadata": {
        "id": "ZnSZPJjtGEBs"
      }
    },
    {
      "cell_type": "code",
      "source": [
        "def a(msg='a'):\n",
        "    print(msg)"
      ],
      "metadata": {
        "id": "NEGVbXnkGjld"
      },
      "execution_count": null,
      "outputs": []
    },
    {
      "cell_type": "code",
      "source": [
        "a()"
      ],
      "metadata": {
        "colab": {
          "base_uri": "https://localhost:8080/"
        },
        "id": "29HZ9-gLGuZn",
        "outputId": "782d6485-a0ad-4e6e-d9ac-713c587a7e37"
      },
      "execution_count": null,
      "outputs": [
        {
          "output_type": "stream",
          "name": "stdout",
          "text": [
            "a\n"
          ]
        }
      ]
    },
    {
      "cell_type": "code",
      "source": [
        "a('TEST')"
      ],
      "metadata": {
        "colab": {
          "base_uri": "https://localhost:8080/"
        },
        "id": "79TZ1MU4Gvdt",
        "outputId": "bfdb10f9-28e4-4285-870b-0e12bdd3cc3f"
      },
      "execution_count": null,
      "outputs": [
        {
          "output_type": "stream",
          "name": "stdout",
          "text": [
            "TEST\n"
          ]
        }
      ]
    }
  ]
}