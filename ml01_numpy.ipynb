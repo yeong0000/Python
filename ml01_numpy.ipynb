{
  "nbformat": 4,
  "nbformat_minor": 0,
  "metadata": {
    "colab": {
      "provenance": [],
      "authorship_tag": "ABX9TyOW6kOEa4FeH2/8erhy1Xfb",
      "include_colab_link": true
    },
    "kernelspec": {
      "name": "python3",
      "display_name": "Python 3"
    },
    "language_info": {
      "name": "python"
    }
  },
  "cells": [
    {
      "cell_type": "markdown",
      "metadata": {
        "id": "view-in-github",
        "colab_type": "text"
      },
      "source": [
        "<a href=\"https://colab.research.google.com/github/yeong0000/Python/blob/main/ml01_numpy.ipynb\" target=\"_parent\"><img src=\"https://colab.research.google.com/assets/colab-badge.svg\" alt=\"Open In Colab\"/></a>"
      ]
    },
    {
      "cell_type": "code",
      "execution_count": 34,
      "metadata": {
        "id": "STr6D45IHuPk"
      },
      "outputs": [],
      "source": [
        "import numpy as np"
      ]
    },
    {
      "cell_type": "markdown",
      "source": [
        "# `np.ndarray` 클래스의 속성(property)"
      ],
      "metadata": {
        "id": "kBHltB5qYEOj"
      }
    },
    {
      "cell_type": "code",
      "source": [
        "arr = np.ones(shape=(2, 3)) # 모든 원소가 1.0인 (2, 3) 모양의 배열"
      ],
      "metadata": {
        "id": "VL0-8b1vYFi8"
      },
      "execution_count": 35,
      "outputs": []
    },
    {
      "cell_type": "code",
      "source": [
        "print(arr)"
      ],
      "metadata": {
        "colab": {
          "base_uri": "https://localhost:8080/"
        },
        "id": "-q9DvOQdYGha",
        "outputId": "d9368229-5dd2-4529-821e-048f65b7a9b4"
      },
      "execution_count": 36,
      "outputs": [
        {
          "output_type": "stream",
          "name": "stdout",
          "text": [
            "[[1. 1. 1.]\n",
            " [1. 1. 1.]]\n"
          ]
        }
      ]
    },
    {
      "cell_type": "code",
      "source": [
        "arr.dtype  # 배열 원소의 데이터 타입"
      ],
      "metadata": {
        "colab": {
          "base_uri": "https://localhost:8080/"
        },
        "id": "W_vtS4UmYKBS",
        "outputId": "27685d1b-f780-46ea-f691-a9665b8c6d9a"
      },
      "execution_count": 37,
      "outputs": [
        {
          "output_type": "execute_result",
          "data": {
            "text/plain": [
              "dtype('float64')"
            ]
          },
          "metadata": {},
          "execution_count": 37
        }
      ]
    },
    {
      "cell_type": "code",
      "source": [
        "arr.shape  # 배열의 모양: 배열의 각 축(axis)를 따라서 있는 원소의 개수."
      ],
      "metadata": {
        "colab": {
          "base_uri": "https://localhost:8080/"
        },
        "id": "-MHtH4eVYLzT",
        "outputId": "d0424f33-427c-4bc1-a8af-2b2258268890"
      },
      "execution_count": 38,
      "outputs": [
        {
          "output_type": "execute_result",
          "data": {
            "text/plain": [
              "(2, 3)"
            ]
          },
          "metadata": {},
          "execution_count": 38
        }
      ]
    },
    {
      "cell_type": "code",
      "source": [
        "arr.ndim  # 배열의 차원(dimension): 배열의 축(axis)이 개수."
      ],
      "metadata": {
        "colab": {
          "base_uri": "https://localhost:8080/"
        },
        "id": "bOmuVlDqYNXz",
        "outputId": "02b9ca35-c92f-47b6-db31-9470bf5f051c"
      },
      "execution_count": 39,
      "outputs": [
        {
          "output_type": "execute_result",
          "data": {
            "text/plain": [
              "2"
            ]
          },
          "metadata": {},
          "execution_count": 39
        }
      ]
    },
    {
      "cell_type": "code",
      "source": [
        "arr.size  # 배열의 크기: 배열의 전체 원소 개수"
      ],
      "metadata": {
        "colab": {
          "base_uri": "https://localhost:8080/"
        },
        "id": "2U1aPv6NYO9c",
        "outputId": "3d195e7d-1f65-44ec-80cb-f9dc7c12aede"
      },
      "execution_count": 40,
      "outputs": [
        {
          "output_type": "execute_result",
          "data": {
            "text/plain": [
              "6"
            ]
          },
          "metadata": {},
          "execution_count": 40
        }
      ]
    },
    {
      "cell_type": "code",
      "source": [
        "arr = np.arange(10)  # [0, 10) 범위의 1씩 증가하는 정수들로 만들어진 1차원 배열\n",
        "print(arr)\n",
        "print('dtype:', arr.dtype)\n",
        "print('shape:', arr.shape)\n",
        "print('ndim:', arr.ndim)\n",
        "print('size:', arr.size)"
      ],
      "metadata": {
        "colab": {
          "base_uri": "https://localhost:8080/"
        },
        "id": "-pEZcf7SYQ77",
        "outputId": "ccdd63e5-9350-43fa-a340-549be28997a8"
      },
      "execution_count": 41,
      "outputs": [
        {
          "output_type": "stream",
          "name": "stdout",
          "text": [
            "[0 1 2 3 4 5 6 7 8 9]\n",
            "dtype: int64\n",
            "shape: (10,)\n",
            "ndim: 1\n",
            "size: 10\n"
          ]
        }
      ]
    },
    {
      "cell_type": "markdown",
      "source": [
        "# indexing\n",
        "\n",
        "*  Python list:\n",
        "    *  `list[i], list[i][j], list[i][j][k], ...`\n",
        "*  numpy ndarray:\n",
        "    *  `array[i], array[i][j], array[i][j][k], ...`\n",
        "    *  `array[i], array[i, j], array[i, j, k], ...`"
      ],
      "metadata": {
        "id": "w001vse0YSuz"
      }
    },
    {
      "cell_type": "code",
      "source": [
        "arr = np.arange(1, 13).reshape((3, 4))\n",
        "print(arr)"
      ],
      "metadata": {
        "colab": {
          "base_uri": "https://localhost:8080/"
        },
        "id": "CAlPStF_YUOC",
        "outputId": "d5cc125d-c0a8-415e-c25c-65960bdba3b2"
      },
      "execution_count": 42,
      "outputs": [
        {
          "output_type": "stream",
          "name": "stdout",
          "text": [
            "[[ 1  2  3  4]\n",
            " [ 5  6  7  8]\n",
            " [ 9 10 11 12]]\n"
          ]
        }
      ]
    },
    {
      "cell_type": "code",
      "source": [
        "arr[0]"
      ],
      "metadata": {
        "colab": {
          "base_uri": "https://localhost:8080/"
        },
        "id": "IlSm543rYVfy",
        "outputId": "049be3f8-40df-40ec-dda2-660aee1289cb"
      },
      "execution_count": 43,
      "outputs": [
        {
          "output_type": "execute_result",
          "data": {
            "text/plain": [
              "array([1, 2, 3, 4])"
            ]
          },
          "metadata": {},
          "execution_count": 43
        }
      ]
    },
    {
      "cell_type": "code",
      "source": [
        "arr[0, 1]  # arr[0][1]과 동일."
      ],
      "metadata": {
        "colab": {
          "base_uri": "https://localhost:8080/"
        },
        "id": "c-u7MW5nYXjq",
        "outputId": "cc7bf47c-237e-4811-fc4a-79a97ed1db2c"
      },
      "execution_count": 44,
      "outputs": [
        {
          "output_type": "execute_result",
          "data": {
            "text/plain": [
              "2"
            ]
          },
          "metadata": {},
          "execution_count": 44
        }
      ]
    },
    {
      "cell_type": "markdown",
      "source": [
        "# slicing"
      ],
      "metadata": {
        "id": "grtA72l6YY4y"
      }
    },
    {
      "cell_type": "markdown",
      "source": [
        "## 1차원 배열 slicing"
      ],
      "metadata": {
        "id": "6sHNG67rYanK"
      }
    },
    {
      "cell_type": "code",
      "source": [
        "np.random.seed(1)\n",
        "arr = np.random.randint(100, size=10)  # [0, 100) 범위의 정수 난수 10개를 갖는 1차원 배열\n",
        "print(arr)"
      ],
      "metadata": {
        "colab": {
          "base_uri": "https://localhost:8080/"
        },
        "id": "Jh7uM51vYcPi",
        "outputId": "d43ef426-977f-4a99-9177-4d9af77c84cc"
      },
      "execution_count": 45,
      "outputs": [
        {
          "output_type": "stream",
          "name": "stdout",
          "text": [
            "[37 12 72  9 75  5 79 64 16  1]\n"
          ]
        }
      ]
    },
    {
      "cell_type": "code",
      "source": [
        "arr[2:6]"
      ],
      "metadata": {
        "colab": {
          "base_uri": "https://localhost:8080/"
        },
        "id": "WBjCX-X5Ydab",
        "outputId": "e0fb13cc-dc11-45b0-d546-2214d8f8530e"
      },
      "execution_count": 46,
      "outputs": [
        {
          "output_type": "execute_result",
          "data": {
            "text/plain": [
              "array([72,  9, 75,  5])"
            ]
          },
          "metadata": {},
          "execution_count": 46
        }
      ]
    },
    {
      "cell_type": "code",
      "source": [
        "arr[:3]  # arr[0:3]과 동일"
      ],
      "metadata": {
        "colab": {
          "base_uri": "https://localhost:8080/"
        },
        "id": "qzxnmsMhYemS",
        "outputId": "b4d20f00-d8e1-4449-a7f4-8c0440fe36cb"
      },
      "execution_count": 47,
      "outputs": [
        {
          "output_type": "execute_result",
          "data": {
            "text/plain": [
              "array([37, 12, 72])"
            ]
          },
          "metadata": {},
          "execution_count": 47
        }
      ]
    },
    {
      "cell_type": "code",
      "source": [
        "arr[-3:]"
      ],
      "metadata": {
        "colab": {
          "base_uri": "https://localhost:8080/"
        },
        "id": "pbjKLCEkYf1K",
        "outputId": "5affbfd0-9ad1-4dde-e370-a63a7f7c34ee"
      },
      "execution_count": 48,
      "outputs": [
        {
          "output_type": "execute_result",
          "data": {
            "text/plain": [
              "array([64, 16,  1])"
            ]
          },
          "metadata": {},
          "execution_count": 48
        }
      ]
    },
    {
      "cell_type": "code",
      "source": [
        "arr[7:]  # arr[7:10]과 동일."
      ],
      "metadata": {
        "colab": {
          "base_uri": "https://localhost:8080/"
        },
        "id": "sEpex3rYYhAa",
        "outputId": "e98135ba-62bf-4080-fa64-f27aa1e1ceb0"
      },
      "execution_count": 49,
      "outputs": [
        {
          "output_type": "execute_result",
          "data": {
            "text/plain": [
              "array([64, 16,  1])"
            ]
          },
          "metadata": {},
          "execution_count": 49
        }
      ]
    },
    {
      "cell_type": "markdown",
      "source": [
        "## 2차원 배열 slicing"
      ],
      "metadata": {
        "id": "_7AaI0VSYisi"
      }
    },
    {
      "cell_type": "code",
      "source": [
        "np.random.seed(10)\n",
        "arr = np.random.randint(100, size=(4, 5))\n",
        "print(arr)"
      ],
      "metadata": {
        "colab": {
          "base_uri": "https://localhost:8080/"
        },
        "id": "xW7GpxuAYkCq",
        "outputId": "78c10f94-45b0-4f6b-a5a2-3a5c631a758d"
      },
      "execution_count": 50,
      "outputs": [
        {
          "output_type": "stream",
          "name": "stdout",
          "text": [
            "[[ 9 15 64 28 89]\n",
            " [93 29  8 73  0]\n",
            " [40 36 16 11 54]\n",
            " [88 62 33 72 78]]\n"
          ]
        }
      ]
    },
    {
      "cell_type": "code",
      "source": [
        "# 첫 2개의 row를 선택. 컬럼의 모든 원소 선택.\n",
        "arr[:2, :]"
      ],
      "metadata": {
        "colab": {
          "base_uri": "https://localhost:8080/"
        },
        "id": "3G3g_PygYlk6",
        "outputId": "ae01d3e4-7220-43b1-b7d3-a6f031a4cd3c"
      },
      "execution_count": 51,
      "outputs": [
        {
          "output_type": "execute_result",
          "data": {
            "text/plain": [
              "array([[ 9, 15, 64, 28, 89],\n",
              "       [93, 29,  8, 73,  0]])"
            ]
          },
          "metadata": {},
          "execution_count": 51
        }
      ]
    },
    {
      "cell_type": "code",
      "source": [
        "arr[:2]"
      ],
      "metadata": {
        "colab": {
          "base_uri": "https://localhost:8080/"
        },
        "id": "L7JRu84xYmr6",
        "outputId": "c1e19e33-9471-4f8f-caab-ada222354902"
      },
      "execution_count": 52,
      "outputs": [
        {
          "output_type": "execute_result",
          "data": {
            "text/plain": [
              "array([[ 9, 15, 64, 28, 89],\n",
              "       [93, 29,  8, 73,  0]])"
            ]
          },
          "metadata": {},
          "execution_count": 52
        }
      ]
    },
    {
      "cell_type": "code",
      "source": [
        "# 첫 2개의 row에서 첫 3개의 column 원소들\n",
        "arr[:2, :3]"
      ],
      "metadata": {
        "colab": {
          "base_uri": "https://localhost:8080/"
        },
        "id": "5jHTAocDYn7F",
        "outputId": "a376cb7e-ae5a-48b9-a032-8bb033ada17f"
      },
      "execution_count": 53,
      "outputs": [
        {
          "output_type": "execute_result",
          "data": {
            "text/plain": [
              "array([[ 9, 15, 64],\n",
              "       [93, 29,  8]])"
            ]
          },
          "metadata": {},
          "execution_count": 53
        }
      ]
    },
    {
      "cell_type": "code",
      "source": [
        "arr[2:, 3:]"
      ],
      "metadata": {
        "colab": {
          "base_uri": "https://localhost:8080/"
        },
        "id": "EQbJ-KAoYpGC",
        "outputId": "8fa1036d-4c83-4e29-f01d-47ffc45d9105"
      },
      "execution_count": 54,
      "outputs": [
        {
          "output_type": "execute_result",
          "data": {
            "text/plain": [
              "array([[11, 54],\n",
              "       [72, 78]])"
            ]
          },
          "metadata": {},
          "execution_count": 54
        }
      ]
    },
    {
      "cell_type": "markdown",
      "source": [
        "# Shape 변경"
      ],
      "metadata": {
        "id": "8jEaVmzlYqqS"
      }
    },
    {
      "cell_type": "markdown",
      "source": [
        "## `np.ndarray.reshape(shape)`\n",
        "\n",
        "배열의 모양을 변경한 새로운 배열을 리턴."
      ],
      "metadata": {
        "id": "NJCFSNFyYsnr"
      }
    },
    {
      "cell_type": "code",
      "source": [
        "arr_1d = np.arange(12)\n",
        "print(arr_1d)"
      ],
      "metadata": {
        "colab": {
          "base_uri": "https://localhost:8080/"
        },
        "id": "Lo6d1tU2Yuu7",
        "outputId": "434478a0-41f3-4df5-a838-69cfd2941f30"
      },
      "execution_count": 55,
      "outputs": [
        {
          "output_type": "stream",
          "name": "stdout",
          "text": [
            "[ 0  1  2  3  4  5  6  7  8  9 10 11]\n"
          ]
        }
      ]
    },
    {
      "cell_type": "code",
      "source": [
        "arr_2d = arr_1d.reshape((3, 4))\n",
        "print(arr_2d)"
      ],
      "metadata": {
        "colab": {
          "base_uri": "https://localhost:8080/"
        },
        "id": "XuVmuCnjYv9z",
        "outputId": "2ac29c7e-2a58-475f-df9b-345868dd688d"
      },
      "execution_count": 56,
      "outputs": [
        {
          "output_type": "stream",
          "name": "stdout",
          "text": [
            "[[ 0  1  2  3]\n",
            " [ 4  5  6  7]\n",
            " [ 8  9 10 11]]\n"
          ]
        }
      ]
    },
    {
      "cell_type": "code",
      "source": [
        "print(arr_1d)"
      ],
      "metadata": {
        "colab": {
          "base_uri": "https://localhost:8080/"
        },
        "id": "UqywvsMcYyTj",
        "outputId": "55d9a1e8-17d5-4011-c313-154dd7e9b3ca"
      },
      "execution_count": 57,
      "outputs": [
        {
          "output_type": "stream",
          "name": "stdout",
          "text": [
            "[ 0  1  2  3  4  5  6  7  8  9 10 11]\n"
          ]
        }
      ]
    },
    {
      "cell_type": "code",
      "source": [
        "# reshape을 할 때 자동으로 계산될 수 있는 차원의 값은 -1로 설정할 수 있음.\n",
        "arr_2d = arr_1d.reshape((2, -1))  # (2, 6)\n",
        "print(arr_2d)"
      ],
      "metadata": {
        "colab": {
          "base_uri": "https://localhost:8080/"
        },
        "id": "ZoQDVLsuYziT",
        "outputId": "271a2285-f834-4c91-e95f-d54fa770e912"
      },
      "execution_count": 58,
      "outputs": [
        {
          "output_type": "stream",
          "name": "stdout",
          "text": [
            "[[ 0  1  2  3  4  5]\n",
            " [ 6  7  8  9 10 11]]\n"
          ]
        }
      ]
    },
    {
      "cell_type": "code",
      "source": [
        "arr_2d = arr_1d.reshape((-1, 3))  # (4, 3)\n",
        "print(arr_2d)"
      ],
      "metadata": {
        "colab": {
          "base_uri": "https://localhost:8080/"
        },
        "id": "5ODYMGh-Y019",
        "outputId": "d35ce32b-1cc7-44a8-dd5e-51a28cbb2c96"
      },
      "execution_count": 59,
      "outputs": [
        {
          "output_type": "stream",
          "name": "stdout",
          "text": [
            "[[ 0  1  2]\n",
            " [ 3  4  5]\n",
            " [ 6  7  8]\n",
            " [ 9 10 11]]\n"
          ]
        }
      ]
    },
    {
      "cell_type": "markdown",
      "source": [
        "## `np.ndarray.ravel()`\n",
        "\n",
        "1차원으로 변환된 배열의 **view**를 리턴. 새로운 배열이 리턴되는 것이 아님. 단지 모양만 다르게 보여줌."
      ],
      "metadata": {
        "id": "sD3HPCXKYxDi"
      }
    },
    {
      "cell_type": "code",
      "source": [
        "print(arr_2d)  # (4, 3) shape의 2차원 배열"
      ],
      "metadata": {
        "colab": {
          "base_uri": "https://localhost:8080/"
        },
        "id": "q8VbAoJMY3Qj",
        "outputId": "aa0f2acd-0c68-4a7f-f90a-d0073b2c8ab7"
      },
      "execution_count": 60,
      "outputs": [
        {
          "output_type": "stream",
          "name": "stdout",
          "text": [
            "[[ 0  1  2]\n",
            " [ 3  4  5]\n",
            " [ 6  7  8]\n",
            " [ 9 10 11]]\n"
          ]
        }
      ]
    },
    {
      "cell_type": "code",
      "source": [
        "raveled = arr_2d.ravel()\n",
        "print(raveled)"
      ],
      "metadata": {
        "colab": {
          "base_uri": "https://localhost:8080/"
        },
        "id": "ilbQRfUIZGZt",
        "outputId": "d9542e25-164a-4892-a974-2fc83c7330d1"
      },
      "execution_count": 62,
      "outputs": [
        {
          "output_type": "stream",
          "name": "stdout",
          "text": [
            "[ 0  1  2  3  4  5  6  7  8  9 10 11]\n"
          ]
        }
      ]
    },
    {
      "cell_type": "code",
      "source": [
        "raveled[0] = 100  # 모양이 변경된 1차원 배열의 원소 값을 변경\n",
        "print(raveled)"
      ],
      "metadata": {
        "colab": {
          "base_uri": "https://localhost:8080/"
        },
        "id": "w49s7ULqY5Qj",
        "outputId": "8ee39678-f293-41f8-d32c-2a24b4c64e26"
      },
      "execution_count": 63,
      "outputs": [
        {
          "output_type": "stream",
          "name": "stdout",
          "text": [
            "[100   1   2   3   4   5   6   7   8   9  10  11]\n"
          ]
        }
      ]
    },
    {
      "cell_type": "code",
      "source": [
        "print(arr_2d)  # ravel() 결과 배열에서 값을 변경하면 원본 2차원 배열의 원소도 변경"
      ],
      "metadata": {
        "colab": {
          "base_uri": "https://localhost:8080/"
        },
        "id": "ys_h1htRY-v8",
        "outputId": "f652f440-e816-4fee-94f4-0a6db6bc87c8"
      },
      "execution_count": 64,
      "outputs": [
        {
          "output_type": "stream",
          "name": "stdout",
          "text": [
            "[[100   1   2]\n",
            " [  3   4   5]\n",
            " [  6   7   8]\n",
            " [  9  10  11]]\n"
          ]
        }
      ]
    },
    {
      "cell_type": "markdown",
      "source": [
        "## `np.ndarray.flatten()`\n",
        "\n",
        "1차원으로 변환된 배열의 **복사본**을 리턴. 원본 배열과는 별개의 *새로운 배열*을 리턴."
      ],
      "metadata": {
        "id": "05f6IEhJZKAE"
      }
    },
    {
      "cell_type": "code",
      "source": [
        "print(arr_2d)"
      ],
      "metadata": {
        "colab": {
          "base_uri": "https://localhost:8080/"
        },
        "id": "SClAKlCRZKxj",
        "outputId": "fadcaa38-b9dc-41df-cc15-3fd2ee8985c3"
      },
      "execution_count": 65,
      "outputs": [
        {
          "output_type": "stream",
          "name": "stdout",
          "text": [
            "[[100   1   2]\n",
            " [  3   4   5]\n",
            " [  6   7   8]\n",
            " [  9  10  11]]\n"
          ]
        }
      ]
    },
    {
      "cell_type": "code",
      "source": [
        "flattened = arr_2d.flatten()\n",
        "print(flattened)"
      ],
      "metadata": {
        "colab": {
          "base_uri": "https://localhost:8080/"
        },
        "id": "1iL9xmjKZM3m",
        "outputId": "46f997ff-aa62-4461-d308-4cf6246896b9"
      },
      "execution_count": 66,
      "outputs": [
        {
          "output_type": "stream",
          "name": "stdout",
          "text": [
            "[100   1   2   3   4   5   6   7   8   9  10  11]\n"
          ]
        }
      ]
    },
    {
      "cell_type": "code",
      "source": [
        "flattened[0] = 0\n",
        "print(flattened)"
      ],
      "metadata": {
        "colab": {
          "base_uri": "https://localhost:8080/"
        },
        "id": "jeanROJaZOwL",
        "outputId": "48e836a8-4b6f-4d02-d80f-63a1fa8e9bf1"
      },
      "execution_count": 67,
      "outputs": [
        {
          "output_type": "stream",
          "name": "stdout",
          "text": [
            "[ 0  1  2  3  4  5  6  7  8  9 10 11]\n"
          ]
        }
      ]
    },
    {
      "cell_type": "code",
      "source": [
        "print(arr_2d)  # flatten() 결과에서 값을 변경한 것은 원본 2차원 배열에 아무 영향을 주지 않음."
      ],
      "metadata": {
        "colab": {
          "base_uri": "https://localhost:8080/"
        },
        "id": "XMD8yJ5sZQH2",
        "outputId": "d15557e9-61c4-4a5f-9deb-44f2eb9bdb46"
      },
      "execution_count": 68,
      "outputs": [
        {
          "output_type": "stream",
          "name": "stdout",
          "text": [
            "[[100   1   2]\n",
            " [  3   4   5]\n",
            " [  6   7   8]\n",
            " [  9  10  11]]\n"
          ]
        }
      ]
    },
    {
      "cell_type": "markdown",
      "source": [
        "## `np.newaxis` 속성을 사용한 차원 늘리기"
      ],
      "metadata": {
        "id": "qZUJcj12ZR01"
      }
    },
    {
      "cell_type": "code",
      "source": [
        "arr = np.arange(5)  # [0, 5) 범위의 정수 5개를 갖는 (5,) shape의 1차원 배열\n",
        "print(arr)\n",
        "print(arr.shape)\n",
        "print(arr.ndim)"
      ],
      "metadata": {
        "colab": {
          "base_uri": "https://localhost:8080/"
        },
        "id": "7yAwvtN-ZTMr",
        "outputId": "b980ea2f-fd08-4240-9658-a2e7e51cbe79"
      },
      "execution_count": 69,
      "outputs": [
        {
          "output_type": "stream",
          "name": "stdout",
          "text": [
            "[0 1 2 3 4]\n",
            "(5,)\n",
            "1\n"
          ]
        }
      ]
    },
    {
      "cell_type": "code",
      "source": [
        "# 배열 arr을 (1, 5) shape의 2차원 배열로 변환\n",
        "arr_2d = arr.reshape((1, -1))  # (1, 5)\n",
        "print(arr_2d)"
      ],
      "metadata": {
        "colab": {
          "base_uri": "https://localhost:8080/"
        },
        "id": "yRFfQTx8ZUY_",
        "outputId": "89322df2-3539-4ab2-9677-2a356fdc8258"
      },
      "execution_count": 70,
      "outputs": [
        {
          "output_type": "stream",
          "name": "stdout",
          "text": [
            "[[0 1 2 3 4]]\n"
          ]
        }
      ]
    },
    {
      "cell_type": "code",
      "source": [
        "result = arr[np.newaxis, :]\n",
        "print(result)"
      ],
      "metadata": {
        "colab": {
          "base_uri": "https://localhost:8080/"
        },
        "id": "LEZwBsLlZVsi",
        "outputId": "e537851e-4520-43dd-86a2-da3e184aa1ad"
      },
      "execution_count": 71,
      "outputs": [
        {
          "output_type": "stream",
          "name": "stdout",
          "text": [
            "[[0 1 2 3 4]]\n"
          ]
        }
      ]
    },
    {
      "cell_type": "code",
      "source": [
        "# 배열 arr을 (5, 1) shape의 2차원 배열로 변환\n",
        "arr_2d = arr.reshape((-1, 1))  # (5, 1), (5, -1)\n",
        "print(arr_2d)"
      ],
      "metadata": {
        "colab": {
          "base_uri": "https://localhost:8080/"
        },
        "id": "nvJ_jzXnZWxz",
        "outputId": "2dd6358b-00f9-4ef9-9426-7522f75a46f2"
      },
      "execution_count": 72,
      "outputs": [
        {
          "output_type": "stream",
          "name": "stdout",
          "text": [
            "[[0]\n",
            " [1]\n",
            " [2]\n",
            " [3]\n",
            " [4]]\n"
          ]
        }
      ]
    },
    {
      "cell_type": "code",
      "source": [
        "result = arr[:, np.newaxis]\n",
        "print(result)"
      ],
      "metadata": {
        "colab": {
          "base_uri": "https://localhost:8080/"
        },
        "id": "UBgvqFTIZYGr",
        "outputId": "30bcf857-98a2-4f32-e01b-b91c55b7ed2f"
      },
      "execution_count": 73,
      "outputs": [
        {
          "output_type": "stream",
          "name": "stdout",
          "text": [
            "[[0]\n",
            " [1]\n",
            " [2]\n",
            " [3]\n",
            " [4]]\n"
          ]
        }
      ]
    },
    {
      "cell_type": "markdown",
      "source": [
        "# 배열 합치기(concatenate)"
      ],
      "metadata": {
        "id": "Nfaq-JjSZZuC"
      }
    },
    {
      "cell_type": "markdown",
      "source": [
        "## `np.concatenate([array1, array2, ...], axis=0)`\n",
        "\n",
        "특정 축(axis) 방향으로 이어 붙이기."
      ],
      "metadata": {
        "id": "69UrnhG7ZbcS"
      }
    },
    {
      "cell_type": "code",
      "source": [
        "arr1 = np.arange(6).reshape((2, 3))\n",
        "print(arr1)"
      ],
      "metadata": {
        "colab": {
          "base_uri": "https://localhost:8080/"
        },
        "id": "skga1wJvZcwm",
        "outputId": "5e0d8cfa-269c-426f-9311-6357415985c9"
      },
      "execution_count": 74,
      "outputs": [
        {
          "output_type": "stream",
          "name": "stdout",
          "text": [
            "[[0 1 2]\n",
            " [3 4 5]]\n"
          ]
        }
      ]
    },
    {
      "cell_type": "code",
      "source": [
        "arr2 = np.array([[10, 20, 30]])  # (1, 3)\n",
        "print(arr2)"
      ],
      "metadata": {
        "colab": {
          "base_uri": "https://localhost:8080/"
        },
        "id": "5OpB7NEwZeaq",
        "outputId": "a6116d05-a1e1-48c9-81f2-235d5acbe34e"
      },
      "execution_count": 75,
      "outputs": [
        {
          "output_type": "stream",
          "name": "stdout",
          "text": [
            "[[10 20 30]]\n"
          ]
        }
      ]
    },
    {
      "cell_type": "code",
      "source": [
        "result = np.concatenate([arr1, arr2])  # axis 기본값 0.\n",
        "print(result)"
      ],
      "metadata": {
        "colab": {
          "base_uri": "https://localhost:8080/"
        },
        "id": "wCRHpra-ZfjD",
        "outputId": "f98be33f-d683-4a15-c370-3c198d1727e4"
      },
      "execution_count": 76,
      "outputs": [
        {
          "output_type": "stream",
          "name": "stdout",
          "text": [
            "[[ 0  1  2]\n",
            " [ 3  4  5]\n",
            " [10 20 30]]\n"
          ]
        }
      ]
    },
    {
      "cell_type": "code",
      "source": [
        "arr3 = np.array([[100], [200]])  # (1, 2) shape의 2차원 배열\n",
        "print(arr3)"
      ],
      "metadata": {
        "colab": {
          "base_uri": "https://localhost:8080/"
        },
        "id": "dGzFcsJRZgdC",
        "outputId": "e234e404-0652-4b9e-da9f-f9cf0f119ae2"
      },
      "execution_count": 77,
      "outputs": [
        {
          "output_type": "stream",
          "name": "stdout",
          "text": [
            "[[100]\n",
            " [200]]\n"
          ]
        }
      ]
    },
    {
      "cell_type": "code",
      "source": [
        "result = np.concatenate([arr1, arr3], axis=1)\n",
        "print(result)"
      ],
      "metadata": {
        "colab": {
          "base_uri": "https://localhost:8080/"
        },
        "id": "_3bNrRHtZhm6",
        "outputId": "78a427c8-76b5-43ac-ab7a-5e38084ba6ca"
      },
      "execution_count": 78,
      "outputs": [
        {
          "output_type": "stream",
          "name": "stdout",
          "text": [
            "[[  0   1   2 100]\n",
            " [  3   4   5 200]]\n"
          ]
        }
      ]
    },
    {
      "cell_type": "markdown",
      "source": [
        "## `np.r_[array1, array2]`, `np.c_[array1, array2]`\n",
        "\n",
        "*  `np.r_`: 행(row) 이어붙이기. concatenate(axis=0)\n",
        "*  `np.c_`: 열(column) 이어붙이기. concatenate(axis=1)\n"
      ],
      "metadata": {
        "id": "t4K0GuJnZjpb"
      }
    },
    {
      "cell_type": "code",
      "source": [
        "np.r_[arr1, arr2]"
      ],
      "metadata": {
        "colab": {
          "base_uri": "https://localhost:8080/"
        },
        "id": "wtpqBgJDZlRa",
        "outputId": "91669f7a-7218-4100-f46b-372ea419a8fd"
      },
      "execution_count": 79,
      "outputs": [
        {
          "output_type": "execute_result",
          "data": {
            "text/plain": [
              "array([[ 0,  1,  2],\n",
              "       [ 3,  4,  5],\n",
              "       [10, 20, 30]])"
            ]
          },
          "metadata": {},
          "execution_count": 79
        }
      ]
    },
    {
      "cell_type": "code",
      "source": [
        "np.c_[arr1, arr3]"
      ],
      "metadata": {
        "colab": {
          "base_uri": "https://localhost:8080/"
        },
        "id": "oYTDk5EHZmZj",
        "outputId": "408530ce-da3a-4e49-e35e-b10ab3580880"
      },
      "execution_count": 80,
      "outputs": [
        {
          "output_type": "execute_result",
          "data": {
            "text/plain": [
              "array([[  0,   1,   2, 100],\n",
              "       [  3,   4,   5, 200]])"
            ]
          },
          "metadata": {},
          "execution_count": 80
        }
      ]
    },
    {
      "cell_type": "markdown",
      "source": [
        "# Broadcasting(브로드캐스팅)\n",
        "\n",
        "*  `np.ndaray`의 산술 연산(+, -, *, /, ...)은 같은 위치(인덱스)에 있는 원소들끼리(element-wise) 연산을 수행함.\n",
        "    *  같은 모양의 배열들끼리 산술 연산이 가능.\n",
        "*  broadcast: 서로 다른 모양의 배열들끼리 산술 연산이 가능한 경우."
      ],
      "metadata": {
        "id": "myfYVxkdZoA-"
      }
    },
    {
      "cell_type": "markdown",
      "source": [
        "## ndarray와 scalar의 연산"
      ],
      "metadata": {
        "id": "ozcPaernZptj"
      }
    },
    {
      "cell_type": "code",
      "source": [
        "arr1 = np.arange(1, 4)\n",
        "print(arr1)"
      ],
      "metadata": {
        "colab": {
          "base_uri": "https://localhost:8080/"
        },
        "id": "L7LCPRaMZq8r",
        "outputId": "b41981ec-81a3-485b-b020-172a53911e09"
      },
      "execution_count": 81,
      "outputs": [
        {
          "output_type": "stream",
          "name": "stdout",
          "text": [
            "[1 2 3]\n"
          ]
        }
      ]
    },
    {
      "cell_type": "code",
      "source": [
        "arr1 + 10"
      ],
      "metadata": {
        "colab": {
          "base_uri": "https://localhost:8080/"
        },
        "id": "-e8sdD0AZsbz",
        "outputId": "509012fd-45bd-477d-c498-d9efbf66344f"
      },
      "execution_count": 82,
      "outputs": [
        {
          "output_type": "execute_result",
          "data": {
            "text/plain": [
              "array([11, 12, 13])"
            ]
          },
          "metadata": {},
          "execution_count": 82
        }
      ]
    },
    {
      "cell_type": "code",
      "source": [
        "arr2 = np.array([\n",
        "    [1],\n",
        "    [2],\n",
        "    [3]\n",
        "])  # (3, 1) shape\n",
        "print(arr2)"
      ],
      "metadata": {
        "colab": {
          "base_uri": "https://localhost:8080/"
        },
        "id": "COonRrmuZt6j",
        "outputId": "d7b86d36-a5ea-4171-b49d-28db6cd37136"
      },
      "execution_count": 83,
      "outputs": [
        {
          "output_type": "stream",
          "name": "stdout",
          "text": [
            "[[1]\n",
            " [2]\n",
            " [3]]\n"
          ]
        }
      ]
    },
    {
      "cell_type": "code",
      "source": [
        "arr2 + 10"
      ],
      "metadata": {
        "colab": {
          "base_uri": "https://localhost:8080/"
        },
        "id": "Eh6Pw7jWZvEd",
        "outputId": "0b91fd4e-c874-45c3-b3ea-fcd03d1069ad"
      },
      "execution_count": 84,
      "outputs": [
        {
          "output_type": "execute_result",
          "data": {
            "text/plain": [
              "array([[11],\n",
              "       [12],\n",
              "       [13]])"
            ]
          },
          "metadata": {},
          "execution_count": 84
        }
      ]
    },
    {
      "cell_type": "markdown",
      "source": [
        "## 2차원 배열과 1차원 배열에서 broadcast"
      ],
      "metadata": {
        "id": "bxB8s9JoZxDF"
      }
    },
    {
      "cell_type": "code",
      "source": [
        "arr1 = np.arange(6).reshape((2, -1))  # (2, 3) shape의 2차원 배열\n",
        "print(arr1)"
      ],
      "metadata": {
        "colab": {
          "base_uri": "https://localhost:8080/"
        },
        "id": "ORO65BkIZyK1",
        "outputId": "4be252d1-7dab-428d-8047-d4e6c81cf3bc"
      },
      "execution_count": 85,
      "outputs": [
        {
          "output_type": "stream",
          "name": "stdout",
          "text": [
            "[[0 1 2]\n",
            " [3 4 5]]\n"
          ]
        }
      ]
    },
    {
      "cell_type": "code",
      "source": [
        "arr2 = np.array([10, 20, 30])  # (3, ) shape의 1차원 배열\n",
        "print(arr2)"
      ],
      "metadata": {
        "colab": {
          "base_uri": "https://localhost:8080/"
        },
        "id": "T031BcbDZzac",
        "outputId": "9a29fc1c-d2c2-44ab-e261-4c4a13d57d7e"
      },
      "execution_count": 86,
      "outputs": [
        {
          "output_type": "stream",
          "name": "stdout",
          "text": [
            "[10 20 30]\n"
          ]
        }
      ]
    },
    {
      "cell_type": "code",
      "source": [
        "arr1 + arr2"
      ],
      "metadata": {
        "colab": {
          "base_uri": "https://localhost:8080/"
        },
        "id": "DtZIY9-xZ00D",
        "outputId": "9f23ac80-8d96-4097-9a29-0f97795b76a4"
      },
      "execution_count": 87,
      "outputs": [
        {
          "output_type": "execute_result",
          "data": {
            "text/plain": [
              "array([[10, 21, 32],\n",
              "       [13, 24, 35]])"
            ]
          },
          "metadata": {},
          "execution_count": 87
        }
      ]
    },
    {
      "cell_type": "code",
      "source": [
        "arr3 = np.array([10, 20])  # (2,) shape의 1차원 배열\n",
        "print(arr3)"
      ],
      "metadata": {
        "colab": {
          "base_uri": "https://localhost:8080/"
        },
        "id": "0GfbpyZBZ2CG",
        "outputId": "3268ce88-5a33-4e14-d1d8-c0628d89205c"
      },
      "execution_count": 88,
      "outputs": [
        {
          "output_type": "stream",
          "name": "stdout",
          "text": [
            "[10 20]\n"
          ]
        }
      ]
    },
    {
      "cell_type": "code",
      "source": [
        "# arr1 + arr3\n",
        "#> (2, 3) shape과 (2,) shape의 배열은 broadcast할 수 없음."
      ],
      "metadata": {
        "id": "GCLNB4PYZ3Ou"
      },
      "execution_count": 89,
      "outputs": []
    },
    {
      "cell_type": "code",
      "source": [
        "arr3 = arr3.reshape((-1, 1))  # (2, 1) shape\n",
        "print(arr3)"
      ],
      "metadata": {
        "colab": {
          "base_uri": "https://localhost:8080/"
        },
        "id": "zXT3LwD5Z4Bb",
        "outputId": "45402d4b-96ee-4b15-c1fa-7f24b882aa2e"
      },
      "execution_count": 90,
      "outputs": [
        {
          "output_type": "stream",
          "name": "stdout",
          "text": [
            "[[10]\n",
            " [20]]\n"
          ]
        }
      ]
    },
    {
      "cell_type": "code",
      "source": [
        "arr1 + arr3"
      ],
      "metadata": {
        "colab": {
          "base_uri": "https://localhost:8080/"
        },
        "id": "UhbIeRvlZ5pj",
        "outputId": "1cdf28db-0318-4218-a672-8036c4cdb721"
      },
      "execution_count": 91,
      "outputs": [
        {
          "output_type": "execute_result",
          "data": {
            "text/plain": [
              "array([[10, 11, 12],\n",
              "       [23, 24, 25]])"
            ]
          },
          "metadata": {},
          "execution_count": 91
        }
      ]
    },
    {
      "cell_type": "markdown",
      "source": [
        "## broadcast 연습"
      ],
      "metadata": {
        "id": "_25HVx1dZ7G2"
      }
    },
    {
      "cell_type": "markdown",
      "source": [
        "표준화(standardization): 배열의 원소들을 평균이 0이 되고 표준편차가 1이 되도록 변수들의 스케일을 변환하는 것.\n",
        "\n",
        "$$\n",
        "X_{scaled} = \\frac{X- \\mu}{\\sigma}\n",
        "$$\n",
        "\n",
        "*  $ \\mu $: 평균\n",
        "*  $ \\sigma $: 표준편차"
      ],
      "metadata": {
        "id": "u7tLXJ4PZ8kD"
      }
    },
    {
      "cell_type": "code",
      "source": [
        "x = np.arange(1, 6)\n",
        "print(x)"
      ],
      "metadata": {
        "colab": {
          "base_uri": "https://localhost:8080/"
        },
        "id": "p5OWrNbOZ-El",
        "outputId": "72e63cf1-155c-42ec-f5cf-7d2285ce5f7f"
      },
      "execution_count": 92,
      "outputs": [
        {
          "output_type": "stream",
          "name": "stdout",
          "text": [
            "[1 2 3 4 5]\n"
          ]
        }
      ]
    },
    {
      "cell_type": "code",
      "source": [
        "mu = np.mean(x)  # 평균\n",
        "print(mu)"
      ],
      "metadata": {
        "colab": {
          "base_uri": "https://localhost:8080/"
        },
        "id": "ybs07FG2Z_NT",
        "outputId": "708f29c2-c9e3-48d0-ddf7-818ce481a159"
      },
      "execution_count": 93,
      "outputs": [
        {
          "output_type": "stream",
          "name": "stdout",
          "text": [
            "3.0\n"
          ]
        }
      ]
    },
    {
      "cell_type": "code",
      "source": [
        "sigma = np.std(x)  # 표준편차\n",
        "print(sigma)"
      ],
      "metadata": {
        "colab": {
          "base_uri": "https://localhost:8080/"
        },
        "id": "VFx1xXXDaAJr",
        "outputId": "9ff61bd9-3893-4da1-a7e5-3d17e15ec633"
      },
      "execution_count": 94,
      "outputs": [
        {
          "output_type": "stream",
          "name": "stdout",
          "text": [
            "1.4142135623730951\n"
          ]
        }
      ]
    },
    {
      "cell_type": "code",
      "source": [
        "x_scaled = (x - mu) / sigma\n",
        "print(x_scaled)"
      ],
      "metadata": {
        "colab": {
          "base_uri": "https://localhost:8080/"
        },
        "id": "SoRAtCK1aBR6",
        "outputId": "534f51ad-2746-46c4-8ba3-8013cf81e16f"
      },
      "execution_count": 95,
      "outputs": [
        {
          "output_type": "stream",
          "name": "stdout",
          "text": [
            "[-1.41421356 -0.70710678  0.          0.70710678  1.41421356]\n"
          ]
        }
      ]
    },
    {
      "cell_type": "code",
      "source": [
        "print(np.mean(x_scaled))\n",
        "print(np.std(x_scaled))"
      ],
      "metadata": {
        "colab": {
          "base_uri": "https://localhost:8080/"
        },
        "id": "FXT1g6z7aCdr",
        "outputId": "6694aa56-e940-4188-b7a8-ba91b3898242"
      },
      "execution_count": 96,
      "outputs": [
        {
          "output_type": "stream",
          "name": "stdout",
          "text": [
            "0.0\n",
            "0.9999999999999999\n"
          ]
        }
      ]
    },
    {
      "cell_type": "markdown",
      "source": [
        "정규화(normalization): min-max scaling. 배열의 원소들을 최솟값이 0이 되도록, 최댓값이 1이 되도록 변환을 하는 것.\n",
        "\n",
        "$$\n",
        "X_{normalized} = \\frac{(X - min(X))}{(max(X) - min(X))}\n",
        "$$\n"
      ],
      "metadata": {
        "id": "tOzRaiocaFCF"
      }
    },
    {
      "cell_type": "code",
      "source": [
        "print(x)"
      ],
      "metadata": {
        "colab": {
          "base_uri": "https://localhost:8080/"
        },
        "id": "mhXhjMhEaGmr",
        "outputId": "4be6ee3d-ab64-45af-833d-384dc2c4ef36"
      },
      "execution_count": 97,
      "outputs": [
        {
          "output_type": "stream",
          "name": "stdout",
          "text": [
            "[1 2 3 4 5]\n"
          ]
        }
      ]
    },
    {
      "cell_type": "code",
      "source": [
        "xmin = np.min(x)\n",
        "xmin"
      ],
      "metadata": {
        "colab": {
          "base_uri": "https://localhost:8080/"
        },
        "id": "hI1oDvcYaIEt",
        "outputId": "dc902694-548f-4920-e861-8b099fc349e0"
      },
      "execution_count": 98,
      "outputs": [
        {
          "output_type": "execute_result",
          "data": {
            "text/plain": [
              "1"
            ]
          },
          "metadata": {},
          "execution_count": 98
        }
      ]
    },
    {
      "cell_type": "code",
      "source": [
        "xmax = np.max(x)\n",
        "xmax"
      ],
      "metadata": {
        "colab": {
          "base_uri": "https://localhost:8080/"
        },
        "id": "Uzhvv1HXaJED",
        "outputId": "bd95440f-17e0-4eee-8d56-18e6947d7a41"
      },
      "execution_count": 99,
      "outputs": [
        {
          "output_type": "execute_result",
          "data": {
            "text/plain": [
              "5"
            ]
          },
          "metadata": {},
          "execution_count": 99
        }
      ]
    },
    {
      "cell_type": "code",
      "source": [
        "x_normalized = (x - xmin) / (xmax - xmin)\n",
        "print(x_normalized)"
      ],
      "metadata": {
        "colab": {
          "base_uri": "https://localhost:8080/"
        },
        "id": "t6ngTntcaKOb",
        "outputId": "dbd4e62b-63fb-45bc-cd9e-0778b142654d"
      },
      "execution_count": 100,
      "outputs": [
        {
          "output_type": "stream",
          "name": "stdout",
          "text": [
            "[0.   0.25 0.5  0.75 1.  ]\n"
          ]
        }
      ]
    },
    {
      "cell_type": "markdown",
      "source": [
        "## 2차원 배열에서 표준화, 정규화"
      ],
      "metadata": {
        "id": "fIGZIiA7aMD4"
      }
    },
    {
      "cell_type": "code",
      "source": [
        "X = np.arange(1, 7).reshape((3, -1))  # (3, 2) shape의 2차원 배열\n",
        "print(X)"
      ],
      "metadata": {
        "colab": {
          "base_uri": "https://localhost:8080/"
        },
        "id": "J1h8xS8UaOST",
        "outputId": "4caa7db7-54de-453a-a1f0-6cf6251e95a1"
      },
      "execution_count": 101,
      "outputs": [
        {
          "output_type": "stream",
          "name": "stdout",
          "text": [
            "[[1 2]\n",
            " [3 4]\n",
            " [5 6]]\n"
          ]
        }
      ]
    },
    {
      "cell_type": "markdown",
      "source": [
        "axis=0 축 방향으로 표준화"
      ],
      "metadata": {
        "id": "H35aHRtOaQnz"
      }
    },
    {
      "cell_type": "code",
      "source": [
        "mu = np.mean(X, axis=0)\n",
        "mu"
      ],
      "metadata": {
        "colab": {
          "base_uri": "https://localhost:8080/"
        },
        "id": "VzYig1qKaRms",
        "outputId": "c65fe403-49b3-4a58-b2c3-224783fc8f70"
      },
      "execution_count": 102,
      "outputs": [
        {
          "output_type": "execute_result",
          "data": {
            "text/plain": [
              "array([3., 4.])"
            ]
          },
          "metadata": {},
          "execution_count": 102
        }
      ]
    },
    {
      "cell_type": "code",
      "source": [
        "sigma = np.std(X, axis=0)\n",
        "sigma"
      ],
      "metadata": {
        "colab": {
          "base_uri": "https://localhost:8080/"
        },
        "id": "ZiSxdLivaS4D",
        "outputId": "c55003bc-0649-4c87-ddd8-a90f74a52912"
      },
      "execution_count": 103,
      "outputs": [
        {
          "output_type": "execute_result",
          "data": {
            "text/plain": [
              "array([1.63299316, 1.63299316])"
            ]
          },
          "metadata": {},
          "execution_count": 103
        }
      ]
    },
    {
      "cell_type": "code",
      "source": [
        "X_scaled = (X - mu) / sigma\n",
        "print(X_scaled)"
      ],
      "metadata": {
        "colab": {
          "base_uri": "https://localhost:8080/"
        },
        "id": "aprVzt7oaTjT",
        "outputId": "5782a67b-2157-481e-9417-5f9b6e4b8900"
      },
      "execution_count": 104,
      "outputs": [
        {
          "output_type": "stream",
          "name": "stdout",
          "text": [
            "[[-1.22474487 -1.22474487]\n",
            " [ 0.          0.        ]\n",
            " [ 1.22474487  1.22474487]]\n"
          ]
        }
      ]
    },
    {
      "cell_type": "code",
      "source": [
        "print(np.mean(X_scaled, axis=0))\n",
        "print(np.std(X_scaled, axis=0))"
      ],
      "metadata": {
        "colab": {
          "base_uri": "https://localhost:8080/"
        },
        "id": "45Pijfn7aVGt",
        "outputId": "ddf4b71a-4d57-4207-dc31-3082fcac353d"
      },
      "execution_count": 105,
      "outputs": [
        {
          "output_type": "stream",
          "name": "stdout",
          "text": [
            "[0. 0.]\n",
            "[1. 1.]\n"
          ]
        }
      ]
    },
    {
      "cell_type": "code",
      "source": [
        "xmax = np.max(X, axis=0)\n",
        "xmax"
      ],
      "metadata": {
        "colab": {
          "base_uri": "https://localhost:8080/"
        },
        "id": "NE-eNHp5aWGE",
        "outputId": "5fb61d85-db42-4c0c-e476-4c74bebadc8f"
      },
      "execution_count": 106,
      "outputs": [
        {
          "output_type": "execute_result",
          "data": {
            "text/plain": [
              "array([5, 6])"
            ]
          },
          "metadata": {},
          "execution_count": 106
        }
      ]
    },
    {
      "cell_type": "code",
      "source": [
        "xmin = np.min(X, axis=0)\n",
        "xmin"
      ],
      "metadata": {
        "colab": {
          "base_uri": "https://localhost:8080/"
        },
        "id": "hkMs9jK-aXJ2",
        "outputId": "e72061f3-4a5d-4a5a-e756-f3b67831bc50"
      },
      "execution_count": 107,
      "outputs": [
        {
          "output_type": "execute_result",
          "data": {
            "text/plain": [
              "array([1, 2])"
            ]
          },
          "metadata": {},
          "execution_count": 107
        }
      ]
    },
    {
      "cell_type": "code",
      "source": [
        "X_normalized = (X - xmin) / (xmax - xmin)\n",
        "print(X_normalized)"
      ],
      "metadata": {
        "colab": {
          "base_uri": "https://localhost:8080/"
        },
        "id": "HmysmbUNaYG1",
        "outputId": "21d1fbbe-41a0-4f65-f0a6-2d36d49b7d51"
      },
      "execution_count": 108,
      "outputs": [
        {
          "output_type": "stream",
          "name": "stdout",
          "text": [
            "[[0.  0. ]\n",
            " [0.5 0.5]\n",
            " [1.  1. ]]\n"
          ]
        }
      ]
    }
  ]
}