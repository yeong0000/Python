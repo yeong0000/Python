{
  "nbformat": 4,
  "nbformat_minor": 0,
  "metadata": {
    "colab": {
      "provenance": [],
      "mount_file_id": "1otuz4HyG-mKUHX7cMIBF-08BGuGhA7Y6",
      "authorship_tag": "ABX9TyPvwBMRzqpTdq84V1ZXyYkX",
      "include_colab_link": true
    },
    "kernelspec": {
      "name": "python3",
      "display_name": "Python 3"
    },
    "language_info": {
      "name": "python"
    }
  },
  "cells": [
    {
      "cell_type": "markdown",
      "metadata": {
        "id": "view-in-github",
        "colab_type": "text"
      },
      "source": [
        "<a href=\"https://colab.research.google.com/github/yeong0000/Python/blob/main/py11_file.ipynb\" target=\"_parent\"><img src=\"https://colab.research.google.com/assets/colab-badge.svg\" alt=\"Open In Colab\"/></a>"
      ]
    },
    {
      "cell_type": "markdown",
      "source": [
        "# 파일 쓰기"
      ],
      "metadata": {
        "id": "KpEujgFiRgb5"
      }
    },
    {
      "cell_type": "markdown",
      "source": [
        "파일 쓰기 순서:\n",
        "1. 파일 열기(open)\n",
        "2. 파일 내용 쓰기(write)\n",
        "3. 파일 닫기(close)\n",
        "\n",
        "`open(file, mode='rt', ...)`:\n",
        "*  file: 폴더(디렉토리)를 포함한 파일 이름.\n",
        "*  mode: 파일을 여는 방법(모드).\n",
        "    *  r(read): 읽기. 기본값.\n",
        "    *  w(write): 쓰기.\n",
        "        *  파일이 있으면 기존 내용이 모두 삭제되고 파일의 처음부터 다시 쓰기 시작.\n",
        "        *  파일이 없으면 새로운 파일을 생성하고 파일 쓰기가 됨.\n",
        "    *  a(append): 이어쓰기. 기존 작성된 내용 이후부터 이어서 쓰기.\n",
        "        * 파일이 있으면 기존 파일 뒤에 이어쓰기\n",
        "        * 파일이 없으면 새로운 파일을 생성하고 이어쓰기\n",
        "    *  t(text): 텍스트 (읽기/쓰기). 인코딩된 문자열. 기본값.\n",
        "    *  b(binary): 이진 데이터 (읽기/쓰기). (예) 이미지, 동영상, ..."
      ],
      "metadata": {
        "id": "jDF7ejjuSBWC"
      }
    },
    {
      "cell_type": "code",
      "source": [
        "# 1. 파일을 텍스트 쓰기 모드로 open:\n",
        "f = open('test1.txt', mode = 'wt')\n",
        "\n",
        "# 2. 파일 쓰기:\n",
        "f.write('Hello, python!\\n')\n",
        "f.write('안녕하세요...\\n')\n",
        "f.write('1234567890\\n')\n",
        "\n",
        "# 3. 파일 닫기\n",
        "f.close()"
      ],
      "metadata": {
        "id": "berd9XD9VVgz"
      },
      "execution_count": 15,
      "outputs": []
    },
    {
      "cell_type": "code",
      "source": [
        "# with ~ as 구문: 오픈된 리소스(파일)에서 close() 메서드를 자동으로 호출.\n",
        "with open('test2.txt', 'wt') as f:\n",
        "    f.write('hello\\n')\n",
        "    f.write('즐거운 월요일\\n')"
      ],
      "metadata": {
        "id": "pcmaUoyvXRzy"
      },
      "execution_count": 12,
      "outputs": []
    },
    {
      "cell_type": "markdown",
      "source": [
        "# 파일 읽기\n"
      ],
      "metadata": {
        "id": "XC23QYAYcvwb"
      }
    },
    {
      "cell_type": "code",
      "source": [
        "with open('test1.txt', mode = 'rt') as f:\n",
        "    line = f.readline()\n",
        "    print(line.strip())\n",
        "    # 문자열.strip(): 문자열의 왼쪽과 오른쪽에 있는 공백 문자들(space, tab, 줄바꿈)을 제거.\n",
        "    line = f.readline()\n",
        "    print(line.strip())\n",
        "    line = f.readline()\n",
        "    print(line.strip())"
      ],
      "metadata": {
        "colab": {
          "base_uri": "https://localhost:8080/"
        },
        "id": "dX841UBudjxz",
        "outputId": "a03b2ff6-33dd-45da-a808-040ca57fdc63"
      },
      "execution_count": 19,
      "outputs": [
        {
          "output_type": "stream",
          "name": "stdout",
          "text": [
            "Hello, python!\n",
            "안녕하세요...\n",
            "1234567890\n"
          ]
        }
      ]
    },
    {
      "cell_type": "code",
      "source": [
        "with open('test2.txt', mode = 'rt') as f:\n",
        "    for line in f:\n",
        "        # 파일의 처음부터 끝까지 readline()을 호출\n",
        "        print(line)"
      ],
      "metadata": {
        "colab": {
          "base_uri": "https://localhost:8080/"
        },
        "id": "zSykHsTkgBQ0",
        "outputId": "41ab1b51-6243-48ec-a3a3-71400ff45c58"
      },
      "execution_count": 21,
      "outputs": [
        {
          "output_type": "stream",
          "name": "stdout",
          "text": [
            "hello\n",
            "\n",
            "즐거운 월요일\n",
            "\n"
          ]
        }
      ]
    },
    {
      "cell_type": "markdown",
      "source": [
        "지금까지의 과정은 Google Colab에서 할당받은 가상머신(개발환경)의 하드디스트에 파일을 쓰고, 파일을 읽는 기능을 수행한 것임.\n",
        "\n",
        "Google Colab과 연결이 끊어진 후 재연결(가상머신 재할당)을 하면, 가상머신의 리소스(RAM, HDD, CPU,...)들은 초기화 됨. 저장했던 파일들도 모두 삭제됨.\n",
        "\n",
        "파일을 개인 Google 드라이브에 저장하고 읽은 방법이 제공됨."
      ],
      "metadata": {
        "id": "3_YOCeTUg7pL"
      }
    },
    {
      "cell_type": "markdown",
      "source": [
        "# Colab 가상머신에서 구글 드라이브 연결(Mount)"
      ],
      "metadata": {
        "id": "RAg3EvzUiBqM"
      }
    },
    {
      "cell_type": "code",
      "source": [
        "# 구글 드라이브 폴더 경로\n",
        "dir_path = '/content/drive/MyDrive/Colab Notebooks/lab_python'\n",
        "# 저장할 파일 이름\n",
        "file_name = 'test.txt'"
      ],
      "metadata": {
        "id": "T8kNpKbYilFs"
      },
      "execution_count": 31,
      "outputs": []
    },
    {
      "cell_type": "code",
      "source": [
        "import os # os 모듈 임포트: os.path.join() 함수 이용하기 위해서"
      ],
      "metadata": {
        "id": "tudsLd6PkA1c"
      },
      "execution_count": 37,
      "outputs": []
    },
    {
      "cell_type": "code",
      "source": [
        "file = os.path.join(dir_path, file_name)\n",
        "file"
      ],
      "metadata": {
        "colab": {
          "base_uri": "https://localhost:8080/",
          "height": 35
        },
        "id": "tBqJJJVXkLyu",
        "outputId": "b2d1d0c6-a1d8-4cff-fe08-1dbc6a36895e"
      },
      "execution_count": 39,
      "outputs": [
        {
          "output_type": "execute_result",
          "data": {
            "text/plain": [
              "'/content/drive/MyDrive/Colab Notebooks/lab_python/test.txt'"
            ],
            "application/vnd.google.colaboratory.intrinsic+json": {
              "type": "string"
            }
          },
          "metadata": {},
          "execution_count": 39
        }
      ]
    },
    {
      "cell_type": "code",
      "source": [
        "with open(file, mode = 'wt') as f:\n",
        "    f.write('admin@test.com\\n')\n",
        "    f.write('test@itwill.co.kr\\n')\n",
        "    f.write('jake@gmail.com\\n')"
      ],
      "metadata": {
        "id": "UZ099dk_khit"
      },
      "execution_count": 40,
      "outputs": []
    },
    {
      "cell_type": "code",
      "source": [
        "with open(file, mode='rt') as f:\n",
        "    for line in f:\n",
        "        print(line.strip())"
      ],
      "metadata": {
        "colab": {
          "base_uri": "https://localhost:8080/"
        },
        "id": "nRFIwGeIlSp0",
        "outputId": "a2f9b651-b660-48d0-8fcb-17ae7c1b713c"
      },
      "execution_count": 41,
      "outputs": [
        {
          "output_type": "stream",
          "name": "stdout",
          "text": [
            "admin@test.com\n",
            "test@itwill.co.kr\n",
            "jake@gmail.com\n"
          ]
        }
      ]
    }
  ]
}